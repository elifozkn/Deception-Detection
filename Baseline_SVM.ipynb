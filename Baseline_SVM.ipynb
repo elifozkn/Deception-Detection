{
  "cells": [
    {
      "cell_type": "code",
      "execution_count": 1,
      "id": "36b7487c",
      "metadata": {
        "scrolled": true,
        "tags": [],
        "colab": {
          "base_uri": "https://localhost:8080/"
        },
        "id": "36b7487c",
        "outputId": "a4e66d56-087b-49fc-db9c-d56e29976bc9"
      },
      "outputs": [
        {
          "output_type": "stream",
          "name": "stderr",
          "text": [
            "[nltk_data] Downloading package sentiwordnet to /root/nltk_data...\n",
            "[nltk_data]   Package sentiwordnet is already up-to-date!\n",
            "[nltk_data] Downloading package punkt to /root/nltk_data...\n",
            "[nltk_data]   Package punkt is already up-to-date!\n"
          ]
        }
      ],
      "source": [
        "import os\n",
        "import librosa\n",
        "import numpy as np\n",
        "import pandas as pd\n",
        "import IPython.display as ipd\n",
        "import matplotlib.pyplot as plt\n",
        "from tqdm import tqdm\n",
        "import re\n",
        "import spacy\n",
        "import string\n",
        "import nltk\n",
        "from nltk.tokenize import word_tokenize, sent_tokenize\n",
        "from nltk.corpus import sentiwordnet as swn\n",
        "\n",
        "from sklearn.svm import SVC\n",
        "from sklearn.model_selection import train_test_split\n",
        "from sklearn.preprocessing import StandardScaler\n",
        "from sklearn.metrics import confusion_matrix, f1_score, accuracy_score, classification_report\n",
        "from sklearn.metrics.pairwise import cosine_similarity\n",
        "from sklearn.model_selection import StratifiedKFold, KFold\n",
        "import en_core_web_sm\n",
        "nltk.download(\"sentiwordnet\")\n",
        "nltk.download('punkt')\n",
        "nlp = en_core_web_sm.load()\n",
        "\n",
        "# new packages to combine\n",
        "from sklearn.ensemble import VotingClassifier\n",
        "\n",
        "import warnings\n",
        "from sklearn.exceptions import ConvergenceWarning\n",
        "\n",
        "# Ignore all warnings\n",
        "warnings.filterwarnings(\"ignore\")\n",
        "\n",
        "# Ignore specific warnings\n",
        "# For example, to ignore ConvergenceWarning:\n",
        "warnings.filterwarnings(\"ignore\", category=ConvergenceWarning)"
      ]
    },
    {
      "cell_type": "markdown",
      "id": "c09b22d7",
      "metadata": {
        "id": "c09b22d7"
      },
      "source": [
        "# Preparing dataset (uncomment for first time)"
      ]
    },
    {
      "cell_type": "code",
      "source": [
        "from google.colab import drive\n",
        "drive.mount('/content/drive')"
      ],
      "metadata": {
        "colab": {
          "base_uri": "https://localhost:8080/"
        },
        "id": "cGPbTRzWamNv",
        "outputId": "79ab25ba-8e94-45ce-cde9-c9ec727ebb96"
      },
      "id": "cGPbTRzWamNv",
      "execution_count": 2,
      "outputs": [
        {
          "output_type": "stream",
          "name": "stdout",
          "text": [
            "Drive already mounted at /content/drive; to attempt to forcibly remount, call drive.mount(\"/content/drive\", force_remount=True).\n"
          ]
        }
      ]
    },
    {
      "cell_type": "code",
      "execution_count": 3,
      "id": "ffa31122-cd85-470b-aa65-939f1ef23b05",
      "metadata": {
        "id": "ffa31122-cd85-470b-aa65-939f1ef23b05"
      },
      "outputs": [],
      "source": [
        "def create_data_array(audio_dir, text_dir):\n",
        "    data_array = []\n",
        "    audio_files = os.listdir(audio_dir)\n",
        "    for audio_file in audio_files:\n",
        "        audio_path = os.path.join(audio_dir, audio_file)\n",
        "        text_file = audio_file.replace('.wav', '.txt')\n",
        "        text_path = os.path.join(text_dir, text_file)\n",
        "\n",
        "        if audio_file == 'metadata.csv':\n",
        "          continue\n",
        "\n",
        "        if 'truth' in audio_path:\n",
        "          label = 0\n",
        "        elif 'lie' in audio_path:\n",
        "          label =1\n",
        "\n",
        "        data = {\n",
        "            'audio_path': audio_path,\n",
        "            'text_path': text_path,\n",
        "            'label': label\n",
        "        }\n",
        "\n",
        "        data_array.append(data)\n",
        "    return data_array\n"
      ]
    },
    {
      "cell_type": "code",
      "execution_count": 4,
      "id": "e7e8405d-8a4c-40db-a6c9-e2f0feba6e23",
      "metadata": {
        "colab": {
          "base_uri": "https://localhost:8080/"
        },
        "id": "e7e8405d-8a4c-40db-a6c9-e2f0feba6e23",
        "outputId": "f472e62b-f743-4ec2-98af-6dfa4d940ba8"
      },
      "outputs": [
        {
          "output_type": "execute_result",
          "data": {
            "text/plain": [
              "[{'audio_path': '/content/drive/MyDrive/all_audio/trial_truth_052.wav',\n",
              "  'text_path': '/content/drive/MyDrive/all_text/trial_truth_052.txt',\n",
              "  'label': 0},\n",
              " {'audio_path': '/content/drive/MyDrive/all_audio/trial_truth_002.wav',\n",
              "  'text_path': '/content/drive/MyDrive/all_text/trial_truth_002.txt',\n",
              "  'label': 0},\n",
              " {'audio_path': '/content/drive/MyDrive/all_audio/trial_truth_038.wav',\n",
              "  'text_path': '/content/drive/MyDrive/all_text/trial_truth_038.txt',\n",
              "  'label': 0},\n",
              " {'audio_path': '/content/drive/MyDrive/all_audio/trial_lie_055.wav',\n",
              "  'text_path': '/content/drive/MyDrive/all_text/trial_lie_055.txt',\n",
              "  'label': 1},\n",
              " {'audio_path': '/content/drive/MyDrive/all_audio/trial_truth_023.wav',\n",
              "  'text_path': '/content/drive/MyDrive/all_text/trial_truth_023.txt',\n",
              "  'label': 0},\n",
              " {'audio_path': '/content/drive/MyDrive/all_audio/trial_truth_035.wav',\n",
              "  'text_path': '/content/drive/MyDrive/all_text/trial_truth_035.txt',\n",
              "  'label': 0},\n",
              " {'audio_path': '/content/drive/MyDrive/all_audio/trial_lie_018.wav',\n",
              "  'text_path': '/content/drive/MyDrive/all_text/trial_lie_018.txt',\n",
              "  'label': 1},\n",
              " {'audio_path': '/content/drive/MyDrive/all_audio/trial_lie_043.wav',\n",
              "  'text_path': '/content/drive/MyDrive/all_text/trial_lie_043.txt',\n",
              "  'label': 1},\n",
              " {'audio_path': '/content/drive/MyDrive/all_audio/trial_truth_021.wav',\n",
              "  'text_path': '/content/drive/MyDrive/all_text/trial_truth_021.txt',\n",
              "  'label': 0},\n",
              " {'audio_path': '/content/drive/MyDrive/all_audio/trial_truth_010.wav',\n",
              "  'text_path': '/content/drive/MyDrive/all_text/trial_truth_010.txt',\n",
              "  'label': 0},\n",
              " {'audio_path': '/content/drive/MyDrive/all_audio/trial_lie_035.wav',\n",
              "  'text_path': '/content/drive/MyDrive/all_text/trial_lie_035.txt',\n",
              "  'label': 1},\n",
              " {'audio_path': '/content/drive/MyDrive/all_audio/trial_truth_026.wav',\n",
              "  'text_path': '/content/drive/MyDrive/all_text/trial_truth_026.txt',\n",
              "  'label': 0},\n",
              " {'audio_path': '/content/drive/MyDrive/all_audio/trial_lie_036.wav',\n",
              "  'text_path': '/content/drive/MyDrive/all_text/trial_lie_036.txt',\n",
              "  'label': 1},\n",
              " {'audio_path': '/content/drive/MyDrive/all_audio/trial_lie_051.wav',\n",
              "  'text_path': '/content/drive/MyDrive/all_text/trial_lie_051.txt',\n",
              "  'label': 1},\n",
              " {'audio_path': '/content/drive/MyDrive/all_audio/trial_truth_032.wav',\n",
              "  'text_path': '/content/drive/MyDrive/all_text/trial_truth_032.txt',\n",
              "  'label': 0},\n",
              " {'audio_path': '/content/drive/MyDrive/all_audio/trial_lie_017.wav',\n",
              "  'text_path': '/content/drive/MyDrive/all_text/trial_lie_017.txt',\n",
              "  'label': 1},\n",
              " {'audio_path': '/content/drive/MyDrive/all_audio/trial_truth_046.wav',\n",
              "  'text_path': '/content/drive/MyDrive/all_text/trial_truth_046.txt',\n",
              "  'label': 0},\n",
              " {'audio_path': '/content/drive/MyDrive/all_audio/trial_truth_024.wav',\n",
              "  'text_path': '/content/drive/MyDrive/all_text/trial_truth_024.txt',\n",
              "  'label': 0},\n",
              " {'audio_path': '/content/drive/MyDrive/all_audio/trial_lie_022.wav',\n",
              "  'text_path': '/content/drive/MyDrive/all_text/trial_lie_022.txt',\n",
              "  'label': 1},\n",
              " {'audio_path': '/content/drive/MyDrive/all_audio/trial_lie_012.wav',\n",
              "  'text_path': '/content/drive/MyDrive/all_text/trial_lie_012.txt',\n",
              "  'label': 1},\n",
              " {'audio_path': '/content/drive/MyDrive/all_audio/trial_lie_030.wav',\n",
              "  'text_path': '/content/drive/MyDrive/all_text/trial_lie_030.txt',\n",
              "  'label': 1},\n",
              " {'audio_path': '/content/drive/MyDrive/all_audio/trial_lie_029.wav',\n",
              "  'text_path': '/content/drive/MyDrive/all_text/trial_lie_029.txt',\n",
              "  'label': 1},\n",
              " {'audio_path': '/content/drive/MyDrive/all_audio/trial_lie_020.wav',\n",
              "  'text_path': '/content/drive/MyDrive/all_text/trial_lie_020.txt',\n",
              "  'label': 1},\n",
              " {'audio_path': '/content/drive/MyDrive/all_audio/trial_lie_024.wav',\n",
              "  'text_path': '/content/drive/MyDrive/all_text/trial_lie_024.txt',\n",
              "  'label': 1},\n",
              " {'audio_path': '/content/drive/MyDrive/all_audio/trial_truth_037.wav',\n",
              "  'text_path': '/content/drive/MyDrive/all_text/trial_truth_037.txt',\n",
              "  'label': 0},\n",
              " {'audio_path': '/content/drive/MyDrive/all_audio/trial_lie_058.wav',\n",
              "  'text_path': '/content/drive/MyDrive/all_text/trial_lie_058.txt',\n",
              "  'label': 1},\n",
              " {'audio_path': '/content/drive/MyDrive/all_audio/trial_truth_031.wav',\n",
              "  'text_path': '/content/drive/MyDrive/all_text/trial_truth_031.txt',\n",
              "  'label': 0},\n",
              " {'audio_path': '/content/drive/MyDrive/all_audio/trial_lie_028.wav',\n",
              "  'text_path': '/content/drive/MyDrive/all_text/trial_lie_028.txt',\n",
              "  'label': 1},\n",
              " {'audio_path': '/content/drive/MyDrive/all_audio/trial_truth_041.wav',\n",
              "  'text_path': '/content/drive/MyDrive/all_text/trial_truth_041.txt',\n",
              "  'label': 0},\n",
              " {'audio_path': '/content/drive/MyDrive/all_audio/trial_truth_056.wav',\n",
              "  'text_path': '/content/drive/MyDrive/all_text/trial_truth_056.txt',\n",
              "  'label': 0},\n",
              " {'audio_path': '/content/drive/MyDrive/all_audio/trial_lie_005.wav',\n",
              "  'text_path': '/content/drive/MyDrive/all_text/trial_lie_005.txt',\n",
              "  'label': 1},\n",
              " {'audio_path': '/content/drive/MyDrive/all_audio/trial_truth_048.wav',\n",
              "  'text_path': '/content/drive/MyDrive/all_text/trial_truth_048.txt',\n",
              "  'label': 0},\n",
              " {'audio_path': '/content/drive/MyDrive/all_audio/trial_lie_002.wav',\n",
              "  'text_path': '/content/drive/MyDrive/all_text/trial_lie_002.txt',\n",
              "  'label': 1},\n",
              " {'audio_path': '/content/drive/MyDrive/all_audio/trial_truth_017.wav',\n",
              "  'text_path': '/content/drive/MyDrive/all_text/trial_truth_017.txt',\n",
              "  'label': 0},\n",
              " {'audio_path': '/content/drive/MyDrive/all_audio/trial_lie_006.wav',\n",
              "  'text_path': '/content/drive/MyDrive/all_text/trial_lie_006.txt',\n",
              "  'label': 1},\n",
              " {'audio_path': '/content/drive/MyDrive/all_audio/trial_truth_044.wav',\n",
              "  'text_path': '/content/drive/MyDrive/all_text/trial_truth_044.txt',\n",
              "  'label': 0},\n",
              " {'audio_path': '/content/drive/MyDrive/all_audio/trial_truth_020.wav',\n",
              "  'text_path': '/content/drive/MyDrive/all_text/trial_truth_020.txt',\n",
              "  'label': 0},\n",
              " {'audio_path': '/content/drive/MyDrive/all_audio/trial_lie_052.wav',\n",
              "  'text_path': '/content/drive/MyDrive/all_text/trial_lie_052.txt',\n",
              "  'label': 1},\n",
              " {'audio_path': '/content/drive/MyDrive/all_audio/trial_truth_059.wav',\n",
              "  'text_path': '/content/drive/MyDrive/all_text/trial_truth_059.txt',\n",
              "  'label': 0},\n",
              " {'audio_path': '/content/drive/MyDrive/all_audio/trial_truth_013.wav',\n",
              "  'text_path': '/content/drive/MyDrive/all_text/trial_truth_013.txt',\n",
              "  'label': 0},\n",
              " {'audio_path': '/content/drive/MyDrive/all_audio/trial_truth_058.wav',\n",
              "  'text_path': '/content/drive/MyDrive/all_text/trial_truth_058.txt',\n",
              "  'label': 0},\n",
              " {'audio_path': '/content/drive/MyDrive/all_audio/trial_lie_009.wav',\n",
              "  'text_path': '/content/drive/MyDrive/all_text/trial_lie_009.txt',\n",
              "  'label': 1},\n",
              " {'audio_path': '/content/drive/MyDrive/all_audio/trial_lie_061.wav',\n",
              "  'text_path': '/content/drive/MyDrive/all_text/trial_lie_061.txt',\n",
              "  'label': 1},\n",
              " {'audio_path': '/content/drive/MyDrive/all_audio/trial_truth_049.wav',\n",
              "  'text_path': '/content/drive/MyDrive/all_text/trial_truth_049.txt',\n",
              "  'label': 0},\n",
              " {'audio_path': '/content/drive/MyDrive/all_audio/trial_lie_007.wav',\n",
              "  'text_path': '/content/drive/MyDrive/all_text/trial_lie_007.txt',\n",
              "  'label': 1},\n",
              " {'audio_path': '/content/drive/MyDrive/all_audio/trial_truth_018.wav',\n",
              "  'text_path': '/content/drive/MyDrive/all_text/trial_truth_018.txt',\n",
              "  'label': 0},\n",
              " {'audio_path': '/content/drive/MyDrive/all_audio/trial_lie_041.wav',\n",
              "  'text_path': '/content/drive/MyDrive/all_text/trial_lie_041.txt',\n",
              "  'label': 1},\n",
              " {'audio_path': '/content/drive/MyDrive/all_audio/trial_truth_051.wav',\n",
              "  'text_path': '/content/drive/MyDrive/all_text/trial_truth_051.txt',\n",
              "  'label': 0},\n",
              " {'audio_path': '/content/drive/MyDrive/all_audio/trial_truth_029.wav',\n",
              "  'text_path': '/content/drive/MyDrive/all_text/trial_truth_029.txt',\n",
              "  'label': 0},\n",
              " {'audio_path': '/content/drive/MyDrive/all_audio/trial_truth_022.wav',\n",
              "  'text_path': '/content/drive/MyDrive/all_text/trial_truth_022.txt',\n",
              "  'label': 0},\n",
              " {'audio_path': '/content/drive/MyDrive/all_audio/trial_lie_038.wav',\n",
              "  'text_path': '/content/drive/MyDrive/all_text/trial_lie_038.txt',\n",
              "  'label': 1},\n",
              " {'audio_path': '/content/drive/MyDrive/all_audio/trial_lie_045.wav',\n",
              "  'text_path': '/content/drive/MyDrive/all_text/trial_lie_045.txt',\n",
              "  'label': 1},\n",
              " {'audio_path': '/content/drive/MyDrive/all_audio/trial_lie_059.wav',\n",
              "  'text_path': '/content/drive/MyDrive/all_text/trial_lie_059.txt',\n",
              "  'label': 1},\n",
              " {'audio_path': '/content/drive/MyDrive/all_audio/trial_lie_019.wav',\n",
              "  'text_path': '/content/drive/MyDrive/all_text/trial_lie_019.txt',\n",
              "  'label': 1},\n",
              " {'audio_path': '/content/drive/MyDrive/all_audio/trial_truth_003.wav',\n",
              "  'text_path': '/content/drive/MyDrive/all_text/trial_truth_003.txt',\n",
              "  'label': 0},\n",
              " {'audio_path': '/content/drive/MyDrive/all_audio/trial_truth_030.wav',\n",
              "  'text_path': '/content/drive/MyDrive/all_text/trial_truth_030.txt',\n",
              "  'label': 0},\n",
              " {'audio_path': '/content/drive/MyDrive/all_audio/trial_truth_040.wav',\n",
              "  'text_path': '/content/drive/MyDrive/all_text/trial_truth_040.txt',\n",
              "  'label': 0},\n",
              " {'audio_path': '/content/drive/MyDrive/all_audio/trial_lie_014.wav',\n",
              "  'text_path': '/content/drive/MyDrive/all_text/trial_lie_014.txt',\n",
              "  'label': 1},\n",
              " {'audio_path': '/content/drive/MyDrive/all_audio/trial_lie_001.wav',\n",
              "  'text_path': '/content/drive/MyDrive/all_text/trial_lie_001.txt',\n",
              "  'label': 1},\n",
              " {'audio_path': '/content/drive/MyDrive/all_audio/trial_truth_005.wav',\n",
              "  'text_path': '/content/drive/MyDrive/all_text/trial_truth_005.txt',\n",
              "  'label': 0},\n",
              " {'audio_path': '/content/drive/MyDrive/all_audio/trial_lie_011.wav',\n",
              "  'text_path': '/content/drive/MyDrive/all_text/trial_lie_011.txt',\n",
              "  'label': 1},\n",
              " {'audio_path': '/content/drive/MyDrive/all_audio/trial_lie_056.wav',\n",
              "  'text_path': '/content/drive/MyDrive/all_text/trial_lie_056.txt',\n",
              "  'label': 1},\n",
              " {'audio_path': '/content/drive/MyDrive/all_audio/trial_truth_015.wav',\n",
              "  'text_path': '/content/drive/MyDrive/all_text/trial_truth_015.txt',\n",
              "  'label': 0},\n",
              " {'audio_path': '/content/drive/MyDrive/all_audio/trial_truth_033.wav',\n",
              "  'text_path': '/content/drive/MyDrive/all_text/trial_truth_033.txt',\n",
              "  'label': 0},\n",
              " {'audio_path': '/content/drive/MyDrive/all_audio/trial_truth_055.wav',\n",
              "  'text_path': '/content/drive/MyDrive/all_text/trial_truth_055.txt',\n",
              "  'label': 0},\n",
              " {'audio_path': '/content/drive/MyDrive/all_audio/trial_lie_033.wav',\n",
              "  'text_path': '/content/drive/MyDrive/all_text/trial_lie_033.txt',\n",
              "  'label': 1},\n",
              " {'audio_path': '/content/drive/MyDrive/all_audio/trial_truth_009.wav',\n",
              "  'text_path': '/content/drive/MyDrive/all_text/trial_truth_009.txt',\n",
              "  'label': 0},\n",
              " {'audio_path': '/content/drive/MyDrive/all_audio/trial_lie_054.wav',\n",
              "  'text_path': '/content/drive/MyDrive/all_text/trial_lie_054.txt',\n",
              "  'label': 1},\n",
              " {'audio_path': '/content/drive/MyDrive/all_audio/trial_lie_046.wav',\n",
              "  'text_path': '/content/drive/MyDrive/all_text/trial_lie_046.txt',\n",
              "  'label': 1},\n",
              " {'audio_path': '/content/drive/MyDrive/all_audio/trial_truth_014.wav',\n",
              "  'text_path': '/content/drive/MyDrive/all_text/trial_truth_014.txt',\n",
              "  'label': 0},\n",
              " {'audio_path': '/content/drive/MyDrive/all_audio/trial_lie_021.wav',\n",
              "  'text_path': '/content/drive/MyDrive/all_text/trial_lie_021.txt',\n",
              "  'label': 1},\n",
              " {'audio_path': '/content/drive/MyDrive/all_audio/trial_truth_004.wav',\n",
              "  'text_path': '/content/drive/MyDrive/all_text/trial_truth_004.txt',\n",
              "  'label': 0},\n",
              " {'audio_path': '/content/drive/MyDrive/all_audio/trial_truth_008.wav',\n",
              "  'text_path': '/content/drive/MyDrive/all_text/trial_truth_008.txt',\n",
              "  'label': 0},\n",
              " {'audio_path': '/content/drive/MyDrive/all_audio/trial_truth_028.wav',\n",
              "  'text_path': '/content/drive/MyDrive/all_text/trial_truth_028.txt',\n",
              "  'label': 0},\n",
              " {'audio_path': '/content/drive/MyDrive/all_audio/trial_truth_045.wav',\n",
              "  'text_path': '/content/drive/MyDrive/all_text/trial_truth_045.txt',\n",
              "  'label': 0},\n",
              " {'audio_path': '/content/drive/MyDrive/all_audio/trial_lie_023.wav',\n",
              "  'text_path': '/content/drive/MyDrive/all_text/trial_lie_023.txt',\n",
              "  'label': 1},\n",
              " {'audio_path': '/content/drive/MyDrive/all_audio/trial_truth_047.wav',\n",
              "  'text_path': '/content/drive/MyDrive/all_text/trial_truth_047.txt',\n",
              "  'label': 0},\n",
              " {'audio_path': '/content/drive/MyDrive/all_audio/trial_truth_007.wav',\n",
              "  'text_path': '/content/drive/MyDrive/all_text/trial_truth_007.txt',\n",
              "  'label': 0},\n",
              " {'audio_path': '/content/drive/MyDrive/all_audio/trial_truth_011.wav',\n",
              "  'text_path': '/content/drive/MyDrive/all_text/trial_truth_011.txt',\n",
              "  'label': 0},\n",
              " {'audio_path': '/content/drive/MyDrive/all_audio/trial_lie_003.wav',\n",
              "  'text_path': '/content/drive/MyDrive/all_text/trial_lie_003.txt',\n",
              "  'label': 1},\n",
              " {'audio_path': '/content/drive/MyDrive/all_audio/trial_lie_037.wav',\n",
              "  'text_path': '/content/drive/MyDrive/all_text/trial_lie_037.txt',\n",
              "  'label': 1},\n",
              " {'audio_path': '/content/drive/MyDrive/all_audio/trial_truth_042.wav',\n",
              "  'text_path': '/content/drive/MyDrive/all_text/trial_truth_042.txt',\n",
              "  'label': 0},\n",
              " {'audio_path': '/content/drive/MyDrive/all_audio/trial_truth_027.wav',\n",
              "  'text_path': '/content/drive/MyDrive/all_text/trial_truth_027.txt',\n",
              "  'label': 0},\n",
              " {'audio_path': '/content/drive/MyDrive/all_audio/trial_truth_001.wav',\n",
              "  'text_path': '/content/drive/MyDrive/all_text/trial_truth_001.txt',\n",
              "  'label': 0},\n",
              " {'audio_path': '/content/drive/MyDrive/all_audio/trial_lie_039.wav',\n",
              "  'text_path': '/content/drive/MyDrive/all_text/trial_lie_039.txt',\n",
              "  'label': 1},\n",
              " {'audio_path': '/content/drive/MyDrive/all_audio/trial_lie_040.wav',\n",
              "  'text_path': '/content/drive/MyDrive/all_text/trial_lie_040.txt',\n",
              "  'label': 1},\n",
              " {'audio_path': '/content/drive/MyDrive/all_audio/trial_lie_004.wav',\n",
              "  'text_path': '/content/drive/MyDrive/all_text/trial_lie_004.txt',\n",
              "  'label': 1},\n",
              " {'audio_path': '/content/drive/MyDrive/all_audio/trial_truth_057.wav',\n",
              "  'text_path': '/content/drive/MyDrive/all_text/trial_truth_057.txt',\n",
              "  'label': 0},\n",
              " {'audio_path': '/content/drive/MyDrive/all_audio/trial_lie_060.wav',\n",
              "  'text_path': '/content/drive/MyDrive/all_text/trial_lie_060.txt',\n",
              "  'label': 1},\n",
              " {'audio_path': '/content/drive/MyDrive/all_audio/trial_truth_016.wav',\n",
              "  'text_path': '/content/drive/MyDrive/all_text/trial_truth_016.txt',\n",
              "  'label': 0},\n",
              " {'audio_path': '/content/drive/MyDrive/all_audio/trial_truth_060.wav',\n",
              "  'text_path': '/content/drive/MyDrive/all_text/trial_truth_060.txt',\n",
              "  'label': 0},\n",
              " {'audio_path': '/content/drive/MyDrive/all_audio/trial_lie_049.wav',\n",
              "  'text_path': '/content/drive/MyDrive/all_text/trial_lie_049.txt',\n",
              "  'label': 1},\n",
              " {'audio_path': '/content/drive/MyDrive/all_audio/trial_truth_053.wav',\n",
              "  'text_path': '/content/drive/MyDrive/all_text/trial_truth_053.txt',\n",
              "  'label': 0},\n",
              " {'audio_path': '/content/drive/MyDrive/all_audio/trial_lie_044.wav',\n",
              "  'text_path': '/content/drive/MyDrive/all_text/trial_lie_044.txt',\n",
              "  'label': 1},\n",
              " {'audio_path': '/content/drive/MyDrive/all_audio/trial_lie_008.wav',\n",
              "  'text_path': '/content/drive/MyDrive/all_text/trial_lie_008.txt',\n",
              "  'label': 1},\n",
              " {'audio_path': '/content/drive/MyDrive/all_audio/trial_lie_025.wav',\n",
              "  'text_path': '/content/drive/MyDrive/all_text/trial_lie_025.txt',\n",
              "  'label': 1},\n",
              " {'audio_path': '/content/drive/MyDrive/all_audio/trial_lie_013.wav',\n",
              "  'text_path': '/content/drive/MyDrive/all_text/trial_lie_013.txt',\n",
              "  'label': 1},\n",
              " {'audio_path': '/content/drive/MyDrive/all_audio/trial_lie_010.wav',\n",
              "  'text_path': '/content/drive/MyDrive/all_text/trial_lie_010.txt',\n",
              "  'label': 1},\n",
              " {'audio_path': '/content/drive/MyDrive/all_audio/trial_lie_034.wav',\n",
              "  'text_path': '/content/drive/MyDrive/all_text/trial_lie_034.txt',\n",
              "  'label': 1},\n",
              " {'audio_path': '/content/drive/MyDrive/all_audio/trial_truth_050.wav',\n",
              "  'text_path': '/content/drive/MyDrive/all_text/trial_truth_050.txt',\n",
              "  'label': 0},\n",
              " {'audio_path': '/content/drive/MyDrive/all_audio/trial_truth_025.wav',\n",
              "  'text_path': '/content/drive/MyDrive/all_text/trial_truth_025.txt',\n",
              "  'label': 0},\n",
              " {'audio_path': '/content/drive/MyDrive/all_audio/trial_lie_042.wav',\n",
              "  'text_path': '/content/drive/MyDrive/all_text/trial_lie_042.txt',\n",
              "  'label': 1},\n",
              " {'audio_path': '/content/drive/MyDrive/all_audio/trial_truth_036.wav',\n",
              "  'text_path': '/content/drive/MyDrive/all_text/trial_truth_036.txt',\n",
              "  'label': 0},\n",
              " {'audio_path': '/content/drive/MyDrive/all_audio/trial_lie_050.wav',\n",
              "  'text_path': '/content/drive/MyDrive/all_text/trial_lie_050.txt',\n",
              "  'label': 1},\n",
              " {'audio_path': '/content/drive/MyDrive/all_audio/trial_lie_026.wav',\n",
              "  'text_path': '/content/drive/MyDrive/all_text/trial_lie_026.txt',\n",
              "  'label': 1},\n",
              " {'audio_path': '/content/drive/MyDrive/all_audio/trial_lie_027.wav',\n",
              "  'text_path': '/content/drive/MyDrive/all_text/trial_lie_027.txt',\n",
              "  'label': 1},\n",
              " {'audio_path': '/content/drive/MyDrive/all_audio/trial_truth_054.wav',\n",
              "  'text_path': '/content/drive/MyDrive/all_text/trial_truth_054.txt',\n",
              "  'label': 0},\n",
              " {'audio_path': '/content/drive/MyDrive/all_audio/trial_truth_043.wav',\n",
              "  'text_path': '/content/drive/MyDrive/all_text/trial_truth_043.txt',\n",
              "  'label': 0},\n",
              " {'audio_path': '/content/drive/MyDrive/all_audio/trial_truth_039.wav',\n",
              "  'text_path': '/content/drive/MyDrive/all_text/trial_truth_039.txt',\n",
              "  'label': 0},\n",
              " {'audio_path': '/content/drive/MyDrive/all_audio/trial_truth_006.wav',\n",
              "  'text_path': '/content/drive/MyDrive/all_text/trial_truth_006.txt',\n",
              "  'label': 0},\n",
              " {'audio_path': '/content/drive/MyDrive/all_audio/trial_truth_019.wav',\n",
              "  'text_path': '/content/drive/MyDrive/all_text/trial_truth_019.txt',\n",
              "  'label': 0},\n",
              " {'audio_path': '/content/drive/MyDrive/all_audio/trial_lie_053.wav',\n",
              "  'text_path': '/content/drive/MyDrive/all_text/trial_lie_053.txt',\n",
              "  'label': 1},\n",
              " {'audio_path': '/content/drive/MyDrive/all_audio/trial_lie_057.wav',\n",
              "  'text_path': '/content/drive/MyDrive/all_text/trial_lie_057.txt',\n",
              "  'label': 1},\n",
              " {'audio_path': '/content/drive/MyDrive/all_audio/trial_truth_034.wav',\n",
              "  'text_path': '/content/drive/MyDrive/all_text/trial_truth_034.txt',\n",
              "  'label': 0},\n",
              " {'audio_path': '/content/drive/MyDrive/all_audio/trial_truth_012.wav',\n",
              "  'text_path': '/content/drive/MyDrive/all_text/trial_truth_012.txt',\n",
              "  'label': 0}]"
            ]
          },
          "metadata": {},
          "execution_count": 4
        }
      ],
      "source": [
        "audio_dir = '/content/drive/MyDrive/all_audio'\n",
        "audio_files = os.listdir(audio_dir)\n",
        "\n",
        "text_dir = '/content/drive/MyDrive/all_text'\n",
        "text_files = os.listdir(text_dir)\n",
        "\n",
        "\n",
        "data_ = create_data_array(audio_dir,text_dir)\n",
        "data_\n"
      ]
    },
    {
      "cell_type": "markdown",
      "id": "f2cf9e26",
      "metadata": {
        "id": "f2cf9e26"
      },
      "source": [
        "# Functions for Text Features"
      ]
    },
    {
      "cell_type": "code",
      "execution_count": 6,
      "id": "d59dd241",
      "metadata": {
        "id": "d59dd241"
      },
      "outputs": [],
      "source": [
        "glove_file = \"/content/drive/MyDrive/INTERSPEECH /glove.6B.50d.txt\"\n",
        "filler_words1 = ['like','well','actually','basically','honestly','anyway','right','i mean','sort of','kind of','just',\\\n",
        "                      'i guess']\n",
        "filler_words2 = ['um','uh','hm','ah','so','ok']\n",
        "first_person_pronounces = ['i','we','me']\n",
        "third_person_pronounces = ['he','she','they']\n",
        "informal_words = ['gonna', 'wanna', 'gotta', \"ain't\", 'gonna', 'dunno', 'kinda', 'sorta',\n",
        "                     'shoulda', 'coulda', 'woulda', \"might've\", \"must've\", 'oughta', 'gonna', 'ya',\n",
        "                     \"ya'll\", 'wanna', 'gonna', 'gonna']\n",
        "formal_prons=['we','they','their','theirs','themselves','us','our','ours','ourselves','it','its','itself']\n",
        "informal_prons=['I','you','me','my','mine','your','yours','myself','yourself','yourselves']\n",
        "\n",
        "flatten = lambda l: [item for sublist in l for item in sublist]\n",
        "nltk_to_sentiwordnet = {\n",
        "    \"NN\": \"n\",\n",
        "    \"VB\": \"v\",\n",
        "    \"JJ\": \"a\",\n",
        "    \"RB\": \"r\",\n",
        "}"
      ]
    },
    {
      "cell_type": "code",
      "execution_count": 7,
      "id": "2a4b4311",
      "metadata": {
        "id": "2a4b4311"
      },
      "outputs": [],
      "source": [
        "def load_glove_model(glove_file):\n",
        "    print(\"Loading GloVe Model\")\n",
        "    with open(glove_file, encoding='utf8') as f:\n",
        "        content = f.readlines()\n",
        "    model = {}\n",
        "    for line in content:\n",
        "        split_line = line.split()\n",
        "        word = split_line[0]\n",
        "        embedding = np.array([float(val) for val in split_line[1:]])\n",
        "        model[word] = embedding\n",
        "    print(\"Done.\", len(model), \" words loaded!\")\n",
        "    return model"
      ]
    },
    {
      "cell_type": "code",
      "execution_count": 8,
      "id": "ac0cd427",
      "metadata": {
        "id": "ac0cd427"
      },
      "outputs": [],
      "source": [
        "def tokenize_text(text):\n",
        "    text = text.lower()\n",
        "    sentences = sent_tokenize(text)\n",
        "    words = [word_tokenize(sentence) for sentence in sentences]\n",
        "    return sentences,words"
      ]
    },
    {
      "cell_type": "code",
      "execution_count": 9,
      "id": "975e4644",
      "metadata": {
        "id": "975e4644"
      },
      "outputs": [],
      "source": [
        "def is_valid_word(word):\n",
        "    pattern = r'\\b' + re.escape(word) + r'\\b'\n",
        "    is_word = re.match(pattern, word, flags=re.IGNORECASE)\n",
        "    return bool(is_word)\n",
        "\n",
        "def get_valid_words(text):\n",
        "    sentences, words = tokenize_text(text)\n",
        "    wordslist = [element for nestedlist in words for element in nestedlist]\n",
        "    words = [word for word in wordslist if is_valid_word(word)]\n",
        "    return words"
      ]
    },
    {
      "cell_type": "code",
      "execution_count": 10,
      "id": "a56d2871",
      "metadata": {
        "id": "a56d2871"
      },
      "outputs": [],
      "source": [
        "def extract_linguistic_complexity(text):\n",
        "    sentences, words = tokenize_text(text)\n",
        "\n",
        "    if len(sentences)!=0:\n",
        "        #Compute average words per sentence\n",
        "        avg_words_per_sent = sum(len(sent.split()) for sent in sentences)/len(sentences)\n",
        "\n",
        "        #Compute average characters per word\n",
        "        valid_words = get_valid_words(text)\n",
        "        avg_characters_per_word = sum(len(word) for word in valid_words)/len(valid_words)\n",
        "\n",
        "        #Compute average characters per sentence\n",
        "        avg_characters_per_sent = sum(len([ele for ele in sent if ele.isalpha() or ele.isdigit()]) for sent in sentences)/len(sentences)\n",
        "\n",
        "        #Compute unique words per total no of words ration\n",
        "        types = set(valid_words)\n",
        "        type_token_ratio = len(types)/len(words)\n",
        "        return avg_words_per_sent,avg_characters_per_word,avg_characters_per_sent, type_token_ratio\n",
        "    else:\n",
        "        return 0,0,0,0"
      ]
    },
    {
      "cell_type": "code",
      "execution_count": 11,
      "id": "87dec2f5",
      "metadata": {
        "id": "87dec2f5"
      },
      "outputs": [],
      "source": [
        "def get_word_embeddings(text, glove_model):\n",
        "    embeddings = []\n",
        "    words = get_valid_words(text)\n",
        "    for word in words:\n",
        "        if word in glove_model:\n",
        "            embeddings.append(glove_model[word])\n",
        "    avg_embeddings = np.mean(embeddings, axis=0)\n",
        "    return np.array(avg_embeddings)"
      ]
    },
    {
      "cell_type": "code",
      "execution_count": 12,
      "id": "5ab4eafb",
      "metadata": {
        "id": "5ab4eafb"
      },
      "outputs": [],
      "source": [
        "def extract_filler_words(text):\n",
        "    text = text.lower()\n",
        "    pattern1 = r'\\b(?:%s)\\b' % '|'.join(filler_words1)\n",
        "    pattern2 = r'\\b(?:%s)\\w*\\b' % '|'.join(filler_words2)\n",
        "    matches1 = re.findall(pattern1, text)\n",
        "    matches2 = re.findall(pattern2, text)\n",
        "    filler_words_count = len(matches1) + len(matches2)\n",
        "    return filler_words_count"
      ]
    },
    {
      "cell_type": "code",
      "execution_count": 13,
      "id": "847d9df8",
      "metadata": {
        "id": "847d9df8"
      },
      "outputs": [],
      "source": [
        "def extract_pronounces(text):\n",
        "    words = get_valid_words(text)\n",
        "    first_person_count = sum(words.count(item) for item in first_person_pronounces)\n",
        "    third_person_count = sum(words.count(item) for item in third_person_pronounces)\n",
        "    return first_person_count, third_person_count"
      ]
    },
    {
      "cell_type": "code",
      "execution_count": 14,
      "id": "962875b4",
      "metadata": {
        "id": "962875b4"
      },
      "outputs": [],
      "source": [
        "# get sentiment score\n",
        "def get_sentiment(text):\n",
        "    pos_scores = []\n",
        "    neg_scores = []\n",
        "    subj_scores = []\n",
        "    sentences, words = tokenize_text(text)\n",
        "    tagged_sentence_words = flatten(nltk.pos_tag_sents(words))\n",
        "\n",
        "    for word, pos in tagged_sentence_words:\n",
        "        swn_pos = nltk_to_sentiwordnet.get(pos[:2], None)\n",
        "        if swn_pos == None:\n",
        "            continue\n",
        "        synsets = list(swn.senti_synsets(word.lower(), pos=swn_pos))\n",
        "\n",
        "        if len(synsets) == 0:\n",
        "            continue\n",
        "\n",
        "        for synset in synsets[:1]:\n",
        "            pos_scores.append(synset.pos_score())\n",
        "            neg_scores.append(synset.neg_score())\n",
        "            subj_scores.append(1 - synset.obj_score())\n",
        "    if sum(subj_scores) == 0:\n",
        "        return 0,0,0\n",
        "    return np.average(pos_scores, weights=subj_scores) , np.average(neg_scores, weights=subj_scores), np.mean(subj_scores)"
      ]
    },
    {
      "cell_type": "code",
      "execution_count": 15,
      "id": "d1377387",
      "metadata": {
        "id": "d1377387"
      },
      "outputs": [],
      "source": [
        "# get coherence score\n",
        "def calculate_coherence(text):\n",
        "    # Tokenize the text into sentences\n",
        "    sentences, words = tokenize_text(text)\n",
        "\n",
        "    if len(sentences)>1:\n",
        "        # Vectorize the sentences\n",
        "        sentence_vectors = [nlp(sent).vector for sent in sentences]\n",
        "\n",
        "        # Calculate cosine similarity between consecutive sentence pairs\n",
        "        similarities = cosine_similarity(sentence_vectors[:-1], sentence_vectors[1:])\n",
        "\n",
        "        # Calculate average similarity as coherence score\n",
        "        coherence = similarities.mean()\n",
        "        return coherence\n",
        "    else:\n",
        "        coherence = 0\n",
        "        num_dependencies = 0\n",
        "        tokens = nlp(text)\n",
        "        for token in tokens:\n",
        "            if token.dep_ != 'punct':  # Ignore punctuation tokens\n",
        "                num_dependencies += 1\n",
        "                if token.dep_ != 'ROOT':  # Ignore root token\n",
        "                    coherence += 1\n",
        "\n",
        "        coherence_score = coherence / num_dependencies if num_dependencies > 0 else 0\n",
        "        return coherence_score\n"
      ]
    },
    {
      "cell_type": "code",
      "execution_count": 16,
      "id": "c301ab11",
      "metadata": {
        "id": "c301ab11"
      },
      "outputs": [],
      "source": [
        "def extract_informal_linguistics(text):\n",
        "    text = text.lower()\n",
        "    pattern1 = r'\\b(?:%s)\\b' % '|'.join(informal_words)\n",
        "    pattern2 = r'\\b(?:%s)\\b' % '|'.join(informal_prons)\n",
        "    informal_words_count = len(re.findall(pattern1, text))\n",
        "    informal_prons_count = len(re.findall(pattern2, text))\n",
        "    valid_words = get_valid_words(text)\n",
        "    informal_words_ratio = informal_words_count/len(valid_words)\n",
        "    informal_prons_ratio = informal_prons_count/len(valid_words)\n",
        "    return informal_words_ratio, informal_prons_ratio"
      ]
    },
    {
      "cell_type": "code",
      "execution_count": 17,
      "id": "2cb905c4",
      "metadata": {
        "id": "2cb905c4"
      },
      "outputs": [],
      "source": [
        "def extract_features_text(glove_model, text_path = 0, text = 0):\n",
        "    if text_path:\n",
        "        with open(text_path, encoding='utf8') as f:\n",
        "            text = f.readline()\n",
        "\n",
        "    glove_features_text = get_word_embeddings(text, glove_model)\n",
        "    linguistic_complexity_features_text = extract_linguistic_complexity(text)\n",
        "    filler_words_features_text = extract_filler_words(text)\n",
        "    pronounces_features_text = extract_pronounces(text)\n",
        "    senti_score1, senti_score2, senti_score3 = get_sentiment(text)\n",
        "    coherence_score = calculate_coherence(text)\n",
        "    informal_words_ratio, informal_prons_ratio  = extract_informal_linguistics(text)\n",
        "    avg_words_per_sent,avg_characters_per_word,avg_characters_per_sent, type_token_ratio = extract_linguistic_complexity(text)\n",
        "    combined_features_text = np.concatenate((glove_features_text,linguistic_complexity_features_text, filler_words_features_text, \\\n",
        "                                        pronounces_features_text, senti_score1, senti_score2, senti_score3, coherence_score, \\\n",
        "                                        informal_words_ratio, informal_prons_ratio, avg_words_per_sent,avg_characters_per_word,\\\n",
        "                                        avg_characters_per_sent, type_token_ratio ), axis=None)\n",
        "    return combined_features_text\n"
      ]
    },
    {
      "cell_type": "markdown",
      "id": "7d29d990",
      "metadata": {
        "id": "7d29d990"
      },
      "source": [
        "# Functions for Audio Features"
      ]
    },
    {
      "cell_type": "code",
      "execution_count": 18,
      "id": "4e7b5524",
      "metadata": {
        "id": "4e7b5524"
      },
      "outputs": [],
      "source": [
        "def extract_mfcc(audio_data,sampling_rate):\n",
        "    mfcc_features_audio = librosa.feature.mfcc(y=audio_data,sr=sampling_rate,n_mfcc=13)\n",
        "    mfcc_scaled_features_audio = np.mean(mfcc_features_audio.T,axis=0)\n",
        "    return mfcc_scaled_features_audio"
      ]
    },
    {
      "cell_type": "code",
      "execution_count": 19,
      "id": "5ae919c6",
      "metadata": {
        "id": "5ae919c6"
      },
      "outputs": [],
      "source": [
        "def extract_spectral_centroid(audio_data,sampling_rate):\n",
        "    spectral_centroids = librosa.feature.spectral_centroid(y=audio_data, sr=sampling_rate)\n",
        "    spectral_centroids_mean = np.mean(spectral_centroids.T,axis=0)\n",
        "    return spectral_centroids_mean"
      ]
    },
    {
      "cell_type": "code",
      "execution_count": 20,
      "id": "fe6a2bc4",
      "metadata": {
        "id": "fe6a2bc4"
      },
      "outputs": [],
      "source": [
        "def extract_spectral_contrast(audio_data,sampling_rate):\n",
        "    spectral_contrast = librosa.feature.spectral_contrast(y=audio_data, sr=sampling_rate)\n",
        "    spectral_contrast_mean = np.mean(spectral_contrast.T,axis=0)\n",
        "    return spectral_contrast_mean"
      ]
    },
    {
      "cell_type": "code",
      "execution_count": 21,
      "id": "3595a11f",
      "metadata": {
        "id": "3595a11f"
      },
      "outputs": [],
      "source": [
        "def extract_spectral_rolloff(audio_data,sampling_rate):\n",
        "    spectral_rolloff = librosa.feature.spectral_rolloff(y=audio_data, sr=sampling_rate)\n",
        "    spectral_rolloff_mean = np.mean(spectral_rolloff.T,axis=0)\n",
        "    return spectral_rolloff_mean\n"
      ]
    },
    {
      "cell_type": "code",
      "execution_count": 22,
      "id": "ac680179",
      "metadata": {
        "id": "ac680179"
      },
      "outputs": [],
      "source": [
        "def extract_spectral_bandwidth(audio_data,sampling_rate):\n",
        "    spectral_bandwidth = librosa.feature.spectral_bandwidth(y=audio_data, sr=sampling_rate)\n",
        "    spectral_bandwidth_mean = np.mean(spectral_bandwidth.T,axis=0)\n",
        "    return spectral_bandwidth_mean"
      ]
    },
    {
      "cell_type": "code",
      "execution_count": 23,
      "id": "b2792923",
      "metadata": {
        "id": "b2792923"
      },
      "outputs": [],
      "source": [
        "def extract_zcr(audio_data):\n",
        "    zcr = librosa.feature.zero_crossing_rate(y=audio_data)\n",
        "    zcr_mean = np.mean(zcr.T,axis=0)\n",
        "    return zcr_mean\n"
      ]
    },
    {
      "cell_type": "code",
      "execution_count": 24,
      "id": "897688ea",
      "metadata": {
        "id": "897688ea"
      },
      "outputs": [],
      "source": [
        "def extract_rms(audio_data):\n",
        "    rms = librosa.feature.rms(y=audio_data)\n",
        "    rms_mean = np.mean(rms.T,axis=0)\n",
        "    return rms_mean"
      ]
    },
    {
      "cell_type": "code",
      "execution_count": 25,
      "id": "8091184d",
      "metadata": {
        "id": "8091184d"
      },
      "outputs": [],
      "source": [
        "def extract_pitch(audio_data, sampling_rate):\n",
        "    pitches = librosa.yin(audio_data, fmin=50, fmax=2000)\n",
        "    pitches_mean = np.mean(pitches.T, axis=0)\n",
        "    return pitches_mean\n"
      ]
    },
    {
      "cell_type": "code",
      "execution_count": 26,
      "id": "8dfe17b3",
      "metadata": {
        "id": "8dfe17b3"
      },
      "outputs": [],
      "source": [
        "def extract_pause_duration(audio_data,sampling_rate):\n",
        "    # Calculate the number of speech frames\n",
        "    speech_frames = librosa.effects.split(audio_data, top_db=20)\n",
        "\n",
        "    # Calculate the pause duration\n",
        "    speech_time = [librosa.samples_to_time(frame, sr=sampling_rate) for frame in speech_frames]\n",
        "    speech_duration = sum(np.subtract(item[1],item[0]) for item in speech_time)\n",
        "\n",
        "    # Calculate the total duration of the audio signal\n",
        "    total_duration = librosa.get_duration(y=audio_data, sr=sampling_rate)\n",
        "\n",
        "    pause_duration = total_duration - speech_duration\n",
        "\n",
        "    # Calculate the pause ratio\n",
        "    pause_ratio = pause_duration / total_duration\n",
        "\n",
        "    return pause_duration"
      ]
    },
    {
      "cell_type": "code",
      "execution_count": 27,
      "id": "b5252cbc",
      "metadata": {
        "id": "b5252cbc"
      },
      "outputs": [],
      "source": [
        "def extract_features_audio(file_name):\n",
        "    audio_data, sampling_rate = librosa.load(file_name)\n",
        "    mfcc_features_audio = extract_mfcc(audio_data, sampling_rate)\n",
        "    spectral_centroid = extract_spectral_centroid(audio_data, sampling_rate)\n",
        "    spectral_contrast = extract_spectral_contrast(audio_data, sampling_rate)\n",
        "    spectral_rolloff = extract_spectral_rolloff(audio_data, sampling_rate)\n",
        "    zcr = extract_zcr(audio_data)\n",
        "    rms = extract_rms(audio_data)\n",
        "    pitch = extract_pitch(audio_data, sampling_rate)\n",
        "    pause_duration = extract_pause_duration(audio_data, sampling_rate)\n",
        "\n",
        "    combined_features_audio = np.concatenate(\n",
        "        (mfcc_features_audio, spectral_centroid, spectral_contrast, spectral_rolloff, zcr, rms, pitch, pause_duration),\n",
        "        axis=None\n",
        "    )\n",
        "\n",
        "    return combined_features_audio\n"
      ]
    },
    {
      "cell_type": "markdown",
      "id": "26d055c7",
      "metadata": {
        "id": "26d055c7"
      },
      "source": [
        "# Feature extraction from both"
      ]
    },
    {
      "cell_type": "code",
      "execution_count": 28,
      "id": "0bbd6a1b-da30-4c22-8bd8-2a7c689249ad",
      "metadata": {
        "colab": {
          "base_uri": "https://localhost:8080/"
        },
        "id": "0bbd6a1b-da30-4c22-8bd8-2a7c689249ad",
        "outputId": "c7c979bb-7eba-4d83-b0e4-d665fb2af2ae"
      },
      "outputs": [
        {
          "output_type": "stream",
          "name": "stderr",
          "text": [
            "[nltk_data] Downloading package averaged_perceptron_tagger to\n",
            "[nltk_data]     /root/nltk_data...\n",
            "[nltk_data]   Package averaged_perceptron_tagger is already up-to-\n",
            "[nltk_data]       date!\n",
            "[nltk_data] Downloading package wordnet to /root/nltk_data...\n",
            "[nltk_data]   Package wordnet is already up-to-date!\n"
          ]
        },
        {
          "output_type": "stream",
          "name": "stdout",
          "text": [
            "Loading GloVe Model\n",
            "Done. 400000  words loaded!\n"
          ]
        },
        {
          "output_type": "stream",
          "name": "stderr",
          "text": [
            "100%|██████████| 115/115 [01:23<00:00,  1.39it/s]\n"
          ]
        }
      ],
      "source": [
        "import nltk\n",
        "nltk.download('averaged_perceptron_tagger')\n",
        "nltk.download('wordnet')\n",
        "\n",
        "extracted_features = []\n",
        "extracted_features_text = []\n",
        "extracted_features_audio = []\n",
        "glove_model = load_glove_model(glove_file)\n",
        "\n",
        "for audio in tqdm(data_):\n",
        "    audio_features = extract_features_audio(audio['audio_path'])\n",
        "    text_features = extract_features_text(glove_model, text_path = audio['text_path'],)\n",
        "    combined_features = np.concatenate((audio_features,text_features))\n",
        "    extracted_features.append([combined_features, audio['label']])\n",
        "    extracted_features_text.append([text_features, audio['label']])\n",
        "    extracted_features_audio.append([audio_features, audio['label']])\n"
      ]
    },
    {
      "cell_type": "code",
      "execution_count": 29,
      "id": "a57131da",
      "metadata": {
        "id": "a57131da",
        "colab": {
          "base_uri": "https://localhost:8080/"
        },
        "outputId": "0315a8be-a20c-44a1-869f-ae105a839882"
      },
      "outputs": [
        {
          "output_type": "stream",
          "name": "stdout",
          "text": [
            "Shape of extracted_features_audio:\n",
            "\n",
            "number of data:  115\n",
            "dimensions of each vectorised audio:  93\n"
          ]
        }
      ],
      "source": [
        "print('Shape of extracted_features_audio:\\n')\n",
        "print('number of data: ', len(extracted_features))\n",
        "print('dimensions of each vectorised audio: ', len(extracted_features[0][0]))"
      ]
    },
    {
      "cell_type": "markdown",
      "id": "0ec8df97",
      "metadata": {
        "id": "0ec8df97"
      },
      "source": [
        "# Time for Testing"
      ]
    },
    {
      "cell_type": "code",
      "execution_count": 30,
      "id": "3b567e1a-0917-47a3-8edb-54ea13767e00",
      "metadata": {
        "id": "3b567e1a-0917-47a3-8edb-54ea13767e00"
      },
      "outputs": [],
      "source": [
        "from sklearn.metrics import make_scorer\n",
        "def evaluate_classifier(extracted_features, classifier_name, params,\n",
        "                        parameter_mode=0, list_of_ids=None, n_exp=-1,\n",
        "                        train_percentage=0.80):\n",
        "\n",
        "    extracted_features_df = pd.DataFrame(extracted_features,columns=['features','label'])\n",
        "    X = np.array(extracted_features_df['features'].tolist())\n",
        "    y = np.array(extracted_features_df['label'].tolist())\n",
        "\n",
        "    X_train,X_test,y_train,y_test = train_test_split(X,y,test_size=1-train_percentage,random_state=7)\n",
        "    scaler = StandardScaler()\n",
        "    scaler.fit(X_train)\n",
        "    X_train = scaler.transform(X_train)\n",
        "    X_test = scaler.transform(X_test)\n",
        "\n",
        "    for Ci, C in enumerate(params):\n",
        "        if classifier_name == \"svm_rbf\":\n",
        "            classifier = SVC(C = C, kernel='rbf')\n",
        "            classifier.fit(X_train,y_train)\n",
        "            Y_pred = classifier.predict(X_test)\n",
        "            Y_train_pred = classifier.predict(X_train)\n",
        "\n",
        "        cm_train = confusion_matrix(y_train,Y_train_pred)\n",
        "        accuracy_train = float(cm_train.diagonal().sum())/len(y_train)\n",
        "\n",
        "        cm_test = confusion_matrix(y_test,Y_pred)\n",
        "        accuracy_test = float(cm_test.diagonal().sum())/len(y_test)\n",
        "\n",
        "        print (\"\\nc : \",C )\n",
        "\n",
        "        #print (\"confusion matrix for training dataset: \",cm_train)\n",
        "        print(\"Accuracy for training dataset: \", accuracy_train)\n",
        "        print(\"F1 Score for training dataset: \", f1_score(y_train, Y_train_pred))\n",
        "        #print (\"confusion matrix for testing dataset: \",cm_test)\n",
        "        print(\"Accuracy for testing dataset: \", accuracy_test)\n",
        "        print(\"F1 Score for testing dataset: \", f1_score(y_test, Y_pred))\n",
        "\n",
        "        return classifier\n",
        "\n",
        "def weighted_accuracy(true_labels, predicted_labels):\n",
        "\n",
        "    # Calculate the size of each class\n",
        "    class_1_size = sum(true_labels)\n",
        "    class_0_size = len(true_labels) - class_1_size\n",
        "\n",
        "    # Calculate the weights based on the proportion of samples in each class\n",
        "    total_samples = len(true_labels)\n",
        "    weight_0 = class_0_size / total_samples\n",
        "    weight_1 = class_1_size / total_samples\n",
        "\n",
        "    # Compute accuracy\n",
        "    accuracy = accuracy_score(true_labels, predicted_labels)\n",
        "\n",
        "    # Compute weighted accuracy\n",
        "    weighted_accuracy = (accuracy * weight_0) + ((1 - accuracy) * weight_1)\n",
        "\n",
        "    return weighted_accuracy\n",
        "\n",
        "def evaluate_classifier_k_fold(extracted_features, classifier_name, params,\n",
        "                        parameter_mode=0, list_of_ids=None, n_exp=-1,\n",
        "                        train_percentage=0.80, random_state=7, k=5, return_df = False):\n",
        "    scoring = {\n",
        "    'accuracy': make_scorer(accuracy_score),\n",
        "    'f1_score': make_scorer(f1_score, average='weighted')\n",
        "    }\n",
        "    extracted_features_df = pd.DataFrame(extracted_features,columns=['features','label'])\n",
        "    print(extracted_features_df.shape)\n",
        "    X = np.array(extracted_features_df['features'].tolist())\n",
        "    y = np.array(extracted_features_df['label'].tolist())\n",
        "    X_train,X_test,y_train,y_test = train_test_split(X,y,test_size=1-train_percentage,random_state=7)\n",
        "\n",
        "    # dataframe to save results\n",
        "    df = pd.DataFrame()\n",
        "    df['fold'] = list(range(1,6))\n",
        "\n",
        "    # Initialize the KFold object\n",
        "    kf = StratifiedKFold(n_splits=5, shuffle=True, random_state = 42)\n",
        "    # kf = KFold(n_splits=k, shuffle=True, random_state=42)\n",
        "\n",
        "    # Split your data using the kf object\n",
        "\n",
        "    for Ci, C in enumerate(params):\n",
        "        accuracy_ls = []\n",
        "        F1_score_ls = []\n",
        "        for fold, (train_index, test_index) in enumerate(kf.split(X_train, y_train)):\n",
        "            X_train_val, X_val = X_train[train_index], X_train[test_index]\n",
        "            y_train_val, y_val = y_train[train_index], y_train[test_index]\n",
        "            # scale x features\n",
        "            scaler = StandardScaler()\n",
        "            scaler.fit(X_train_val)\n",
        "            X_train_val = scaler.transform(X_train_val)\n",
        "            X_val = scaler.transform(X_val)\n",
        "\n",
        "            # modelling\n",
        "            classifier = SVC(C = C, kernel='rbf')\n",
        "            classifier.fit(X_train_val,y_train_val)\n",
        "            Y_val_pred = classifier.predict(X_val)\n",
        "            Y_train_pred = classifier.predict(X_train_val)\n",
        "\n",
        "            # evaluation\n",
        "            # training set\n",
        "            train_report = classification_report(y_train_val, Y_train_pred, output_dict=True)\n",
        "            accuracy_train = train_report['weighted avg']['precision']\n",
        "            f1_train = train_report['weighted avg']['f1-score']\n",
        "            # validation set\n",
        "            val_report = classification_report(y_val, Y_val_pred, output_dict=True)\n",
        "            accuracy_val = val_report['weighted avg']['precision']\n",
        "            f1_val = val_report['weighted avg']['f1-score']\n",
        "\n",
        "            accuracy_ls.append(accuracy_val)\n",
        "            F1_score_ls.append(f1_val)\n",
        "\n",
        "        df[str(C) + '_accuracy'] = accuracy_ls\n",
        "        df[str(C) + '_F1'] = F1_score_ls\n",
        "        if return_df:\n",
        "            continue\n",
        "\n",
        "        # test set\n",
        "        classifier = SVC(C = C, kernel='rbf')\n",
        "        scaler = StandardScaler()\n",
        "        scaler.fit(X_train)\n",
        "        X_train = scaler.transform(X_train)\n",
        "        classifier.fit(X_train,y_train)\n",
        "        X_test = scaler.transform(X_test)\n",
        "        Y_pred = classifier.predict(X_test)\n",
        "\n",
        "        print (\"\\nc : \", C )\n",
        "        print(\"Accuracy for training dataset: \", sum(accuracy_ls)/5)\n",
        "        print(\"F1 Score for training dataset: \", sum(F1_score_ls)/5)\n",
        "\n",
        "        test_report = classification_report(y_test, Y_pred, output_dict=True)\n",
        "        accuracy_test = test_report['weighted avg']['precision']\n",
        "        f1_test = test_report['weighted avg']['f1-score']\n",
        "\n",
        "        print(\"Accuracy for testing dataset: \", accuracy_test)  # accuracy_score(y_test, Y_pred)\n",
        "        print(\"F1 Score for testing dataset: \", f1_test)  # f1_score(y_test, Y_pred)\n",
        "\n",
        "    if return_df:\n",
        "        return df\n"
      ]
    },
    {
      "cell_type": "code",
      "execution_count": 31,
      "id": "8e110701",
      "metadata": {
        "scrolled": true,
        "id": "8e110701",
        "colab": {
          "base_uri": "https://localhost:8080/"
        },
        "outputId": "43abff28-7aae-4ce2-d558-7e6cfe47afbc"
      },
      "outputs": [
        {
          "output_type": "stream",
          "name": "stdout",
          "text": [
            "\n",
            "c :  20.0\n",
            "Accuracy for training dataset:  1.0\n",
            "F1 Score for training dataset:  1.0\n",
            "Accuracy for testing dataset:  0.6956521739130435\n",
            "F1 Score for testing dataset:  0.6666666666666666\n"
          ]
        }
      ],
      "source": [
        "trial_clf = evaluate_classifier(extracted_features, 'svm_rbf', np.array([20.0]),\n",
        "                        train_percentage=0.80)"
      ]
    },
    {
      "cell_type": "code",
      "execution_count": 32,
      "id": "c9c4fc28-7076-46c9-b098-d9124fc879a7",
      "metadata": {
        "id": "c9c4fc28-7076-46c9-b098-d9124fc879a7",
        "colab": {
          "base_uri": "https://localhost:8080/"
        },
        "outputId": "4b39fb4e-328f-4559-e4a8-3707e0534293"
      },
      "outputs": [
        {
          "output_type": "stream",
          "name": "stdout",
          "text": [
            "(115, 2)\n",
            "\n",
            "c :  20.0\n",
            "Accuracy for training dataset:  0.7219117140169772\n",
            "F1 Score for training dataset:  0.7025644920381763\n",
            "Accuracy for testing dataset:  0.8350586611456177\n",
            "F1 Score for testing dataset:  0.8240802675585283\n"
          ]
        }
      ],
      "source": [
        "trial_aud = evaluate_classifier_k_fold(extracted_features_audio, 'svm_rbf', np.array([20.0]),\n",
        "                        train_percentage=0.80)"
      ]
    },
    {
      "cell_type": "code",
      "execution_count": 33,
      "id": "a6bfc894-b5fe-4e9f-9f4c-74430f4300f1",
      "metadata": {
        "id": "a6bfc894-b5fe-4e9f-9f4c-74430f4300f1",
        "colab": {
          "base_uri": "https://localhost:8080/",
          "height": 223
        },
        "outputId": "ef605599-96a5-4a0f-ac53-de0b2e277c19"
      },
      "outputs": [
        {
          "output_type": "stream",
          "name": "stdout",
          "text": [
            "(115, 2)\n"
          ]
        },
        {
          "output_type": "execute_result",
          "data": {
            "text/plain": [
              "   fold  20.0_accuracy   20.0_F1\n",
              "0     1       0.689223  0.678828\n",
              "1     2       0.423392  0.421053\n",
              "2     3       0.607504  0.607407\n",
              "3     4       0.721501  0.719577\n",
              "4     5       0.675325  0.662500"
            ],
            "text/html": [
              "\n",
              "  <div id=\"df-fb6e1ffe-59f9-468a-9288-ad8b69dd6cbf\" class=\"colab-df-container\">\n",
              "    <div>\n",
              "<style scoped>\n",
              "    .dataframe tbody tr th:only-of-type {\n",
              "        vertical-align: middle;\n",
              "    }\n",
              "\n",
              "    .dataframe tbody tr th {\n",
              "        vertical-align: top;\n",
              "    }\n",
              "\n",
              "    .dataframe thead th {\n",
              "        text-align: right;\n",
              "    }\n",
              "</style>\n",
              "<table border=\"1\" class=\"dataframe\">\n",
              "  <thead>\n",
              "    <tr style=\"text-align: right;\">\n",
              "      <th></th>\n",
              "      <th>fold</th>\n",
              "      <th>20.0_accuracy</th>\n",
              "      <th>20.0_F1</th>\n",
              "    </tr>\n",
              "  </thead>\n",
              "  <tbody>\n",
              "    <tr>\n",
              "      <th>0</th>\n",
              "      <td>1</td>\n",
              "      <td>0.689223</td>\n",
              "      <td>0.678828</td>\n",
              "    </tr>\n",
              "    <tr>\n",
              "      <th>1</th>\n",
              "      <td>2</td>\n",
              "      <td>0.423392</td>\n",
              "      <td>0.421053</td>\n",
              "    </tr>\n",
              "    <tr>\n",
              "      <th>2</th>\n",
              "      <td>3</td>\n",
              "      <td>0.607504</td>\n",
              "      <td>0.607407</td>\n",
              "    </tr>\n",
              "    <tr>\n",
              "      <th>3</th>\n",
              "      <td>4</td>\n",
              "      <td>0.721501</td>\n",
              "      <td>0.719577</td>\n",
              "    </tr>\n",
              "    <tr>\n",
              "      <th>4</th>\n",
              "      <td>5</td>\n",
              "      <td>0.675325</td>\n",
              "      <td>0.662500</td>\n",
              "    </tr>\n",
              "  </tbody>\n",
              "</table>\n",
              "</div>\n",
              "    <div class=\"colab-df-buttons\">\n",
              "\n",
              "  <div class=\"colab-df-container\">\n",
              "    <button class=\"colab-df-convert\" onclick=\"convertToInteractive('df-fb6e1ffe-59f9-468a-9288-ad8b69dd6cbf')\"\n",
              "            title=\"Convert this dataframe to an interactive table.\"\n",
              "            style=\"display:none;\">\n",
              "\n",
              "  <svg xmlns=\"http://www.w3.org/2000/svg\" height=\"24px\" viewBox=\"0 -960 960 960\">\n",
              "    <path d=\"M120-120v-720h720v720H120Zm60-500h600v-160H180v160Zm220 220h160v-160H400v160Zm0 220h160v-160H400v160ZM180-400h160v-160H180v160Zm440 0h160v-160H620v160ZM180-180h160v-160H180v160Zm440 0h160v-160H620v160Z\"/>\n",
              "  </svg>\n",
              "    </button>\n",
              "\n",
              "  <style>\n",
              "    .colab-df-container {\n",
              "      display:flex;\n",
              "      gap: 12px;\n",
              "    }\n",
              "\n",
              "    .colab-df-convert {\n",
              "      background-color: #E8F0FE;\n",
              "      border: none;\n",
              "      border-radius: 50%;\n",
              "      cursor: pointer;\n",
              "      display: none;\n",
              "      fill: #1967D2;\n",
              "      height: 32px;\n",
              "      padding: 0 0 0 0;\n",
              "      width: 32px;\n",
              "    }\n",
              "\n",
              "    .colab-df-convert:hover {\n",
              "      background-color: #E2EBFA;\n",
              "      box-shadow: 0px 1px 2px rgba(60, 64, 67, 0.3), 0px 1px 3px 1px rgba(60, 64, 67, 0.15);\n",
              "      fill: #174EA6;\n",
              "    }\n",
              "\n",
              "    .colab-df-buttons div {\n",
              "      margin-bottom: 4px;\n",
              "    }\n",
              "\n",
              "    [theme=dark] .colab-df-convert {\n",
              "      background-color: #3B4455;\n",
              "      fill: #D2E3FC;\n",
              "    }\n",
              "\n",
              "    [theme=dark] .colab-df-convert:hover {\n",
              "      background-color: #434B5C;\n",
              "      box-shadow: 0px 1px 3px 1px rgba(0, 0, 0, 0.15);\n",
              "      filter: drop-shadow(0px 1px 2px rgba(0, 0, 0, 0.3));\n",
              "      fill: #FFFFFF;\n",
              "    }\n",
              "  </style>\n",
              "\n",
              "    <script>\n",
              "      const buttonEl =\n",
              "        document.querySelector('#df-fb6e1ffe-59f9-468a-9288-ad8b69dd6cbf button.colab-df-convert');\n",
              "      buttonEl.style.display =\n",
              "        google.colab.kernel.accessAllowed ? 'block' : 'none';\n",
              "\n",
              "      async function convertToInteractive(key) {\n",
              "        const element = document.querySelector('#df-fb6e1ffe-59f9-468a-9288-ad8b69dd6cbf');\n",
              "        const dataTable =\n",
              "          await google.colab.kernel.invokeFunction('convertToInteractive',\n",
              "                                                    [key], {});\n",
              "        if (!dataTable) return;\n",
              "\n",
              "        const docLinkHtml = 'Like what you see? Visit the ' +\n",
              "          '<a target=\"_blank\" href=https://colab.research.google.com/notebooks/data_table.ipynb>data table notebook</a>'\n",
              "          + ' to learn more about interactive tables.';\n",
              "        element.innerHTML = '';\n",
              "        dataTable['output_type'] = 'display_data';\n",
              "        await google.colab.output.renderOutput(dataTable, element);\n",
              "        const docLink = document.createElement('div');\n",
              "        docLink.innerHTML = docLinkHtml;\n",
              "        element.appendChild(docLink);\n",
              "      }\n",
              "    </script>\n",
              "  </div>\n",
              "\n",
              "\n",
              "<div id=\"df-17c2427f-7aad-4464-b5c1-1a65556c7218\">\n",
              "  <button class=\"colab-df-quickchart\" onclick=\"quickchart('df-17c2427f-7aad-4464-b5c1-1a65556c7218')\"\n",
              "            title=\"Suggest charts\"\n",
              "            style=\"display:none;\">\n",
              "\n",
              "<svg xmlns=\"http://www.w3.org/2000/svg\" height=\"24px\"viewBox=\"0 0 24 24\"\n",
              "     width=\"24px\">\n",
              "    <g>\n",
              "        <path d=\"M19 3H5c-1.1 0-2 .9-2 2v14c0 1.1.9 2 2 2h14c1.1 0 2-.9 2-2V5c0-1.1-.9-2-2-2zM9 17H7v-7h2v7zm4 0h-2V7h2v10zm4 0h-2v-4h2v4z\"/>\n",
              "    </g>\n",
              "</svg>\n",
              "  </button>\n",
              "\n",
              "<style>\n",
              "  .colab-df-quickchart {\n",
              "      --bg-color: #E8F0FE;\n",
              "      --fill-color: #1967D2;\n",
              "      --hover-bg-color: #E2EBFA;\n",
              "      --hover-fill-color: #174EA6;\n",
              "      --disabled-fill-color: #AAA;\n",
              "      --disabled-bg-color: #DDD;\n",
              "  }\n",
              "\n",
              "  [theme=dark] .colab-df-quickchart {\n",
              "      --bg-color: #3B4455;\n",
              "      --fill-color: #D2E3FC;\n",
              "      --hover-bg-color: #434B5C;\n",
              "      --hover-fill-color: #FFFFFF;\n",
              "      --disabled-bg-color: #3B4455;\n",
              "      --disabled-fill-color: #666;\n",
              "  }\n",
              "\n",
              "  .colab-df-quickchart {\n",
              "    background-color: var(--bg-color);\n",
              "    border: none;\n",
              "    border-radius: 50%;\n",
              "    cursor: pointer;\n",
              "    display: none;\n",
              "    fill: var(--fill-color);\n",
              "    height: 32px;\n",
              "    padding: 0;\n",
              "    width: 32px;\n",
              "  }\n",
              "\n",
              "  .colab-df-quickchart:hover {\n",
              "    background-color: var(--hover-bg-color);\n",
              "    box-shadow: 0 1px 2px rgba(60, 64, 67, 0.3), 0 1px 3px 1px rgba(60, 64, 67, 0.15);\n",
              "    fill: var(--button-hover-fill-color);\n",
              "  }\n",
              "\n",
              "  .colab-df-quickchart-complete:disabled,\n",
              "  .colab-df-quickchart-complete:disabled:hover {\n",
              "    background-color: var(--disabled-bg-color);\n",
              "    fill: var(--disabled-fill-color);\n",
              "    box-shadow: none;\n",
              "  }\n",
              "\n",
              "  .colab-df-spinner {\n",
              "    border: 2px solid var(--fill-color);\n",
              "    border-color: transparent;\n",
              "    border-bottom-color: var(--fill-color);\n",
              "    animation:\n",
              "      spin 1s steps(1) infinite;\n",
              "  }\n",
              "\n",
              "  @keyframes spin {\n",
              "    0% {\n",
              "      border-color: transparent;\n",
              "      border-bottom-color: var(--fill-color);\n",
              "      border-left-color: var(--fill-color);\n",
              "    }\n",
              "    20% {\n",
              "      border-color: transparent;\n",
              "      border-left-color: var(--fill-color);\n",
              "      border-top-color: var(--fill-color);\n",
              "    }\n",
              "    30% {\n",
              "      border-color: transparent;\n",
              "      border-left-color: var(--fill-color);\n",
              "      border-top-color: var(--fill-color);\n",
              "      border-right-color: var(--fill-color);\n",
              "    }\n",
              "    40% {\n",
              "      border-color: transparent;\n",
              "      border-right-color: var(--fill-color);\n",
              "      border-top-color: var(--fill-color);\n",
              "    }\n",
              "    60% {\n",
              "      border-color: transparent;\n",
              "      border-right-color: var(--fill-color);\n",
              "    }\n",
              "    80% {\n",
              "      border-color: transparent;\n",
              "      border-right-color: var(--fill-color);\n",
              "      border-bottom-color: var(--fill-color);\n",
              "    }\n",
              "    90% {\n",
              "      border-color: transparent;\n",
              "      border-bottom-color: var(--fill-color);\n",
              "    }\n",
              "  }\n",
              "</style>\n",
              "\n",
              "  <script>\n",
              "    async function quickchart(key) {\n",
              "      const quickchartButtonEl =\n",
              "        document.querySelector('#' + key + ' button');\n",
              "      quickchartButtonEl.disabled = true;  // To prevent multiple clicks.\n",
              "      quickchartButtonEl.classList.add('colab-df-spinner');\n",
              "      try {\n",
              "        const charts = await google.colab.kernel.invokeFunction(\n",
              "            'suggestCharts', [key], {});\n",
              "      } catch (error) {\n",
              "        console.error('Error during call to suggestCharts:', error);\n",
              "      }\n",
              "      quickchartButtonEl.classList.remove('colab-df-spinner');\n",
              "      quickchartButtonEl.classList.add('colab-df-quickchart-complete');\n",
              "    }\n",
              "    (() => {\n",
              "      let quickchartButtonEl =\n",
              "        document.querySelector('#df-17c2427f-7aad-4464-b5c1-1a65556c7218 button');\n",
              "      quickchartButtonEl.style.display =\n",
              "        google.colab.kernel.accessAllowed ? 'block' : 'none';\n",
              "    })();\n",
              "  </script>\n",
              "</div>\n",
              "    </div>\n",
              "  </div>\n"
            ],
            "application/vnd.google.colaboratory.intrinsic+json": {
              "type": "dataframe",
              "variable_name": "df",
              "summary": "{\n  \"name\": \"df\",\n  \"rows\": 5,\n  \"fields\": [\n    {\n      \"column\": \"fold\",\n      \"properties\": {\n        \"dtype\": \"number\",\n        \"std\": 1,\n        \"min\": 1,\n        \"max\": 5,\n        \"num_unique_values\": 5,\n        \"samples\": [\n          2,\n          5,\n          3\n        ],\n        \"semantic_type\": \"\",\n        \"description\": \"\"\n      }\n    },\n    {\n      \"column\": \"20.0_accuracy\",\n      \"properties\": {\n        \"dtype\": \"number\",\n        \"std\": 0.11927758377978859,\n        \"min\": 0.42339181286549704,\n        \"max\": 0.7215007215007216,\n        \"num_unique_values\": 5,\n        \"samples\": [\n          0.42339181286549704,\n          0.6753246753246754,\n          0.6075036075036074\n        ],\n        \"semantic_type\": \"\",\n        \"description\": \"\"\n      }\n    },\n    {\n      \"column\": \"20.0_F1\",\n      \"properties\": {\n        \"dtype\": \"number\",\n        \"std\": 0.11715212700991844,\n        \"min\": 0.42105263157894735,\n        \"max\": 0.7195767195767195,\n        \"num_unique_values\": 5,\n        \"samples\": [\n          0.42105263157894735,\n          0.6625000000000001,\n          0.6074074074074074\n        ],\n        \"semantic_type\": \"\",\n        \"description\": \"\"\n      }\n    }\n  ]\n}"
            }
          },
          "metadata": {},
          "execution_count": 33
        }
      ],
      "source": [
        "df = evaluate_classifier_k_fold(extracted_features, 'svm_rbf', np.array([20.0]),\n",
        "                        train_percentage=0.80, return_df = True)\n",
        "df"
      ]
    },
    {
      "cell_type": "markdown",
      "id": "5090f994-0ead-4ab1-89bc-53cd7a01a3db",
      "metadata": {
        "id": "5090f994-0ead-4ab1-89bc-53cd7a01a3db"
      },
      "source": [
        "## Test Trial-SVM on Bag of Lies dataset"
      ]
    },
    {
      "cell_type": "code",
      "source": [
        "metadata = pd.read_csv('/content/drive/MyDrive/Audio-BagofLies/metadata.csv')\n",
        "audio_dir_bog = '/content/drive/MyDrive/Audio-BagofLies'\n",
        "\n",
        "output_dir = '/content/drive/MyDrive/text_bag_of_lies'\n",
        "\n",
        "# Create the output directory if it doesn't exist\n",
        "os.makedirs(output_dir, exist_ok=True)\n",
        "\n",
        "# Iterate through each row in the DataFrame\n",
        "for index, row in metadata.iterrows():\n",
        "    # Extract the text and ID\n",
        "    text = row['text_x']\n",
        "    file_name = f\"{row['file_name']}.txt\"\n",
        "    file_name = file_name.replace('.wav','')\n",
        "\n",
        "    # Write the text to a separate text file\n",
        "    with open(os.path.join(output_dir, file_name), 'w') as file:\n",
        "        file.write(text)"
      ],
      "metadata": {
        "id": "DTy7ekOQpnvF"
      },
      "id": "DTy7ekOQpnvF",
      "execution_count": 34,
      "outputs": []
    },
    {
      "cell_type": "code",
      "source": [
        "metadata[metadata['file_name'] == 'run_9_User_28.wav']['label'].reset_index()['label'][0]"
      ],
      "metadata": {
        "colab": {
          "base_uri": "https://localhost:8080/"
        },
        "id": "qcjT4bp3sTEc",
        "outputId": "a0c8ee9c-f526-4dc6-d074-d371b92f0b97"
      },
      "id": "qcjT4bp3sTEc",
      "execution_count": 35,
      "outputs": [
        {
          "output_type": "execute_result",
          "data": {
            "text/plain": [
              "0"
            ]
          },
          "metadata": {},
          "execution_count": 35
        }
      ]
    },
    {
      "cell_type": "code",
      "execution_count": 36,
      "id": "fbce03d7",
      "metadata": {
        "id": "fbce03d7",
        "colab": {
          "base_uri": "https://localhost:8080/"
        },
        "outputId": "7da679d8-a802-4f39-ce7d-7c691c143625"
      },
      "outputs": [
        {
          "output_type": "stream",
          "name": "stdout",
          "text": [
            "[{'audio_path': '/content/drive/MyDrive/Audio-BagofLies/run_8_User_27.wav', 'text_path': '/content/drive/MyDrive/text_bag_of_lies/run_8_User_27.txt', 'label': 1}, {'audio_path': '/content/drive/MyDrive/Audio-BagofLies/run_0_User_20.wav', 'text_path': '/content/drive/MyDrive/text_bag_of_lies/run_0_User_20.txt', 'label': 0}, {'audio_path': '/content/drive/MyDrive/Audio-BagofLies/run_2_User_18.wav', 'text_path': '/content/drive/MyDrive/text_bag_of_lies/run_2_User_18.txt', 'label': 1}, {'audio_path': '/content/drive/MyDrive/Audio-BagofLies/run_8_User_20.wav', 'text_path': '/content/drive/MyDrive/text_bag_of_lies/run_8_User_20.txt', 'label': 0}, {'audio_path': '/content/drive/MyDrive/Audio-BagofLies/run_1_User_18.wav', 'text_path': '/content/drive/MyDrive/text_bag_of_lies/run_1_User_18.txt', 'label': 1}, {'audio_path': '/content/drive/MyDrive/Audio-BagofLies/run_3_User_18.wav', 'text_path': '/content/drive/MyDrive/text_bag_of_lies/run_3_User_18.txt', 'label': 0}, {'audio_path': '/content/drive/MyDrive/Audio-BagofLies/run_4_User_27.wav', 'text_path': '/content/drive/MyDrive/text_bag_of_lies/run_4_User_27.txt', 'label': 0}, {'audio_path': '/content/drive/MyDrive/Audio-BagofLies/run_1_User_20.wav', 'text_path': '/content/drive/MyDrive/text_bag_of_lies/run_1_User_20.txt', 'label': 1}, {'audio_path': '/content/drive/MyDrive/Audio-BagofLies/run_6_User_18.wav', 'text_path': '/content/drive/MyDrive/text_bag_of_lies/run_6_User_18.txt', 'label': 1}, {'audio_path': '/content/drive/MyDrive/Audio-BagofLies/run_6_User_20.wav', 'text_path': '/content/drive/MyDrive/text_bag_of_lies/run_6_User_20.txt', 'label': 0}, {'audio_path': '/content/drive/MyDrive/Audio-BagofLies/run_5_User_20.wav', 'text_path': '/content/drive/MyDrive/text_bag_of_lies/run_5_User_20.txt', 'label': 0}, {'audio_path': '/content/drive/MyDrive/Audio-BagofLies/run_4_User_20.wav', 'text_path': '/content/drive/MyDrive/text_bag_of_lies/run_4_User_20.txt', 'label': 0}, {'audio_path': '/content/drive/MyDrive/Audio-BagofLies/run_2_User_20.wav', 'text_path': '/content/drive/MyDrive/text_bag_of_lies/run_2_User_20.txt', 'label': 0}, {'audio_path': '/content/drive/MyDrive/Audio-BagofLies/run_0_User_18.wav', 'text_path': '/content/drive/MyDrive/text_bag_of_lies/run_0_User_18.txt', 'label': 0}, {'audio_path': '/content/drive/MyDrive/Audio-BagofLies/run_5_User_18.wav', 'text_path': '/content/drive/MyDrive/text_bag_of_lies/run_5_User_18.txt', 'label': 0}, {'audio_path': '/content/drive/MyDrive/Audio-BagofLies/run_9_User_18.wav', 'text_path': '/content/drive/MyDrive/text_bag_of_lies/run_9_User_18.txt', 'label': 0}, {'audio_path': '/content/drive/MyDrive/Audio-BagofLies/run_9_User_27.wav', 'text_path': '/content/drive/MyDrive/text_bag_of_lies/run_9_User_27.txt', 'label': 0}, {'audio_path': '/content/drive/MyDrive/Audio-BagofLies/run_3_User_20.wav', 'text_path': '/content/drive/MyDrive/text_bag_of_lies/run_3_User_20.txt', 'label': 1}, {'audio_path': '/content/drive/MyDrive/Audio-BagofLies/run_6_User_27.wav', 'text_path': '/content/drive/MyDrive/text_bag_of_lies/run_6_User_27.txt', 'label': 0}, {'audio_path': '/content/drive/MyDrive/Audio-BagofLies/run_3_User_27.wav', 'text_path': '/content/drive/MyDrive/text_bag_of_lies/run_3_User_27.txt', 'label': 0}, {'audio_path': '/content/drive/MyDrive/Audio-BagofLies/run_1_User_27.wav', 'text_path': '/content/drive/MyDrive/text_bag_of_lies/run_1_User_27.txt', 'label': 1}, {'audio_path': '/content/drive/MyDrive/Audio-BagofLies/run_8_User_18.wav', 'text_path': '/content/drive/MyDrive/text_bag_of_lies/run_8_User_18.txt', 'label': 0}, {'audio_path': '/content/drive/MyDrive/Audio-BagofLies/run_7_User_18.wav', 'text_path': '/content/drive/MyDrive/text_bag_of_lies/run_7_User_18.txt', 'label': 0}, {'audio_path': '/content/drive/MyDrive/Audio-BagofLies/run_8_User_11.wav', 'text_path': '/content/drive/MyDrive/text_bag_of_lies/run_8_User_11.txt', 'label': 0}, {'audio_path': '/content/drive/MyDrive/Audio-BagofLies/run_0_User_11.wav', 'text_path': '/content/drive/MyDrive/text_bag_of_lies/run_0_User_11.txt', 'label': 1}, {'audio_path': '/content/drive/MyDrive/Audio-BagofLies/run_5_User_27.wav', 'text_path': '/content/drive/MyDrive/text_bag_of_lies/run_5_User_27.txt', 'label': 1}, {'audio_path': '/content/drive/MyDrive/Audio-BagofLies/run_4_User_18.wav', 'text_path': '/content/drive/MyDrive/text_bag_of_lies/run_4_User_18.txt', 'label': 1}, {'audio_path': '/content/drive/MyDrive/Audio-BagofLies/run_2_User_27.wav', 'text_path': '/content/drive/MyDrive/text_bag_of_lies/run_2_User_27.txt', 'label': 0}, {'audio_path': '/content/drive/MyDrive/Audio-BagofLies/run_9_User_20.wav', 'text_path': '/content/drive/MyDrive/text_bag_of_lies/run_9_User_20.txt', 'label': 1}, {'audio_path': '/content/drive/MyDrive/Audio-BagofLies/run_7_User_20.wav', 'text_path': '/content/drive/MyDrive/text_bag_of_lies/run_7_User_20.txt', 'label': 0}, {'audio_path': '/content/drive/MyDrive/Audio-BagofLies/run_0_User_27.wav', 'text_path': '/content/drive/MyDrive/text_bag_of_lies/run_0_User_27.txt', 'label': 1}, {'audio_path': '/content/drive/MyDrive/Audio-BagofLies/run_2_User_11.wav', 'text_path': '/content/drive/MyDrive/text_bag_of_lies/run_2_User_11.txt', 'label': 1}, {'audio_path': '/content/drive/MyDrive/Audio-BagofLies/run_1_User_11.wav', 'text_path': '/content/drive/MyDrive/text_bag_of_lies/run_1_User_11.txt', 'label': 1}, {'audio_path': '/content/drive/MyDrive/Audio-BagofLies/run_0_User_28.wav', 'text_path': '/content/drive/MyDrive/text_bag_of_lies/run_0_User_28.txt', 'label': 0}, {'audio_path': '/content/drive/MyDrive/Audio-BagofLies/run_4_User_29.wav', 'text_path': '/content/drive/MyDrive/text_bag_of_lies/run_4_User_29.txt', 'label': 1}, {'audio_path': '/content/drive/MyDrive/Audio-BagofLies/run_3_User_11.wav', 'text_path': '/content/drive/MyDrive/text_bag_of_lies/run_3_User_11.txt', 'label': 1}, {'audio_path': '/content/drive/MyDrive/Audio-BagofLies/run_9_User_11.wav', 'text_path': '/content/drive/MyDrive/text_bag_of_lies/run_9_User_11.txt', 'label': 0}, {'audio_path': '/content/drive/MyDrive/Audio-BagofLies/run_1_User_28.wav', 'text_path': '/content/drive/MyDrive/text_bag_of_lies/run_1_User_28.txt', 'label': 1}, {'audio_path': '/content/drive/MyDrive/Audio-BagofLies/run_9_User_29.wav', 'text_path': '/content/drive/MyDrive/text_bag_of_lies/run_9_User_29.txt', 'label': 0}, {'audio_path': '/content/drive/MyDrive/Audio-BagofLies/run_7_User_11.wav', 'text_path': '/content/drive/MyDrive/text_bag_of_lies/run_7_User_11.txt', 'label': 0}, {'audio_path': '/content/drive/MyDrive/Audio-BagofLies/run_5_User_29.wav', 'text_path': '/content/drive/MyDrive/text_bag_of_lies/run_5_User_29.txt', 'label': 0}, {'audio_path': '/content/drive/MyDrive/Audio-BagofLies/run_1_User_29.wav', 'text_path': '/content/drive/MyDrive/text_bag_of_lies/run_1_User_29.txt', 'label': 0}, {'audio_path': '/content/drive/MyDrive/Audio-BagofLies/run_4_User_11.wav', 'text_path': '/content/drive/MyDrive/text_bag_of_lies/run_4_User_11.txt', 'label': 1}, {'audio_path': '/content/drive/MyDrive/Audio-BagofLies/run_5_User_11.wav', 'text_path': '/content/drive/MyDrive/text_bag_of_lies/run_5_User_11.txt', 'label': 0}, {'audio_path': '/content/drive/MyDrive/Audio-BagofLies/run_2_User_29.wav', 'text_path': '/content/drive/MyDrive/text_bag_of_lies/run_2_User_29.txt', 'label': 1}, {'audio_path': '/content/drive/MyDrive/Audio-BagofLies/run_0_User_29.wav', 'text_path': '/content/drive/MyDrive/text_bag_of_lies/run_0_User_29.txt', 'label': 0}, {'audio_path': '/content/drive/MyDrive/Audio-BagofLies/run_7_User_28.wav', 'text_path': '/content/drive/MyDrive/text_bag_of_lies/run_7_User_28.txt', 'label': 0}, {'audio_path': '/content/drive/MyDrive/Audio-BagofLies/run_6_User_28.wav', 'text_path': '/content/drive/MyDrive/text_bag_of_lies/run_6_User_28.txt', 'label': 0}, {'audio_path': '/content/drive/MyDrive/Audio-BagofLies/run_6_User_11.wav', 'text_path': '/content/drive/MyDrive/text_bag_of_lies/run_6_User_11.txt', 'label': 0}, {'audio_path': '/content/drive/MyDrive/Audio-BagofLies/run_7_User_32.wav', 'text_path': '/content/drive/MyDrive/text_bag_of_lies/run_7_User_32.txt', 'label': 1}, {'audio_path': '/content/drive/MyDrive/Audio-BagofLies/run_5_User_28.wav', 'text_path': '/content/drive/MyDrive/text_bag_of_lies/run_5_User_28.txt', 'label': 0}, {'audio_path': '/content/drive/MyDrive/Audio-BagofLies/run_6_User_32.wav', 'text_path': '/content/drive/MyDrive/text_bag_of_lies/run_6_User_32.txt', 'label': 1}, {'audio_path': '/content/drive/MyDrive/Audio-BagofLies/run_8_User_28.wav', 'text_path': '/content/drive/MyDrive/text_bag_of_lies/run_8_User_28.txt', 'label': 0}, {'audio_path': '/content/drive/MyDrive/Audio-BagofLies/run_3_User_29.wav', 'text_path': '/content/drive/MyDrive/text_bag_of_lies/run_3_User_29.txt', 'label': 0}, {'audio_path': '/content/drive/MyDrive/Audio-BagofLies/run_2_User_32.wav', 'text_path': '/content/drive/MyDrive/text_bag_of_lies/run_2_User_32.txt', 'label': 1}, {'audio_path': '/content/drive/MyDrive/Audio-BagofLies/run_2_User_28.wav', 'text_path': '/content/drive/MyDrive/text_bag_of_lies/run_2_User_28.txt', 'label': 1}, {'audio_path': '/content/drive/MyDrive/Audio-BagofLies/run_9_User_19.wav', 'text_path': '/content/drive/MyDrive/text_bag_of_lies/run_9_User_19.txt', 'label': 1}, {'audio_path': '/content/drive/MyDrive/Audio-BagofLies/run_6_User_29.wav', 'text_path': '/content/drive/MyDrive/text_bag_of_lies/run_6_User_29.txt', 'label': 1}, {'audio_path': '/content/drive/MyDrive/Audio-BagofLies/run_9_User_28.wav', 'text_path': '/content/drive/MyDrive/text_bag_of_lies/run_9_User_28.txt', 'label': 0}, {'audio_path': '/content/drive/MyDrive/Audio-BagofLies/run_8_User_29.wav', 'text_path': '/content/drive/MyDrive/text_bag_of_lies/run_8_User_29.txt', 'label': 1}, {'audio_path': '/content/drive/MyDrive/Audio-BagofLies/run_4_User_28.wav', 'text_path': '/content/drive/MyDrive/text_bag_of_lies/run_4_User_28.txt', 'label': 1}, {'audio_path': '/content/drive/MyDrive/Audio-BagofLies/run_3_User_28.wav', 'text_path': '/content/drive/MyDrive/text_bag_of_lies/run_3_User_28.txt', 'label': 0}, {'audio_path': '/content/drive/MyDrive/Audio-BagofLies/run_0_User_32.wav', 'text_path': '/content/drive/MyDrive/text_bag_of_lies/run_0_User_32.txt', 'label': 1}, {'audio_path': '/content/drive/MyDrive/Audio-BagofLies/run_7_User_26.wav', 'text_path': '/content/drive/MyDrive/text_bag_of_lies/run_7_User_26.txt', 'label': 0}, {'audio_path': '/content/drive/MyDrive/Audio-BagofLies/run_4_User_32.wav', 'text_path': '/content/drive/MyDrive/text_bag_of_lies/run_4_User_32.txt', 'label': 1}, {'audio_path': '/content/drive/MyDrive/Audio-BagofLies/run_1_User_26.wav', 'text_path': '/content/drive/MyDrive/text_bag_of_lies/run_1_User_26.txt', 'label': 0}, {'audio_path': '/content/drive/MyDrive/Audio-BagofLies/run_0_User_26.wav', 'text_path': '/content/drive/MyDrive/text_bag_of_lies/run_0_User_26.txt', 'label': 1}, {'audio_path': '/content/drive/MyDrive/Audio-BagofLies/run_6_User_19.wav', 'text_path': '/content/drive/MyDrive/text_bag_of_lies/run_6_User_19.txt', 'label': 1}, {'audio_path': '/content/drive/MyDrive/Audio-BagofLies/run_2_User_26.wav', 'text_path': '/content/drive/MyDrive/text_bag_of_lies/run_2_User_26.txt', 'label': 1}, {'audio_path': '/content/drive/MyDrive/Audio-BagofLies/run_3_User_32.wav', 'text_path': '/content/drive/MyDrive/text_bag_of_lies/run_3_User_32.txt', 'label': 1}, {'audio_path': '/content/drive/MyDrive/Audio-BagofLies/run_7_User_29.wav', 'text_path': '/content/drive/MyDrive/text_bag_of_lies/run_7_User_29.txt', 'label': 0}, {'audio_path': '/content/drive/MyDrive/Audio-BagofLies/run_7_User_19.wav', 'text_path': '/content/drive/MyDrive/text_bag_of_lies/run_7_User_19.txt', 'label': 0}, {'audio_path': '/content/drive/MyDrive/Audio-BagofLies/run_1_User_19.wav', 'text_path': '/content/drive/MyDrive/text_bag_of_lies/run_1_User_19.txt', 'label': 1}, {'audio_path': '/content/drive/MyDrive/Audio-BagofLies/run_3_User_19.wav', 'text_path': '/content/drive/MyDrive/text_bag_of_lies/run_3_User_19.txt', 'label': 1}, {'audio_path': '/content/drive/MyDrive/Audio-BagofLies/run_1_User_32.wav', 'text_path': '/content/drive/MyDrive/text_bag_of_lies/run_1_User_32.txt', 'label': 1}, {'audio_path': '/content/drive/MyDrive/Audio-BagofLies/run_0_User_19.wav', 'text_path': '/content/drive/MyDrive/text_bag_of_lies/run_0_User_19.txt', 'label': 0}, {'audio_path': '/content/drive/MyDrive/Audio-BagofLies/run_2_User_19.wav', 'text_path': '/content/drive/MyDrive/text_bag_of_lies/run_2_User_19.txt', 'label': 0}, {'audio_path': '/content/drive/MyDrive/Audio-BagofLies/run_8_User_16.wav', 'text_path': '/content/drive/MyDrive/text_bag_of_lies/run_8_User_16.txt', 'label': 0}, {'audio_path': '/content/drive/MyDrive/Audio-BagofLies/run_5_User_19.wav', 'text_path': '/content/drive/MyDrive/text_bag_of_lies/run_5_User_19.txt', 'label': 0}, {'audio_path': '/content/drive/MyDrive/Audio-BagofLies/run_8_User_26.wav', 'text_path': '/content/drive/MyDrive/text_bag_of_lies/run_8_User_26.txt', 'label': 0}, {'audio_path': '/content/drive/MyDrive/Audio-BagofLies/run_0_User_16.wav', 'text_path': '/content/drive/MyDrive/text_bag_of_lies/run_0_User_16.txt', 'label': 0}, {'audio_path': '/content/drive/MyDrive/Audio-BagofLies/run_8_User_19.wav', 'text_path': '/content/drive/MyDrive/text_bag_of_lies/run_8_User_19.txt', 'label': 0}, {'audio_path': '/content/drive/MyDrive/Audio-BagofLies/run_9_User_17.wav', 'text_path': '/content/drive/MyDrive/text_bag_of_lies/run_9_User_17.txt', 'label': 0}, {'audio_path': '/content/drive/MyDrive/Audio-BagofLies/run_6_User_26.wav', 'text_path': '/content/drive/MyDrive/text_bag_of_lies/run_6_User_26.txt', 'label': 1}, {'audio_path': '/content/drive/MyDrive/Audio-BagofLies/run_9_User_16.wav', 'text_path': '/content/drive/MyDrive/text_bag_of_lies/run_9_User_16.txt', 'label': 0}, {'audio_path': '/content/drive/MyDrive/Audio-BagofLies/run_3_User_26.wav', 'text_path': '/content/drive/MyDrive/text_bag_of_lies/run_3_User_26.txt', 'label': 0}, {'audio_path': '/content/drive/MyDrive/Audio-BagofLies/run_7_User_16.wav', 'text_path': '/content/drive/MyDrive/text_bag_of_lies/run_7_User_16.txt', 'label': 1}, {'audio_path': '/content/drive/MyDrive/Audio-BagofLies/run_9_User_26.wav', 'text_path': '/content/drive/MyDrive/text_bag_of_lies/run_9_User_26.txt', 'label': 1}, {'audio_path': '/content/drive/MyDrive/Audio-BagofLies/run_5_User_26.wav', 'text_path': '/content/drive/MyDrive/text_bag_of_lies/run_5_User_26.txt', 'label': 0}, {'audio_path': '/content/drive/MyDrive/Audio-BagofLies/run_4_User_19.wav', 'text_path': '/content/drive/MyDrive/text_bag_of_lies/run_4_User_19.txt', 'label': 1}, {'audio_path': '/content/drive/MyDrive/Audio-BagofLies/run_2_User_16.wav', 'text_path': '/content/drive/MyDrive/text_bag_of_lies/run_2_User_16.txt', 'label': 0}, {'audio_path': '/content/drive/MyDrive/Audio-BagofLies/run_3_User_16.wav', 'text_path': '/content/drive/MyDrive/text_bag_of_lies/run_3_User_16.txt', 'label': 1}, {'audio_path': '/content/drive/MyDrive/Audio-BagofLies/run_4_User_26.wav', 'text_path': '/content/drive/MyDrive/text_bag_of_lies/run_4_User_26.txt', 'label': 1}, {'audio_path': '/content/drive/MyDrive/Audio-BagofLies/run_1_User_16.wav', 'text_path': '/content/drive/MyDrive/text_bag_of_lies/run_1_User_16.txt', 'label': 1}, {'audio_path': '/content/drive/MyDrive/Audio-BagofLies/run_4_User_21.wav', 'text_path': '/content/drive/MyDrive/text_bag_of_lies/run_4_User_21.txt', 'label': 0}, {'audio_path': '/content/drive/MyDrive/Audio-BagofLies/run_7_User_21.wav', 'text_path': '/content/drive/MyDrive/text_bag_of_lies/run_7_User_21.txt', 'label': 0}, {'audio_path': '/content/drive/MyDrive/Audio-BagofLies/run_5_User_16.wav', 'text_path': '/content/drive/MyDrive/text_bag_of_lies/run_5_User_16.txt', 'label': 0}, {'audio_path': '/content/drive/MyDrive/Audio-BagofLies/run_8_User_21.wav', 'text_path': '/content/drive/MyDrive/text_bag_of_lies/run_8_User_21.txt', 'label': 0}, {'audio_path': '/content/drive/MyDrive/Audio-BagofLies/run_9_User_21.wav', 'text_path': '/content/drive/MyDrive/text_bag_of_lies/run_9_User_21.txt', 'label': 1}, {'audio_path': '/content/drive/MyDrive/Audio-BagofLies/run_4_User_16.wav', 'text_path': '/content/drive/MyDrive/text_bag_of_lies/run_4_User_16.txt', 'label': 1}, {'audio_path': '/content/drive/MyDrive/Audio-BagofLies/run_6_User_16.wav', 'text_path': '/content/drive/MyDrive/text_bag_of_lies/run_6_User_16.txt', 'label': 1}, {'audio_path': '/content/drive/MyDrive/Audio-BagofLies/run_8_User_17.wav', 'text_path': '/content/drive/MyDrive/text_bag_of_lies/run_8_User_17.txt', 'label': 1}, {'audio_path': '/content/drive/MyDrive/Audio-BagofLies/run_0_User_21.wav', 'text_path': '/content/drive/MyDrive/text_bag_of_lies/run_0_User_21.txt', 'label': 1}, {'audio_path': '/content/drive/MyDrive/Audio-BagofLies/run_1_User_17.wav', 'text_path': '/content/drive/MyDrive/text_bag_of_lies/run_1_User_17.txt', 'label': 0}, {'audio_path': '/content/drive/MyDrive/Audio-BagofLies/run_4_User_17.wav', 'text_path': '/content/drive/MyDrive/text_bag_of_lies/run_4_User_17.txt', 'label': 0}, {'audio_path': '/content/drive/MyDrive/Audio-BagofLies/run_2_User_21.wav', 'text_path': '/content/drive/MyDrive/text_bag_of_lies/run_2_User_21.txt', 'label': 1}, {'audio_path': '/content/drive/MyDrive/Audio-BagofLies/run_5_User_32.wav', 'text_path': '/content/drive/MyDrive/text_bag_of_lies/run_5_User_32.txt', 'label': 1}, {'audio_path': '/content/drive/MyDrive/Audio-BagofLies/run_2_User_17.wav', 'text_path': '/content/drive/MyDrive/text_bag_of_lies/run_2_User_17.txt', 'label': 1}, {'audio_path': '/content/drive/MyDrive/Audio-BagofLies/run_7_User_10.wav', 'text_path': '/content/drive/MyDrive/text_bag_of_lies/run_7_User_10.txt', 'label': 1}, {'audio_path': '/content/drive/MyDrive/Audio-BagofLies/run_0_User_17.wav', 'text_path': '/content/drive/MyDrive/text_bag_of_lies/run_0_User_17.txt', 'label': 1}, {'audio_path': '/content/drive/MyDrive/Audio-BagofLies/run_3_User_10.wav', 'text_path': '/content/drive/MyDrive/text_bag_of_lies/run_3_User_10.txt', 'label': 0}, {'audio_path': '/content/drive/MyDrive/Audio-BagofLies/run_7_User_17.wav', 'text_path': '/content/drive/MyDrive/text_bag_of_lies/run_7_User_17.txt', 'label': 0}, {'audio_path': '/content/drive/MyDrive/Audio-BagofLies/run_0_User_10.wav', 'text_path': '/content/drive/MyDrive/text_bag_of_lies/run_0_User_10.txt', 'label': 0}, {'audio_path': '/content/drive/MyDrive/Audio-BagofLies/run_1_User_21.wav', 'text_path': '/content/drive/MyDrive/text_bag_of_lies/run_1_User_21.txt', 'label': 1}, {'audio_path': '/content/drive/MyDrive/Audio-BagofLies/run_7_User_27.wav', 'text_path': '/content/drive/MyDrive/text_bag_of_lies/run_7_User_27.txt', 'label': 0}, {'audio_path': '/content/drive/MyDrive/Audio-BagofLies/run_6_User_17.wav', 'text_path': '/content/drive/MyDrive/text_bag_of_lies/run_6_User_17.txt', 'label': 1}, {'audio_path': '/content/drive/MyDrive/Audio-BagofLies/run_3_User_21.wav', 'text_path': '/content/drive/MyDrive/text_bag_of_lies/run_3_User_21.txt', 'label': 0}, {'audio_path': '/content/drive/MyDrive/Audio-BagofLies/run_5_User_10.wav', 'text_path': '/content/drive/MyDrive/text_bag_of_lies/run_5_User_10.txt', 'label': 1}, {'audio_path': '/content/drive/MyDrive/Audio-BagofLies/run_4_User_10.wav', 'text_path': '/content/drive/MyDrive/text_bag_of_lies/run_4_User_10.txt', 'label': 1}, {'audio_path': '/content/drive/MyDrive/Audio-BagofLies/run_5_User_21.wav', 'text_path': '/content/drive/MyDrive/text_bag_of_lies/run_5_User_21.txt', 'label': 0}, {'audio_path': '/content/drive/MyDrive/Audio-BagofLies/run_5_User_17.wav', 'text_path': '/content/drive/MyDrive/text_bag_of_lies/run_5_User_17.txt', 'label': 0}, {'audio_path': '/content/drive/MyDrive/Audio-BagofLies/run_1_User_10.wav', 'text_path': '/content/drive/MyDrive/text_bag_of_lies/run_1_User_10.txt', 'label': 0}, {'audio_path': '/content/drive/MyDrive/Audio-BagofLies/run_3_User_17.wav', 'text_path': '/content/drive/MyDrive/text_bag_of_lies/run_3_User_17.txt', 'label': 1}, {'audio_path': '/content/drive/MyDrive/Audio-BagofLies/run_8_User_10.wav', 'text_path': '/content/drive/MyDrive/text_bag_of_lies/run_8_User_10.txt', 'label': 1}, {'audio_path': '/content/drive/MyDrive/Audio-BagofLies/run_6_User_21.wav', 'text_path': '/content/drive/MyDrive/text_bag_of_lies/run_6_User_21.txt', 'label': 0}, {'audio_path': '/content/drive/MyDrive/Audio-BagofLies/run_6_User_10.wav', 'text_path': '/content/drive/MyDrive/text_bag_of_lies/run_6_User_10.txt', 'label': 0}, {'audio_path': '/content/drive/MyDrive/Audio-BagofLies/run_6_User_33.wav', 'text_path': '/content/drive/MyDrive/text_bag_of_lies/run_6_User_33.txt', 'label': 1}, {'audio_path': '/content/drive/MyDrive/Audio-BagofLies/run_0_User_0.wav', 'text_path': '/content/drive/MyDrive/text_bag_of_lies/run_0_User_0.txt', 'label': 0}, {'audio_path': '/content/drive/MyDrive/Audio-BagofLies/run_7_User_34.wav', 'text_path': '/content/drive/MyDrive/text_bag_of_lies/run_7_User_34.txt', 'label': 1}, {'audio_path': '/content/drive/MyDrive/Audio-BagofLies/run_2_User_10.wav', 'text_path': '/content/drive/MyDrive/text_bag_of_lies/run_2_User_10.txt', 'label': 0}, {'audio_path': '/content/drive/MyDrive/Audio-BagofLies/run_9_User_34.wav', 'text_path': '/content/drive/MyDrive/text_bag_of_lies/run_9_User_34.txt', 'label': 1}, {'audio_path': '/content/drive/MyDrive/Audio-BagofLies/run_4_User_33.wav', 'text_path': '/content/drive/MyDrive/text_bag_of_lies/run_4_User_33.txt', 'label': 1}, {'audio_path': '/content/drive/MyDrive/Audio-BagofLies/run_3_User_34.wav', 'text_path': '/content/drive/MyDrive/text_bag_of_lies/run_3_User_34.txt', 'label': 1}, {'audio_path': '/content/drive/MyDrive/Audio-BagofLies/run_1_User_33.wav', 'text_path': '/content/drive/MyDrive/text_bag_of_lies/run_1_User_33.txt', 'label': 1}, {'audio_path': '/content/drive/MyDrive/Audio-BagofLies/run_5_User_33.wav', 'text_path': '/content/drive/MyDrive/text_bag_of_lies/run_5_User_33.txt', 'label': 1}, {'audio_path': '/content/drive/MyDrive/Audio-BagofLies/run_8_User_34.wav', 'text_path': '/content/drive/MyDrive/text_bag_of_lies/run_8_User_34.txt', 'label': 1}, {'audio_path': '/content/drive/MyDrive/Audio-BagofLies/run_2_User_33.wav', 'text_path': '/content/drive/MyDrive/text_bag_of_lies/run_2_User_33.txt', 'label': 1}, {'audio_path': '/content/drive/MyDrive/Audio-BagofLies/run_7_User_7.wav', 'text_path': '/content/drive/MyDrive/text_bag_of_lies/run_7_User_7.txt', 'label': 0}, {'audio_path': '/content/drive/MyDrive/Audio-BagofLies/run_3_User_33.wav', 'text_path': '/content/drive/MyDrive/text_bag_of_lies/run_3_User_33.txt', 'label': 1}, {'audio_path': '/content/drive/MyDrive/Audio-BagofLies/run_6_User_34.wav', 'text_path': '/content/drive/MyDrive/text_bag_of_lies/run_6_User_34.txt', 'label': 1}, {'audio_path': '/content/drive/MyDrive/Audio-BagofLies/run_7_User_6.wav', 'text_path': '/content/drive/MyDrive/text_bag_of_lies/run_7_User_6.txt', 'label': 1}, {'audio_path': '/content/drive/MyDrive/Audio-BagofLies/run_5_User_34.wav', 'text_path': '/content/drive/MyDrive/text_bag_of_lies/run_5_User_34.txt', 'label': 1}, {'audio_path': '/content/drive/MyDrive/Audio-BagofLies/run_1_User_6.wav', 'text_path': '/content/drive/MyDrive/text_bag_of_lies/run_1_User_6.txt', 'label': 0}, {'audio_path': '/content/drive/MyDrive/Audio-BagofLies/run_9_User_7.wav', 'text_path': '/content/drive/MyDrive/text_bag_of_lies/run_9_User_7.txt', 'label': 0}, {'audio_path': '/content/drive/MyDrive/Audio-BagofLies/run_5_User_0.wav', 'text_path': '/content/drive/MyDrive/text_bag_of_lies/run_5_User_0.txt', 'label': 0}, {'audio_path': '/content/drive/MyDrive/Audio-BagofLies/run_0_User_34.wav', 'text_path': '/content/drive/MyDrive/text_bag_of_lies/run_0_User_34.txt', 'label': 1}, {'audio_path': '/content/drive/MyDrive/Audio-BagofLies/run_0_User_7.wav', 'text_path': '/content/drive/MyDrive/text_bag_of_lies/run_0_User_7.txt', 'label': 0}, {'audio_path': '/content/drive/MyDrive/Audio-BagofLies/run_3_User_7.wav', 'text_path': '/content/drive/MyDrive/text_bag_of_lies/run_3_User_7.txt', 'label': 1}, {'audio_path': '/content/drive/MyDrive/Audio-BagofLies/run_4_User_7.wav', 'text_path': '/content/drive/MyDrive/text_bag_of_lies/run_4_User_7.txt', 'label': 1}, {'audio_path': '/content/drive/MyDrive/Audio-BagofLies/run_6_User_6.wav', 'text_path': '/content/drive/MyDrive/text_bag_of_lies/run_6_User_6.txt', 'label': 0}, {'audio_path': '/content/drive/MyDrive/Audio-BagofLies/run_1_User_34.wav', 'text_path': '/content/drive/MyDrive/text_bag_of_lies/run_1_User_34.txt', 'label': 1}, {'audio_path': '/content/drive/MyDrive/Audio-BagofLies/run_1_User_7.wav', 'text_path': '/content/drive/MyDrive/text_bag_of_lies/run_1_User_7.txt', 'label': 1}, {'audio_path': '/content/drive/MyDrive/Audio-BagofLies/run_2_User_34.wav', 'text_path': '/content/drive/MyDrive/text_bag_of_lies/run_2_User_34.txt', 'label': 1}, {'audio_path': '/content/drive/MyDrive/Audio-BagofLies/run_4_User_0.wav', 'text_path': '/content/drive/MyDrive/text_bag_of_lies/run_4_User_0.txt', 'label': 1}, {'audio_path': '/content/drive/MyDrive/Audio-BagofLies/run_8_User_6.wav', 'text_path': '/content/drive/MyDrive/text_bag_of_lies/run_8_User_6.txt', 'label': 0}, {'audio_path': '/content/drive/MyDrive/Audio-BagofLies/run_2_User_0.wav', 'text_path': '/content/drive/MyDrive/text_bag_of_lies/run_2_User_0.txt', 'label': 1}, {'audio_path': '/content/drive/MyDrive/Audio-BagofLies/run_4_User_34.wav', 'text_path': '/content/drive/MyDrive/text_bag_of_lies/run_4_User_34.txt', 'label': 0}, {'audio_path': '/content/drive/MyDrive/Audio-BagofLies/run_10_User_6.wav', 'text_path': '/content/drive/MyDrive/text_bag_of_lies/run_10_User_6.txt', 'label': 1}, {'audio_path': '/content/drive/MyDrive/Audio-BagofLies/run_9_User_6.wav', 'text_path': '/content/drive/MyDrive/text_bag_of_lies/run_9_User_6.txt', 'label': 0}, {'audio_path': '/content/drive/MyDrive/Audio-BagofLies/run_0_User_6.wav', 'text_path': '/content/drive/MyDrive/text_bag_of_lies/run_0_User_6.txt', 'label': 0}, {'audio_path': '/content/drive/MyDrive/Audio-BagofLies/run_3_User_6.wav', 'text_path': '/content/drive/MyDrive/text_bag_of_lies/run_3_User_6.txt', 'label': 1}, {'audio_path': '/content/drive/MyDrive/Audio-BagofLies/run_6_User_7.wav', 'text_path': '/content/drive/MyDrive/text_bag_of_lies/run_6_User_7.txt', 'label': 1}, {'audio_path': '/content/drive/MyDrive/Audio-BagofLies/run_0_User_33.wav', 'text_path': '/content/drive/MyDrive/text_bag_of_lies/run_0_User_33.txt', 'label': 0}, {'audio_path': '/content/drive/MyDrive/Audio-BagofLies/run_4_User_24.wav', 'text_path': '/content/drive/MyDrive/text_bag_of_lies/run_4_User_24.txt', 'label': 0}, {'audio_path': '/content/drive/MyDrive/Audio-BagofLies/run_1_User_0.wav', 'text_path': '/content/drive/MyDrive/text_bag_of_lies/run_1_User_0.txt', 'label': 1}, {'audio_path': '/content/drive/MyDrive/Audio-BagofLies/run_7_User_24.wav', 'text_path': '/content/drive/MyDrive/text_bag_of_lies/run_7_User_24.txt', 'label': 1}, {'audio_path': '/content/drive/MyDrive/Audio-BagofLies/run_4_User_6.wav', 'text_path': '/content/drive/MyDrive/text_bag_of_lies/run_4_User_6.txt', 'label': 0}, {'audio_path': '/content/drive/MyDrive/Audio-BagofLies/run_9_User_24.wav', 'text_path': '/content/drive/MyDrive/text_bag_of_lies/run_9_User_24.txt', 'label': 1}, {'audio_path': '/content/drive/MyDrive/Audio-BagofLies/run_5_User_6.wav', 'text_path': '/content/drive/MyDrive/text_bag_of_lies/run_5_User_6.txt', 'label': 1}, {'audio_path': '/content/drive/MyDrive/Audio-BagofLies/run_5_User_7.wav', 'text_path': '/content/drive/MyDrive/text_bag_of_lies/run_5_User_7.txt', 'label': 0}, {'audio_path': '/content/drive/MyDrive/Audio-BagofLies/run_2_User_6.wav', 'text_path': '/content/drive/MyDrive/text_bag_of_lies/run_2_User_6.txt', 'label': 0}, {'audio_path': '/content/drive/MyDrive/Audio-BagofLies/run_2_User_7.wav', 'text_path': '/content/drive/MyDrive/text_bag_of_lies/run_2_User_7.txt', 'label': 0}, {'audio_path': '/content/drive/MyDrive/Audio-BagofLies/run_8_User_7.wav', 'text_path': '/content/drive/MyDrive/text_bag_of_lies/run_8_User_7.txt', 'label': 1}, {'audio_path': '/content/drive/MyDrive/Audio-BagofLies/run_3_User_0.wav', 'text_path': '/content/drive/MyDrive/text_bag_of_lies/run_3_User_0.txt', 'label': 1}, {'audio_path': '/content/drive/MyDrive/Audio-BagofLies/run_8_User_24.wav', 'text_path': '/content/drive/MyDrive/text_bag_of_lies/run_8_User_24.txt', 'label': 0}, {'audio_path': '/content/drive/MyDrive/Audio-BagofLies/run_0_User_15.wav', 'text_path': '/content/drive/MyDrive/text_bag_of_lies/run_0_User_15.txt', 'label': 0}, {'audio_path': '/content/drive/MyDrive/Audio-BagofLies/run_4_User_23.wav', 'text_path': '/content/drive/MyDrive/text_bag_of_lies/run_4_User_23.txt', 'label': 0}, {'audio_path': '/content/drive/MyDrive/Audio-BagofLies/run_9_User_23.wav', 'text_path': '/content/drive/MyDrive/text_bag_of_lies/run_9_User_23.txt', 'label': 0}, {'audio_path': '/content/drive/MyDrive/Audio-BagofLies/run_3_User_24.wav', 'text_path': '/content/drive/MyDrive/text_bag_of_lies/run_3_User_24.txt', 'label': 1}, {'audio_path': '/content/drive/MyDrive/Audio-BagofLies/run_6_User_24.wav', 'text_path': '/content/drive/MyDrive/text_bag_of_lies/run_6_User_24.txt', 'label': 1}, {'audio_path': '/content/drive/MyDrive/Audio-BagofLies/run_0_User_23.wav', 'text_path': '/content/drive/MyDrive/text_bag_of_lies/run_0_User_23.txt', 'label': 1}, {'audio_path': '/content/drive/MyDrive/Audio-BagofLies/run_0_User_24.wav', 'text_path': '/content/drive/MyDrive/text_bag_of_lies/run_0_User_24.txt', 'label': 1}, {'audio_path': '/content/drive/MyDrive/Audio-BagofLies/run_2_User_24.wav', 'text_path': '/content/drive/MyDrive/text_bag_of_lies/run_2_User_24.txt', 'label': 1}, {'audio_path': '/content/drive/MyDrive/Audio-BagofLies/run_1_User_23.wav', 'text_path': '/content/drive/MyDrive/text_bag_of_lies/run_1_User_23.txt', 'label': 1}, {'audio_path': '/content/drive/MyDrive/Audio-BagofLies/run_5_User_23.wav', 'text_path': '/content/drive/MyDrive/text_bag_of_lies/run_5_User_23.txt', 'label': 0}, {'audio_path': '/content/drive/MyDrive/Audio-BagofLies/run_1_User_24.wav', 'text_path': '/content/drive/MyDrive/text_bag_of_lies/run_1_User_24.txt', 'label': 1}, {'audio_path': '/content/drive/MyDrive/Audio-BagofLies/run_3_User_23.wav', 'text_path': '/content/drive/MyDrive/text_bag_of_lies/run_3_User_23.txt', 'label': 0}, {'audio_path': '/content/drive/MyDrive/Audio-BagofLies/run_7_User_23.wav', 'text_path': '/content/drive/MyDrive/text_bag_of_lies/run_7_User_23.txt', 'label': 1}, {'audio_path': '/content/drive/MyDrive/Audio-BagofLies/run_6_User_23.wav', 'text_path': '/content/drive/MyDrive/text_bag_of_lies/run_6_User_23.txt', 'label': 1}, {'audio_path': '/content/drive/MyDrive/Audio-BagofLies/run_5_User_24.wav', 'text_path': '/content/drive/MyDrive/text_bag_of_lies/run_5_User_24.txt', 'label': 0}, {'audio_path': '/content/drive/MyDrive/Audio-BagofLies/run_2_User_23.wav', 'text_path': '/content/drive/MyDrive/text_bag_of_lies/run_2_User_23.txt', 'label': 1}, {'audio_path': '/content/drive/MyDrive/Audio-BagofLies/run_7_User_15.wav', 'text_path': '/content/drive/MyDrive/text_bag_of_lies/run_7_User_15.txt', 'label': 1}, {'audio_path': '/content/drive/MyDrive/Audio-BagofLies/run_7_User_14.wav', 'text_path': '/content/drive/MyDrive/text_bag_of_lies/run_7_User_14.txt', 'label': 1}, {'audio_path': '/content/drive/MyDrive/Audio-BagofLies/run_8_User_15.wav', 'text_path': '/content/drive/MyDrive/text_bag_of_lies/run_8_User_15.txt', 'label': 1}, {'audio_path': '/content/drive/MyDrive/Audio-BagofLies/run_2_User_15.wav', 'text_path': '/content/drive/MyDrive/text_bag_of_lies/run_2_User_15.txt', 'label': 1}, {'audio_path': '/content/drive/MyDrive/Audio-BagofLies/run_0_User_14.wav', 'text_path': '/content/drive/MyDrive/text_bag_of_lies/run_0_User_14.txt', 'label': 0}, {'audio_path': '/content/drive/MyDrive/Audio-BagofLies/run_1_User_15.wav', 'text_path': '/content/drive/MyDrive/text_bag_of_lies/run_1_User_15.txt', 'label': 0}, {'audio_path': '/content/drive/MyDrive/Audio-BagofLies/run_3_User_14.wav', 'text_path': '/content/drive/MyDrive/text_bag_of_lies/run_3_User_14.txt', 'label': 0}, {'audio_path': '/content/drive/MyDrive/Audio-BagofLies/run_9_User_14.wav', 'text_path': '/content/drive/MyDrive/text_bag_of_lies/run_9_User_14.txt', 'label': 0}, {'audio_path': '/content/drive/MyDrive/Audio-BagofLies/run_3_User_15.wav', 'text_path': '/content/drive/MyDrive/text_bag_of_lies/run_3_User_15.txt', 'label': 1}, {'audio_path': '/content/drive/MyDrive/Audio-BagofLies/run_7_User_13.wav', 'text_path': '/content/drive/MyDrive/text_bag_of_lies/run_7_User_13.txt', 'label': 1}, {'audio_path': '/content/drive/MyDrive/Audio-BagofLies/run_5_User_13.wav', 'text_path': '/content/drive/MyDrive/text_bag_of_lies/run_5_User_13.txt', 'label': 1}, {'audio_path': '/content/drive/MyDrive/Audio-BagofLies/run_9_User_15.wav', 'text_path': '/content/drive/MyDrive/text_bag_of_lies/run_9_User_15.txt', 'label': 1}, {'audio_path': '/content/drive/MyDrive/Audio-BagofLies/run_8_User_23.wav', 'text_path': '/content/drive/MyDrive/text_bag_of_lies/run_8_User_23.txt', 'label': 0}, {'audio_path': '/content/drive/MyDrive/Audio-BagofLies/run_5_User_14.wav', 'text_path': '/content/drive/MyDrive/text_bag_of_lies/run_5_User_14.txt', 'label': 1}, {'audio_path': '/content/drive/MyDrive/Audio-BagofLies/run_5_User_15.wav', 'text_path': '/content/drive/MyDrive/text_bag_of_lies/run_5_User_15.txt', 'label': 0}, {'audio_path': '/content/drive/MyDrive/Audio-BagofLies/run_4_User_15.wav', 'text_path': '/content/drive/MyDrive/text_bag_of_lies/run_4_User_15.txt', 'label': 0}, {'audio_path': '/content/drive/MyDrive/Audio-BagofLies/run_6_User_15.wav', 'text_path': '/content/drive/MyDrive/text_bag_of_lies/run_6_User_15.txt', 'label': 1}, {'audio_path': '/content/drive/MyDrive/Audio-BagofLies/run_1_User_14.wav', 'text_path': '/content/drive/MyDrive/text_bag_of_lies/run_1_User_14.txt', 'label': 1}, {'audio_path': '/content/drive/MyDrive/Audio-BagofLies/run_0_User_13.wav', 'text_path': '/content/drive/MyDrive/text_bag_of_lies/run_0_User_13.txt', 'label': 0}, {'audio_path': '/content/drive/MyDrive/Audio-BagofLies/run_1_User_13.wav', 'text_path': '/content/drive/MyDrive/text_bag_of_lies/run_1_User_13.txt', 'label': 0}, {'audio_path': '/content/drive/MyDrive/Audio-BagofLies/run_6_User_12.wav', 'text_path': '/content/drive/MyDrive/text_bag_of_lies/run_6_User_12.txt', 'label': 1}, {'audio_path': '/content/drive/MyDrive/Audio-BagofLies/run_1_User_12.wav', 'text_path': '/content/drive/MyDrive/text_bag_of_lies/run_1_User_12.txt', 'label': 1}, {'audio_path': '/content/drive/MyDrive/Audio-BagofLies/run_9_User_13.wav', 'text_path': '/content/drive/MyDrive/text_bag_of_lies/run_9_User_13.txt', 'label': 1}, {'audio_path': '/content/drive/MyDrive/Audio-BagofLies/run_6_User_14.wav', 'text_path': '/content/drive/MyDrive/text_bag_of_lies/run_6_User_14.txt', 'label': 0}, {'audio_path': '/content/drive/MyDrive/Audio-BagofLies/run_5_User_12.wav', 'text_path': '/content/drive/MyDrive/text_bag_of_lies/run_5_User_12.txt', 'label': 0}, {'audio_path': '/content/drive/MyDrive/Audio-BagofLies/run_8_User_12.wav', 'text_path': '/content/drive/MyDrive/text_bag_of_lies/run_8_User_12.txt', 'label': 1}, {'audio_path': '/content/drive/MyDrive/Audio-BagofLies/run_9_User_12.wav', 'text_path': '/content/drive/MyDrive/text_bag_of_lies/run_9_User_12.txt', 'label': 0}, {'audio_path': '/content/drive/MyDrive/Audio-BagofLies/run_4_User_14.wav', 'text_path': '/content/drive/MyDrive/text_bag_of_lies/run_4_User_14.txt', 'label': 0}, {'audio_path': '/content/drive/MyDrive/Audio-BagofLies/run_2_User_13.wav', 'text_path': '/content/drive/MyDrive/text_bag_of_lies/run_2_User_13.txt', 'label': 0}, {'audio_path': '/content/drive/MyDrive/Audio-BagofLies/run_0_User_12.wav', 'text_path': '/content/drive/MyDrive/text_bag_of_lies/run_0_User_12.txt', 'label': 0}, {'audio_path': '/content/drive/MyDrive/Audio-BagofLies/run_6_User_13.wav', 'text_path': '/content/drive/MyDrive/text_bag_of_lies/run_6_User_13.txt', 'label': 1}, {'audio_path': '/content/drive/MyDrive/Audio-BagofLies/run_3_User_12.wav', 'text_path': '/content/drive/MyDrive/text_bag_of_lies/run_3_User_12.txt', 'label': 0}, {'audio_path': '/content/drive/MyDrive/Audio-BagofLies/run_2_User_14.wav', 'text_path': '/content/drive/MyDrive/text_bag_of_lies/run_2_User_14.txt', 'label': 1}, {'audio_path': '/content/drive/MyDrive/Audio-BagofLies/run_3_User_13.wav', 'text_path': '/content/drive/MyDrive/text_bag_of_lies/run_3_User_13.txt', 'label': 1}, {'audio_path': '/content/drive/MyDrive/Audio-BagofLies/run_4_User_13.wav', 'text_path': '/content/drive/MyDrive/text_bag_of_lies/run_4_User_13.txt', 'label': 0}, {'audio_path': '/content/drive/MyDrive/Audio-BagofLies/run_2_User_1.wav', 'text_path': '/content/drive/MyDrive/text_bag_of_lies/run_2_User_1.txt', 'label': 0}, {'audio_path': '/content/drive/MyDrive/Audio-BagofLies/run_8_User_13.wav', 'text_path': '/content/drive/MyDrive/text_bag_of_lies/run_8_User_13.txt', 'label': 0}, {'audio_path': '/content/drive/MyDrive/Audio-BagofLies/run_9_User_8.wav', 'text_path': '/content/drive/MyDrive/text_bag_of_lies/run_9_User_8.txt', 'label': 0}, {'audio_path': '/content/drive/MyDrive/Audio-BagofLies/run_4_User_1.wav', 'text_path': '/content/drive/MyDrive/text_bag_of_lies/run_4_User_1.txt', 'label': 1}, {'audio_path': '/content/drive/MyDrive/Audio-BagofLies/run_8_User_14.wav', 'text_path': '/content/drive/MyDrive/text_bag_of_lies/run_8_User_14.txt', 'label': 0}, {'audio_path': '/content/drive/MyDrive/Audio-BagofLies/run_7_User_9.wav', 'text_path': '/content/drive/MyDrive/text_bag_of_lies/run_7_User_9.txt', 'label': 0}, {'audio_path': '/content/drive/MyDrive/Audio-BagofLies/run_8_User_8.wav', 'text_path': '/content/drive/MyDrive/text_bag_of_lies/run_8_User_8.txt', 'label': 0}, {'audio_path': '/content/drive/MyDrive/Audio-BagofLies/run_1_User_9.wav', 'text_path': '/content/drive/MyDrive/text_bag_of_lies/run_1_User_9.txt', 'label': 1}, {'audio_path': '/content/drive/MyDrive/Audio-BagofLies/run_3_User_1.wav', 'text_path': '/content/drive/MyDrive/text_bag_of_lies/run_3_User_1.txt', 'label': 0}, {'audio_path': '/content/drive/MyDrive/Audio-BagofLies/run_6_User_9.wav', 'text_path': '/content/drive/MyDrive/text_bag_of_lies/run_6_User_9.txt', 'label': 1}, {'audio_path': '/content/drive/MyDrive/Audio-BagofLies/run_1_User_1.wav', 'text_path': '/content/drive/MyDrive/text_bag_of_lies/run_1_User_1.txt', 'label': 1}, {'audio_path': '/content/drive/MyDrive/Audio-BagofLies/run_7_User_8.wav', 'text_path': '/content/drive/MyDrive/text_bag_of_lies/run_7_User_8.txt', 'label': 1}, {'audio_path': '/content/drive/MyDrive/Audio-BagofLies/run_1_User_8.wav', 'text_path': '/content/drive/MyDrive/text_bag_of_lies/run_1_User_8.txt', 'label': 0}, {'audio_path': '/content/drive/MyDrive/Audio-BagofLies/run_4_User_12.wav', 'text_path': '/content/drive/MyDrive/text_bag_of_lies/run_4_User_12.txt', 'label': 1}, {'audio_path': '/content/drive/MyDrive/Audio-BagofLies/run_0_User_8.wav', 'text_path': '/content/drive/MyDrive/text_bag_of_lies/run_0_User_8.txt', 'label': 0}, {'audio_path': '/content/drive/MyDrive/Audio-BagofLies/run_2_User_8.wav', 'text_path': '/content/drive/MyDrive/text_bag_of_lies/run_2_User_8.txt', 'label': 0}, {'audio_path': '/content/drive/MyDrive/Audio-BagofLies/run_3_User_8.wav', 'text_path': '/content/drive/MyDrive/text_bag_of_lies/run_3_User_8.txt', 'label': 1}, {'audio_path': '/content/drive/MyDrive/Audio-BagofLies/run_4_User_8.wav', 'text_path': '/content/drive/MyDrive/text_bag_of_lies/run_4_User_8.txt', 'label': 1}, {'audio_path': '/content/drive/MyDrive/Audio-BagofLies/run_0_User_9.wav', 'text_path': '/content/drive/MyDrive/text_bag_of_lies/run_0_User_9.txt', 'label': 0}, {'audio_path': '/content/drive/MyDrive/Audio-BagofLies/run_0_User_22.wav', 'text_path': '/content/drive/MyDrive/text_bag_of_lies/run_0_User_22.txt', 'label': 1}, {'audio_path': '/content/drive/MyDrive/Audio-BagofLies/run_4_User_9.wav', 'text_path': '/content/drive/MyDrive/text_bag_of_lies/run_4_User_9.txt', 'label': 1}, {'audio_path': '/content/drive/MyDrive/Audio-BagofLies/run_6_User_22.wav', 'text_path': '/content/drive/MyDrive/text_bag_of_lies/run_6_User_22.txt', 'label': 0}, {'audio_path': '/content/drive/MyDrive/Audio-BagofLies/run_7_User_22.wav', 'text_path': '/content/drive/MyDrive/text_bag_of_lies/run_7_User_22.txt', 'label': 1}, {'audio_path': '/content/drive/MyDrive/Audio-BagofLies/run_8_User_22.wav', 'text_path': '/content/drive/MyDrive/text_bag_of_lies/run_8_User_22.txt', 'label': 0}, {'audio_path': '/content/drive/MyDrive/Audio-BagofLies/run_2_User_9.wav', 'text_path': '/content/drive/MyDrive/text_bag_of_lies/run_2_User_9.txt', 'label': 1}, {'audio_path': '/content/drive/MyDrive/Audio-BagofLies/run_2_User_12.wav', 'text_path': '/content/drive/MyDrive/text_bag_of_lies/run_2_User_12.txt', 'label': 0}, {'audio_path': '/content/drive/MyDrive/Audio-BagofLies/run_5_User_9.wav', 'text_path': '/content/drive/MyDrive/text_bag_of_lies/run_5_User_9.txt', 'label': 0}, {'audio_path': '/content/drive/MyDrive/Audio-BagofLies/run_3_User_9.wav', 'text_path': '/content/drive/MyDrive/text_bag_of_lies/run_3_User_9.txt', 'label': 0}, {'audio_path': '/content/drive/MyDrive/Audio-BagofLies/run_6_User_8.wav', 'text_path': '/content/drive/MyDrive/text_bag_of_lies/run_6_User_8.txt', 'label': 0}, {'audio_path': '/content/drive/MyDrive/Audio-BagofLies/run_9_User_22.wav', 'text_path': '/content/drive/MyDrive/text_bag_of_lies/run_9_User_22.txt', 'label': 1}, {'audio_path': '/content/drive/MyDrive/Audio-BagofLies/run_2_User_22.wav', 'text_path': '/content/drive/MyDrive/text_bag_of_lies/run_2_User_22.txt', 'label': 0}, {'audio_path': '/content/drive/MyDrive/Audio-BagofLies/run_5_User_8.wav', 'text_path': '/content/drive/MyDrive/text_bag_of_lies/run_5_User_8.txt', 'label': 0}, {'audio_path': '/content/drive/MyDrive/Audio-BagofLies/run_0_User_1.wav', 'text_path': '/content/drive/MyDrive/text_bag_of_lies/run_0_User_1.txt', 'label': 0}, {'audio_path': '/content/drive/MyDrive/Audio-BagofLies/run_5_User_1.wav', 'text_path': '/content/drive/MyDrive/text_bag_of_lies/run_5_User_1.txt', 'label': 0}, {'audio_path': '/content/drive/MyDrive/Audio-BagofLies/run_6_User_25.wav', 'text_path': '/content/drive/MyDrive/text_bag_of_lies/run_6_User_25.txt', 'label': 1}, {'audio_path': '/content/drive/MyDrive/Audio-BagofLies/run_3_User_22.wav', 'text_path': '/content/drive/MyDrive/text_bag_of_lies/run_3_User_22.txt', 'label': 1}, {'audio_path': '/content/drive/MyDrive/Audio-BagofLies/run_0_User_5.wav', 'text_path': '/content/drive/MyDrive/text_bag_of_lies/run_0_User_5.txt', 'label': 1}, {'audio_path': '/content/drive/MyDrive/Audio-BagofLies/run_3_User_25.wav', 'text_path': '/content/drive/MyDrive/text_bag_of_lies/run_3_User_25.txt', 'label': 1}, {'audio_path': '/content/drive/MyDrive/Audio-BagofLies/run_6_User_5.wav', 'text_path': '/content/drive/MyDrive/text_bag_of_lies/run_6_User_5.txt', 'label': 0}, {'audio_path': '/content/drive/MyDrive/Audio-BagofLies/run_3_User_5.wav', 'text_path': '/content/drive/MyDrive/text_bag_of_lies/run_3_User_5.txt', 'label': 0}, {'audio_path': '/content/drive/MyDrive/Audio-BagofLies/run_7_User_5.wav', 'text_path': '/content/drive/MyDrive/text_bag_of_lies/run_7_User_5.txt', 'label': 0}, {'audio_path': '/content/drive/MyDrive/Audio-BagofLies/run_4_User_22.wav', 'text_path': '/content/drive/MyDrive/text_bag_of_lies/run_4_User_22.txt', 'label': 0}, {'audio_path': '/content/drive/MyDrive/Audio-BagofLies/run_1_User_5.wav', 'text_path': '/content/drive/MyDrive/text_bag_of_lies/run_1_User_5.txt', 'label': 0}, {'audio_path': '/content/drive/MyDrive/Audio-BagofLies/run_9_User_5.wav', 'text_path': '/content/drive/MyDrive/text_bag_of_lies/run_9_User_5.txt', 'label': 1}, {'audio_path': '/content/drive/MyDrive/Audio-BagofLies/run_1_User_22.wav', 'text_path': '/content/drive/MyDrive/text_bag_of_lies/run_1_User_22.txt', 'label': 0}, {'audio_path': '/content/drive/MyDrive/Audio-BagofLies/run_5_User_5.wav', 'text_path': '/content/drive/MyDrive/text_bag_of_lies/run_5_User_5.txt', 'label': 1}, {'audio_path': '/content/drive/MyDrive/Audio-BagofLies/run_4_User_5.wav', 'text_path': '/content/drive/MyDrive/text_bag_of_lies/run_4_User_5.txt', 'label': 1}, {'audio_path': '/content/drive/MyDrive/Audio-BagofLies/run_1_User_25.wav', 'text_path': '/content/drive/MyDrive/text_bag_of_lies/run_1_User_25.txt', 'label': 1}, {'audio_path': '/content/drive/MyDrive/Audio-BagofLies/run_8_User_25.wav', 'text_path': '/content/drive/MyDrive/text_bag_of_lies/run_8_User_25.txt', 'label': 0}, {'audio_path': '/content/drive/MyDrive/Audio-BagofLies/run_2_User_30.wav', 'text_path': '/content/drive/MyDrive/text_bag_of_lies/run_2_User_30.txt', 'label': 1}, {'audio_path': '/content/drive/MyDrive/Audio-BagofLies/run_8_User_5.wav', 'text_path': '/content/drive/MyDrive/text_bag_of_lies/run_8_User_5.txt', 'label': 1}, {'audio_path': '/content/drive/MyDrive/Audio-BagofLies/run_5_User_22.wav', 'text_path': '/content/drive/MyDrive/text_bag_of_lies/run_5_User_22.txt', 'label': 1}, {'audio_path': '/content/drive/MyDrive/Audio-BagofLies/run_4_User_30.wav', 'text_path': '/content/drive/MyDrive/text_bag_of_lies/run_4_User_30.txt', 'label': 0}, {'audio_path': '/content/drive/MyDrive/Audio-BagofLies/run_5_User_30.wav', 'text_path': '/content/drive/MyDrive/text_bag_of_lies/run_5_User_30.txt', 'label': 0}, {'audio_path': '/content/drive/MyDrive/Audio-BagofLies/run_1_User_2.wav', 'text_path': '/content/drive/MyDrive/text_bag_of_lies/run_1_User_2.txt', 'label': 1}, {'audio_path': '/content/drive/MyDrive/Audio-BagofLies/run_9_User_30.wav', 'text_path': '/content/drive/MyDrive/text_bag_of_lies/run_9_User_30.txt', 'label': 1}, {'audio_path': '/content/drive/MyDrive/Audio-BagofLies/run_8_User_30.wav', 'text_path': '/content/drive/MyDrive/text_bag_of_lies/run_8_User_30.txt', 'label': 0}, {'audio_path': '/content/drive/MyDrive/Audio-BagofLies/run_7_User_30.wav', 'text_path': '/content/drive/MyDrive/text_bag_of_lies/run_7_User_30.txt', 'label': 1}, {'audio_path': '/content/drive/MyDrive/Audio-BagofLies/run_2_User_2.wav', 'text_path': '/content/drive/MyDrive/text_bag_of_lies/run_2_User_2.txt', 'label': 1}, {'audio_path': '/content/drive/MyDrive/Audio-BagofLies/run_0_User_3.wav', 'text_path': '/content/drive/MyDrive/text_bag_of_lies/run_0_User_3.txt', 'label': 1}, {'audio_path': '/content/drive/MyDrive/Audio-BagofLies/run_4_User_3.wav', 'text_path': '/content/drive/MyDrive/text_bag_of_lies/run_4_User_3.txt', 'label': 1}, {'audio_path': '/content/drive/MyDrive/Audio-BagofLies/run_4_User_25.wav', 'text_path': '/content/drive/MyDrive/text_bag_of_lies/run_4_User_25.txt', 'label': 0}, {'audio_path': '/content/drive/MyDrive/Audio-BagofLies/run_2_User_5.wav', 'text_path': '/content/drive/MyDrive/text_bag_of_lies/run_2_User_5.txt', 'label': 0}, {'audio_path': '/content/drive/MyDrive/Audio-BagofLies/run_9_User_25.wav', 'text_path': '/content/drive/MyDrive/text_bag_of_lies/run_9_User_25.txt', 'label': 0}, {'audio_path': '/content/drive/MyDrive/Audio-BagofLies/run_0_User_30.wav', 'text_path': '/content/drive/MyDrive/text_bag_of_lies/run_0_User_30.txt', 'label': 0}, {'audio_path': '/content/drive/MyDrive/Audio-BagofLies/run_5_User_3.wav', 'text_path': '/content/drive/MyDrive/text_bag_of_lies/run_5_User_3.txt', 'label': 0}, {'audio_path': '/content/drive/MyDrive/Audio-BagofLies/run_2_User_25.wav', 'text_path': '/content/drive/MyDrive/text_bag_of_lies/run_2_User_25.txt', 'label': 0}, {'audio_path': '/content/drive/MyDrive/Audio-BagofLies/run_0_User_2.wav', 'text_path': '/content/drive/MyDrive/text_bag_of_lies/run_0_User_2.txt', 'label': 0}, {'audio_path': '/content/drive/MyDrive/Audio-BagofLies/run_7_User_25.wav', 'text_path': '/content/drive/MyDrive/text_bag_of_lies/run_7_User_25.txt', 'label': 0}, {'audio_path': '/content/drive/MyDrive/Audio-BagofLies/run_5_User_25.wav', 'text_path': '/content/drive/MyDrive/text_bag_of_lies/run_5_User_25.txt', 'label': 0}, {'audio_path': '/content/drive/MyDrive/Audio-BagofLies/run_4_User_31.wav', 'text_path': '/content/drive/MyDrive/text_bag_of_lies/run_4_User_31.txt', 'label': 1}, {'audio_path': '/content/drive/MyDrive/Audio-BagofLies/run_1_User_31.wav', 'text_path': '/content/drive/MyDrive/text_bag_of_lies/run_1_User_31.txt', 'label': 0}, {'audio_path': '/content/drive/MyDrive/Audio-BagofLies/run_3_User_31.wav', 'text_path': '/content/drive/MyDrive/text_bag_of_lies/run_3_User_31.txt', 'label': 0}, {'audio_path': '/content/drive/MyDrive/Audio-BagofLies/run_6_User_31.wav', 'text_path': '/content/drive/MyDrive/text_bag_of_lies/run_6_User_31.txt', 'label': 0}, {'audio_path': '/content/drive/MyDrive/Audio-BagofLies/run_5_User_31.wav', 'text_path': '/content/drive/MyDrive/text_bag_of_lies/run_5_User_31.txt', 'label': 0}, {'audio_path': '/content/drive/MyDrive/Audio-BagofLies/run_1_User_3.wav', 'text_path': '/content/drive/MyDrive/text_bag_of_lies/run_1_User_3.txt', 'label': 1}, {'audio_path': '/content/drive/MyDrive/Audio-BagofLies/run_2_User_3.wav', 'text_path': '/content/drive/MyDrive/text_bag_of_lies/run_2_User_3.txt', 'label': 0}, {'audio_path': '/content/drive/MyDrive/Audio-BagofLies/run_6_User_3.wav', 'text_path': '/content/drive/MyDrive/text_bag_of_lies/run_6_User_3.txt', 'label': 1}, {'audio_path': '/content/drive/MyDrive/Audio-BagofLies/run_7_User_3.wav', 'text_path': '/content/drive/MyDrive/text_bag_of_lies/run_7_User_3.txt', 'label': 0}, {'audio_path': '/content/drive/MyDrive/Audio-BagofLies/run_2_User_31.wav', 'text_path': '/content/drive/MyDrive/text_bag_of_lies/run_2_User_31.txt', 'label': 1}, {'audio_path': '/content/drive/MyDrive/Audio-BagofLies/run_8_User_4.wav', 'text_path': '/content/drive/MyDrive/text_bag_of_lies/run_8_User_4.txt', 'label': 1}, {'audio_path': '/content/drive/MyDrive/Audio-BagofLies/run_8_User_31.wav', 'text_path': '/content/drive/MyDrive/text_bag_of_lies/run_8_User_31.txt', 'label': 1}, {'audio_path': '/content/drive/MyDrive/Audio-BagofLies/run_3_User_3.wav', 'text_path': '/content/drive/MyDrive/text_bag_of_lies/run_3_User_3.txt', 'label': 0}, {'audio_path': '/content/drive/MyDrive/Audio-BagofLies/run_1_User_30.wav', 'text_path': '/content/drive/MyDrive/text_bag_of_lies/run_1_User_30.txt', 'label': 0}, {'audio_path': '/content/drive/MyDrive/Audio-BagofLies/run_0_User_31.wav', 'text_path': '/content/drive/MyDrive/text_bag_of_lies/run_0_User_31.txt', 'label': 1}, {'audio_path': '/content/drive/MyDrive/Audio-BagofLies/run_6_User_30.wav', 'text_path': '/content/drive/MyDrive/text_bag_of_lies/run_6_User_30.txt', 'label': 1}, {'audio_path': '/content/drive/MyDrive/Audio-BagofLies/run_3_User_30.wav', 'text_path': '/content/drive/MyDrive/text_bag_of_lies/run_3_User_30.txt', 'label': 1}, {'audio_path': '/content/drive/MyDrive/Audio-BagofLies/run_7_User_31.wav', 'text_path': '/content/drive/MyDrive/text_bag_of_lies/run_7_User_31.txt', 'label': 1}, {'audio_path': '/content/drive/MyDrive/Audio-BagofLies/run_2_User_4.wav', 'text_path': '/content/drive/MyDrive/text_bag_of_lies/run_2_User_4.txt', 'label': 0}, {'audio_path': '/content/drive/MyDrive/Audio-BagofLies/run_7_User_4.wav', 'text_path': '/content/drive/MyDrive/text_bag_of_lies/run_7_User_4.txt', 'label': 0}, {'audio_path': '/content/drive/MyDrive/Audio-BagofLies/run_6_User_4.wav', 'text_path': '/content/drive/MyDrive/text_bag_of_lies/run_6_User_4.txt', 'label': 1}, {'audio_path': '/content/drive/MyDrive/Audio-BagofLies/run_0_User_25.wav', 'text_path': '/content/drive/MyDrive/text_bag_of_lies/run_0_User_25.txt', 'label': 0}, {'audio_path': '/content/drive/MyDrive/Audio-BagofLies/run_4_User_4.wav', 'text_path': '/content/drive/MyDrive/text_bag_of_lies/run_4_User_4.txt', 'label': 0}, {'audio_path': '/content/drive/MyDrive/Audio-BagofLies/run_9_User_4.wav', 'text_path': '/content/drive/MyDrive/text_bag_of_lies/run_9_User_4.txt', 'label': 1}, {'audio_path': '/content/drive/MyDrive/Audio-BagofLies/run_5_User_4.wav', 'text_path': '/content/drive/MyDrive/text_bag_of_lies/run_5_User_4.txt', 'label': 1}, {'audio_path': '/content/drive/MyDrive/Audio-BagofLies/run_0_User_4.wav', 'text_path': '/content/drive/MyDrive/text_bag_of_lies/run_0_User_4.txt', 'label': 0}, {'audio_path': '/content/drive/MyDrive/Audio-BagofLies/run_3_User_4.wav', 'text_path': '/content/drive/MyDrive/text_bag_of_lies/run_3_User_4.txt', 'label': 1}, {'audio_path': '/content/drive/MyDrive/Audio-BagofLies/run_1_User_4.wav', 'text_path': '/content/drive/MyDrive/text_bag_of_lies/run_1_User_4.txt', 'label': 0}]\n"
          ]
        },
        {
          "output_type": "stream",
          "name": "stderr",
          "text": [
            "100%|██████████| 324/324 [02:06<00:00,  2.57it/s]\n"
          ]
        }
      ],
      "source": [
        "def create_data_array(audio_dir, text,metadata):\n",
        "    data_array = []\n",
        "    audio_files = os.listdir(audio_dir)\n",
        "    for idx, audio_file in enumerate(audio_files):\n",
        "        if (audio_file == 'metadata.csv') | (audio_file == '.ipynb_checkpoints'):\n",
        "            continue\n",
        "\n",
        "        label = metadata[metadata['file_name'] == audio_file]['label'].reset_index()['label'][0]\n",
        "        data = {\n",
        "            'audio_path':  audio_dir + '/' +  audio_file,\n",
        "            'text_path': text_dir + '/' + audio_file.replace('.wav','.txt'),\n",
        "            'label': label\n",
        "        }\n",
        "        data_array.append(data)\n",
        "    return data_array\n",
        "\n",
        "audio_dir = '/content/drive/MyDrive/Audio-BagofLies'\n",
        "text_dir = '/content/drive/MyDrive/text_bag_of_lies'\n",
        "data = create_data_array(audio_dir, text_dir,metadata)\n",
        "print(data)\n",
        "extracted_features_new = []\n",
        "extracted_features_text_new = []\n",
        "extracted_features_audio_new = []\n",
        "# glove_model = load_glove_model(glove_file)\n",
        "\n",
        "for audio in tqdm(data):\n",
        "    audio_features = extract_features_audio(audio['audio_path'])\n",
        "    text_features = extract_features_text(glove_model, text_path = audio['text_path'],)\n",
        "    combined_features = np.concatenate((audio_features,text_features))\n",
        "    extracted_features_new.append([combined_features, audio['label']])\n",
        "    extracted_features_text_new.append([text_features, audio['label']])\n",
        "    extracted_features_audio_new.append([audio_features, audio['label']])\n"
      ]
    },
    {
      "cell_type": "code",
      "execution_count": 42,
      "id": "cd473f9e-9c27-4467-8f44-09e563135708",
      "metadata": {
        "id": "cd473f9e-9c27-4467-8f44-09e563135708",
        "colab": {
          "base_uri": "https://localhost:8080/"
        },
        "outputId": "a393f695-a806-41ef-a98c-108ecee641da"
      },
      "outputs": [
        {
          "output_type": "stream",
          "name": "stdout",
          "text": [
            "(324, 2)\n",
            "\n",
            "c :  20.0\n",
            "Accuracy for training dataset:  0.5448288971095122\n",
            "F1 Score for training dataset:  0.542887386845489\n",
            "Accuracy for testing dataset:  0.5287912087912088\n",
            "F1 Score for testing dataset:  0.5104948182747044\n",
            "\n",
            "c :  20.0\n",
            "Accuracy for training dataset:  0.8996138996138996\n",
            "F1 Score for training dataset:  0.8907563025210083\n",
            "Accuracy for testing dataset:  0.5076923076923077\n",
            "F1 Score for testing dataset:  0.5294117647058824\n"
          ]
        }
      ],
      "source": [
        "bag_of_lies_clf = evaluate_classifier_k_fold(extracted_features_audio_new, 'svm_rbf', np.array([20.0]),\n",
        "                        train_percentage=0.80)\n",
        "bag_of_lies_clf = evaluate_classifier(extracted_features_audio_new, 'svm_rbf', np.array([20.0]),\n",
        "                        train_percentage=0.80)"
      ]
    },
    {
      "cell_type": "markdown",
      "source": [
        "Train SVM Model on DeceitBank Dataset"
      ],
      "metadata": {
        "id": "VjFYCaNZzXTh"
      },
      "id": "VjFYCaNZzXTh"
    },
    {
      "cell_type": "code",
      "source": [
        "def create_data_array(audio_dir, text):\n",
        "    data_array = []\n",
        "    audio_files = os.listdir(audio_dir)\n",
        "    print(len(audio_files))\n",
        "    print(text)\n",
        "    for idx, audio_file in enumerate(audio_files):\n",
        "        if (audio_file == 'metadata.csv') | (audio_file == '.ipynb_checkpoints'):\n",
        "          continue\n",
        "        if 'lie' in audio_file:\n",
        "            label = 1\n",
        "        else:\n",
        "            label = 0\n",
        "        data = {\n",
        "            'audio_path':  audio_dir + '/' +  audio_file,\n",
        "            'text': text.loc[idx, 'transcription'],\n",
        "            'label': label\n",
        "        }\n",
        "        data_array.append(data)\n",
        "    return data_array\n",
        "\n",
        "text = pd.read_csv('/content/drive/MyDrive/Copy of transcriptions.csv', index_col=0)\n",
        "audio_dir = '/content/drive/MyDrive/RecordingsWav'\n",
        "\n",
        "data = create_data_array(audio_dir, text)\n",
        "\n",
        "extracted_features_new1 = []\n",
        "extracted_features_text_new1 = []\n",
        "extracted_features_audio_new1 = []\n",
        "# glove_model = load_glove_model(glove_file)\n",
        "\n",
        "for audio in tqdm(data):\n",
        "    audio_features = extract_features_audio(audio['audio_path'])\n",
        "    text_features = extract_features_text(glove_model, text = audio['text'])\n",
        "    combined_features = np.concatenate((audio_features,text_features))\n",
        "    extracted_features_new1.append([combined_features, audio['label']])\n",
        "    extracted_features_text_new1.append([text_features, audio['label']])\n",
        "    extracted_features_audio_new1.append([audio_features, audio['label']])\n"
      ],
      "metadata": {
        "colab": {
          "base_uri": "https://localhost:8080/"
        },
        "id": "2GCAXm4sLtp2",
        "outputId": "5cf958e1-2a71-4f5e-d240-8b177d1f3ee2"
      },
      "id": "2GCAXm4sLtp2",
      "execution_count": 43,
      "outputs": [
        {
          "output_type": "stream",
          "name": "stdout",
          "text": [
            "122\n",
            "     Unnamed: 0                                      transcription  \\\n",
            "0             0   What is the due date for your next credit car...   \n",
            "1             1   What is the current interest rate on your sav...   \n",
            "2             2   What is your date of birth? My date of birth ...   \n",
            "3             3   can you provide details about your most recen...   \n",
            "4             4   What is the credit limit on your credit card?...   \n",
            "..          ...                                                ...   \n",
            "115         115   How did you hear about our bank or services? ...   \n",
            "116         116   Can you provide your account number? Yes, my ...   \n",
            "117         117   Can you provide details about your most recen...   \n",
            "118         118     What is the credit limits on your credit card?   \n",
            "119         119   What is the due date for your next credit car...   \n",
            "\n",
            "                                             file_name  \n",
            "0    ../data/bankcall2/Ava Thompson_lie_audio107082...  \n",
            "1    ../data/bankcall2/Ava Thompson_lie_audio117082...  \n",
            "2    ../data/bankcall2/Ava Thompson_lie_audio170822...  \n",
            "3    ../data/bankcall2/Ava Thompson_lie_audio870822...  \n",
            "4    ../data/bankcall2/Ava Thompson_lie_audio970822...  \n",
            "..                                                 ...  \n",
            "115  ../data/bankcall2/William Johnson_truth_audio3...  \n",
            "116  ../data/bankcall2/William Johnson_truth_audio4...  \n",
            "117  ../data/bankcall2/William Johnson_truth_audio6...  \n",
            "118  ../data/bankcall2/William Johnson_truth_audio7...  \n",
            "119  ../data/bankcall2/William Johnson_truth_audio8...  \n",
            "\n",
            "[120 rows x 3 columns]\n"
          ]
        },
        {
          "output_type": "stream",
          "name": "stderr",
          "text": [
            "100%|██████████| 120/120 [00:46<00:00,  2.59it/s]\n"
          ]
        }
      ]
    },
    {
      "cell_type": "code",
      "source": [
        "deceitbank_clf = evaluate_classifier_k_fold(extracted_features_new1, 'svm_rbf', np.array([10.0]),\n",
        "                        train_percentage=0.80)\n",
        "deceitbank_clf = evaluate_classifier(extracted_features_new1, 'svm_rbf', np.array([10.0]),\n",
        "                        train_percentage=0.80)"
      ],
      "metadata": {
        "colab": {
          "base_uri": "https://localhost:8080/"
        },
        "id": "ynbXVQK7OhTb",
        "outputId": "55fdba98-1b80-44e2-e0b9-af342e83660b"
      },
      "id": "ynbXVQK7OhTb",
      "execution_count": 52,
      "outputs": [
        {
          "output_type": "stream",
          "name": "stdout",
          "text": [
            "(120, 2)\n",
            "\n",
            "c :  10.0\n",
            "Accuracy for training dataset:  0.5762575556538405\n",
            "F1 Score for training dataset:  0.5860671868294374\n",
            "Accuracy for testing dataset:  0.5833333333333334\n",
            "F1 Score for testing dataset:  0.5833333333333334\n",
            "\n",
            "c :  10.0\n",
            "Accuracy for training dataset:  1.0\n",
            "F1 Score for training dataset:  1.0\n",
            "Accuracy for testing dataset:  0.5833333333333334\n",
            "F1 Score for testing dataset:  0.5454545454545454\n"
          ]
        }
      ]
    },
    {
      "cell_type": "markdown",
      "source": [
        "Cross -Dataset Evaluations"
      ],
      "metadata": {
        "id": "zpnSRygQP4MB"
      },
      "id": "zpnSRygQP4MB"
    },
    {
      "cell_type": "code",
      "source": [
        "from sklearn import svm\n",
        "from sklearn.metrics import f1_score, accuracy_score\n",
        "\n",
        "def cross_dataset(model,data):\n",
        "  extracted_features_df = pd.DataFrame(data,columns=['features','label'])\n",
        "  X_new = np.array(extracted_features_df['features'].tolist())\n",
        "  y_new = np.array(extracted_features_df['label'].tolist())\n",
        "  y_pred = model.predict(X_new)\n",
        "\n",
        "  f1 = f1_score(y_new, y_pred, average='binary')\n",
        "  print(\"F1 Score:\", f1)\n",
        "\n",
        "  # Compute the accuracy\n",
        "  accuracy = accuracy_score(y_new, y_pred)\n",
        "  print(\"Accuracy:\", accuracy)\n"
      ],
      "metadata": {
        "id": "70YGpd4Jzb6d"
      },
      "id": "70YGpd4Jzb6d",
      "execution_count": 40,
      "outputs": []
    },
    {
      "cell_type": "code",
      "source": [
        "cross_dataset(trial_clf,extracted_features_new)"
      ],
      "metadata": {
        "colab": {
          "base_uri": "https://localhost:8080/"
        },
        "id": "irpfn5HS3_u_",
        "outputId": "1b02c38e-6a6c-4b67-da17-a5e387b131b0"
      },
      "id": "irpfn5HS3_u_",
      "execution_count": 45,
      "outputs": [
        {
          "output_type": "stream",
          "name": "stdout",
          "text": [
            "F1 Score: 0.6470588235294118\n",
            "Accuracy: 0.4782608695652174\n"
          ]
        }
      ]
    },
    {
      "cell_type": "code",
      "source": [
        "cross_dataset(trial_clf,extracted_features_new1)"
      ],
      "metadata": {
        "colab": {
          "base_uri": "https://localhost:8080/"
        },
        "id": "zOEvrNSvPM30",
        "outputId": "fd60483a-89a8-4048-8f8f-abd1198d7cb7"
      },
      "id": "zOEvrNSvPM30",
      "execution_count": 46,
      "outputs": [
        {
          "output_type": "stream",
          "name": "stdout",
          "text": [
            "F1 Score: 0.5542168674698795\n",
            "Accuracy: 0.38333333333333336\n"
          ]
        }
      ]
    },
    {
      "cell_type": "code",
      "source": [
        "cross_dataset(bag_of_lies_clf,extracted_features_new1)"
      ],
      "metadata": {
        "colab": {
          "base_uri": "https://localhost:8080/"
        },
        "id": "J775WUD8PSHy",
        "outputId": "33858268-ff46-442f-de09-cfeb8a234892"
      },
      "id": "J775WUD8PSHy",
      "execution_count": 47,
      "outputs": [
        {
          "output_type": "stream",
          "name": "stdout",
          "text": [
            "F1 Score: 0.0\n",
            "Accuracy: 0.6166666666666667\n"
          ]
        }
      ]
    },
    {
      "cell_type": "code",
      "source": [
        "cross_dataset(bag_of_lies_clf,extracted_features)"
      ],
      "metadata": {
        "colab": {
          "base_uri": "https://localhost:8080/"
        },
        "id": "rpu4a0oU464G",
        "outputId": "a2f3a703-d572-457e-d118-a6d377fe4c14"
      },
      "id": "rpu4a0oU464G",
      "execution_count": 49,
      "outputs": [
        {
          "output_type": "stream",
          "name": "stdout",
          "text": [
            "F1 Score: 0.0\n",
            "Accuracy: 0.5030864197530864\n"
          ]
        }
      ]
    },
    {
      "cell_type": "code",
      "source": [
        "cross_dataset(deceitbank_clf,extracted_features)"
      ],
      "metadata": {
        "colab": {
          "base_uri": "https://localhost:8080/"
        },
        "id": "a69UArWPPd9n",
        "outputId": "9940cc36-01c1-4a5c-a057-0c1fe0c61e76"
      },
      "id": "a69UArWPPd9n",
      "execution_count": 50,
      "outputs": [
        {
          "output_type": "stream",
          "name": "stdout",
          "text": [
            "F1 Score: 0.0\n",
            "Accuracy: 0.5217391304347826\n"
          ]
        }
      ]
    },
    {
      "cell_type": "code",
      "source": [
        "cross_dataset(deceitbank_clf,extracted_features_new)"
      ],
      "metadata": {
        "colab": {
          "base_uri": "https://localhost:8080/"
        },
        "id": "TkYcUu99Plth",
        "outputId": "3ca6c920-977f-4021-def8-9425725eebfd"
      },
      "id": "TkYcUu99Plth",
      "execution_count": 51,
      "outputs": [
        {
          "output_type": "stream",
          "name": "stdout",
          "text": [
            "F1 Score: 0.0\n",
            "Accuracy: 0.6166666666666667\n"
          ]
        }
      ]
    }
  ],
  "metadata": {
    "kernelspec": {
      "display_name": "Python 3 (ipykernel)",
      "language": "python",
      "name": "python3"
    },
    "language_info": {
      "codemirror_mode": {
        "name": "ipython",
        "version": 3
      },
      "file_extension": ".py",
      "mimetype": "text/x-python",
      "name": "python",
      "nbconvert_exporter": "python",
      "pygments_lexer": "ipython3",
      "version": "3.9.13"
    },
    "colab": {
      "provenance": []
    }
  },
  "nbformat": 4,
  "nbformat_minor": 5
}