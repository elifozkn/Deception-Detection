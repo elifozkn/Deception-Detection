{
  "cells": [
    {
      "cell_type": "code",
      "execution_count": 1,
      "metadata": {
        "colab": {
          "base_uri": "https://localhost:8080/"
        },
        "id": "EpzCy-KSSONc",
        "outputId": "d0c5ccba-9cc0-429a-9fbc-fb67b11983cd"
      },
      "outputs": [
        {
          "output_type": "stream",
          "name": "stdout",
          "text": [
            "Mounted at /content/drive\n"
          ]
        }
      ],
      "source": [
        "from google.colab import drive\n",
        "drive.mount('/content/drive')"
      ]
    },
    {
      "cell_type": "code",
      "execution_count": 2,
      "metadata": {
        "colab": {
          "base_uri": "https://localhost:8080/"
        },
        "id": "pOiV6QIfSdFt",
        "outputId": "32103325-34ef-4111-f6d9-e824cc0e4767"
      },
      "outputs": [
        {
          "output_type": "stream",
          "name": "stdout",
          "text": [
            "\u001b[2K     \u001b[90m━━━━━━━━━━━━━━━━━━━━━━━━━━━━━━━━━━━━━━━━\u001b[0m \u001b[32m510.5/510.5 kB\u001b[0m \u001b[31m5.1 MB/s\u001b[0m eta \u001b[36m0:00:00\u001b[0m\n",
            "\u001b[2K     \u001b[90m━━━━━━━━━━━━━━━━━━━━━━━━━━━━━━━━━━━━━━━━\u001b[0m \u001b[32m116.3/116.3 kB\u001b[0m \u001b[31m10.0 MB/s\u001b[0m eta \u001b[36m0:00:00\u001b[0m\n",
            "\u001b[2K     \u001b[90m━━━━━━━━━━━━━━━━━━━━━━━━━━━━━━━━━━━━━━━━\u001b[0m \u001b[32m134.8/134.8 kB\u001b[0m \u001b[31m7.2 MB/s\u001b[0m eta \u001b[36m0:00:00\u001b[0m\n",
            "\u001b[2K     \u001b[90m━━━━━━━━━━━━━━━━━━━━━━━━━━━━━━━━━━━━━━━━\u001b[0m \u001b[32m84.1/84.1 kB\u001b[0m \u001b[31m2.0 MB/s\u001b[0m eta \u001b[36m0:00:00\u001b[0m\n",
            "\u001b[2K     \u001b[90m━━━━━━━━━━━━━━━━━━━━━━━━━━━━━━━━━━━━━━━━\u001b[0m \u001b[32m280.0/280.0 kB\u001b[0m \u001b[31m4.5 MB/s\u001b[0m eta \u001b[36m0:00:00\u001b[0m\n",
            "\u001b[?25h"
          ]
        }
      ],
      "source": [
        "! pip install datasets --quiet\n",
        "! pip install evaluate --quiet\n",
        "! pip install transformers --quiet\n",
        "!pip install huggingface_hub --quiet\n",
        "\n",
        "!pip install accelerate -U --quiet\n",
        "!pip install transformers[torch] --quiet"
      ]
    },
    {
      "cell_type": "code",
      "execution_count": 3,
      "metadata": {
        "id": "ltcbAYGqSfK7"
      },
      "outputs": [],
      "source": [
        "from datasets import load_dataset\n",
        "from datasets import Audio\n",
        "from datasets import DatasetDict\n",
        "from datasets import Dataset as DT\n",
        "\n",
        "import numpy as np\n",
        "\n",
        "from transformers import AutoModelForAudioClassification, TrainingArguments, Trainer\n",
        "from transformers import AutoFeatureExtractor\n",
        "from transformers import EarlyStoppingCallback\n",
        "\n",
        "import torch\n",
        "import evaluate\n",
        "\n",
        "from sklearn.model_selection import KFold\n",
        "from sklearn.metrics import precision_score, recall_score, f1_score, accuracy_score\n",
        "from sklearn.model_selection import LeaveOneOut\n",
        "from sklearn.model_selection import train_test_split\n",
        "\n",
        "import seaborn as sns\n",
        "import matplotlib.pyplot as plt\n",
        "import librosa\n",
        "\n",
        "from collections import defaultdict\n",
        "\n",
        "import torch\n",
        "\n",
        "\n",
        "import os\n",
        "import csv\n",
        "\n"
      ]
    },
    {
      "cell_type": "code",
      "execution_count": null,
      "metadata": {
        "colab": {
          "base_uri": "https://localhost:8080/"
        },
        "id": "HkjQ6DWgSwW5",
        "outputId": "2ce9bf24-b76c-4515-8c68-2f1321e320a0"
      },
      "outputs": [
        {
          "name": "stdout",
          "output_type": "stream",
          "text": [
            "Using device: cpu\n"
          ]
        }
      ],
      "source": [
        "device = torch.device(\"cuda\" if torch.cuda.is_available() else \"cpu\")\n",
        "print(f\"Using device: {device}\")"
      ]
    },
    {
      "cell_type": "code",
      "execution_count": null,
      "metadata": {
        "id": "SAPFwBaTSqXQ"
      },
      "outputs": [],
      "source": [
        "def window_audio(audio_array, window_size=10, overlap=0.75):\n",
        "    sr = 16000\n",
        "    window_size_samples = int(window_size * sr)\n",
        "    overlap_samples = int(window_size_samples * overlap)\n",
        "\n",
        "    windows = []\n",
        "    for i in range(0, len(audio_array) - window_size_samples, overlap_samples):\n",
        "        window = audio_array[i:i + window_size_samples]\n",
        "        windows.append(window)\n",
        "\n",
        "    return windows\n",
        "\n",
        "\n",
        "def preprocess_function(examples):\n",
        "    audio_arrays = [x[\"array\"] for x in examples[\"audio\"]]\n",
        "    inputs = feature_extractor(\n",
        "        audio_arrays, sampling_rate=feature_extractor.sampling_rate, max_length=16000*10, truncation=True)\n",
        "    return inputs\n",
        "\n",
        "def compute_metrics(eval_pred):\n",
        "    predictions = np.argmax(eval_pred.predictions, axis=1)\n",
        "\n",
        "    f1 = f1_score(y_true=eval_pred.label_ids, y_pred=predictions, average='weighted')\n",
        "    accuracy = accuracy_score(y_true=eval_pred.label_ids, y_pred=predictions)\n",
        "\n",
        "    return {\n",
        "        \"f1_score\": f1,\n",
        "        \"accuracy\": accuracy\n",
        "    }\n",
        "\n",
        "\n",
        "def apply_window(dataset):\n",
        "    windowed_dataset = defaultdict(list)\n",
        "\n",
        "    for instance_id, example in enumerate(dataset):\n",
        "        audio_array = example[\"audio\"][\"array\"]\n",
        "        windows = window_audio(audio_array)\n",
        "\n",
        "        for window in windows:\n",
        "            windowed_dataset[\"audio\"].append({\"array\": window})\n",
        "            windowed_dataset[\"label\"].append(example[\"label\"])\n",
        "            windowed_dataset[\"instance_id\"].append(instance_id)\n",
        "\n",
        "    windowed_dataset = DT.from_dict(windowed_dataset)\n",
        "    return windowed_dataset\n",
        "\n",
        "\n",
        "\n",
        "\n",
        "\n"
      ]
    },
    {
      "cell_type": "code",
      "execution_count": null,
      "metadata": {
        "id": "mgdrpi6DS5d2"
      },
      "outputs": [],
      "source": [
        "def evaluate_test_set(test_dataset, train_val_dataset, training_args, modelname):\n",
        "    encoded_train_val_dataset = train_val_dataset.map(preprocess_function, remove_columns=\"audio\", batched=True)\n",
        "    encoded_test_dataset = test_dataset.map(preprocess_function, remove_columns=\"audio\", batched=True)\n",
        "\n",
        "    model = AutoModelForAudioClassification.from_pretrained(\"facebook/hubert-base-ls960\", num_labels=num_labels)\n",
        "    model.to(device)\n",
        "\n",
        "    trainer = Trainer(\n",
        "        model=model,\n",
        "        args=training_args,\n",
        "        train_dataset=encoded_train_val_dataset,\n",
        "        eval_dataset=encoded_test_dataset,\n",
        "        tokenizer=feature_extractor,\n",
        "        compute_metrics=compute_metrics,\n",
        "        callbacks=[EarlyStoppingCallback(3, 0.0)]\n",
        "    )\n",
        "\n",
        "    trainer.train()\n",
        "    trainer.save_model(f\"/content/drive/MyDrive/{modelname}/model_{modelname}_final\")\n",
        "    eval_results = trainer.evaluate()\n",
        "\n",
        "    predictions = trainer.predict(encoded_test_dataset)\n",
        "\n",
        "    # Apply averaging using instance_id\n",
        "    instance_id_predictions = defaultdict(list)\n",
        "    for i, instance_id in enumerate(test_dataset[\"instance_id\"]):\n",
        "        instance_id_predictions[instance_id].append(predictions.predictions[i])\n",
        "\n",
        "    for instance_id, instance_predictions in instance_id_predictions.items():\n",
        "        mean_prediction = np.mean(instance_predictions, axis=0)\n",
        "        eval_results[f'eval_predictions_{instance_id}'] = mean_prediction\n",
        "\n",
        "    print(f\"\\nTest Set Evaluation - F1 Score: {eval_results['eval_f1_score']}\")\n",
        "    print(f\"Test Set Evaluation - Accuracy: {eval_results['eval_accuracy']}\")\n"
      ]
    },
    {
      "cell_type": "markdown",
      "metadata": {
        "id": "cKNbO7noTBdX"
      },
      "source": [
        "## HuBERT-Trial Cross Dataset Evaluation"
      ]
    },
    {
      "cell_type": "markdown",
      "metadata": {
        "id": "FxKb-c40TITN"
      },
      "source": [
        "HuBERT-Trial on DeceitBank"
      ]
    },
    {
      "cell_type": "code",
      "execution_count": 5,
      "metadata": {
        "id": "vbMCMBVTTRJ-"
      },
      "outputs": [],
      "source": [
        "from transformers import AutoModelForAudioClassification\n",
        "from sklearn.metrics import precision_score, recall_score, f1_score, confusion_matrix\n",
        "import seaborn as sns\n",
        "import matplotlib.pyplot as plt\n",
        "from transformers import pipeline\n",
        "\n",
        "model = AutoModelForAudioClassification.from_pretrained(\"/content/drive/MyDrive/trial/model_trial_final\")\n",
        "feature_extractor = AutoFeatureExtractor.from_pretrained(\"facebook/hubert-base-ls960\")\n",
        "classifier = pipeline(\"audio-classification\", model=model,feature_extractor = feature_extractor)"
      ]
    },
    {
      "cell_type": "code",
      "execution_count": null,
      "metadata": {
        "id": "P-G-N0ZdT4dR"
      },
      "outputs": [],
      "source": [
        "def evaluate_cross_dataset(dataset,model):\n",
        "  dataset = load_dataset(\"audiofolder\", data_dir = dataset, split='train')\n",
        "  dataset = dataset.cast_column(\"audio\", Audio(sampling_rate=16000))\n",
        "\n",
        "  feature_extractor = AutoFeatureExtractor.from_pretrained(\"facebook/hubert-base-ls960\")\n",
        "  classifier = pipeline(\"audio-classification\", model=model,feature_extractor = feature_extractor)\n",
        "\n",
        "  dataset = apply_window(dataset)\n",
        "\n",
        "  y_true_test = dataset[\"label\"]\n",
        "  predictions_test = []\n",
        "\n",
        "  for file in dataset:\n",
        "      audio_array = np.array(file[\"audio\"]['array'])\n",
        "      sampling_rate = 16000\n",
        "\n",
        "      result = classifier({\"raw\": audio_array, \"sampling_rate\": sampling_rate})\n",
        "      predictions_test.append(result[0][\"label\"])\n",
        "\n",
        "  label_mapping = {\"LABEL_0\": 0, \"LABEL_1\": 1}\n",
        "  predictions_test = [label_mapping[label] for label in predictions_test]\n",
        "\n",
        "  recall =accuracy_score(y_true_test, predictions_test)\n",
        "  f1 = f1_score(y_true_test, predictions_test)\n",
        "\n",
        "  print(f\"Accuracy: {recall}\")\n",
        "  print(f\"F1 Score: {f1}\")\n"
      ]
    },
    {
      "cell_type": "code",
      "execution_count": null,
      "metadata": {
        "colab": {
          "base_uri": "https://localhost:8080/",
          "height": 116,
          "referenced_widgets": [
            "5bb6a2a1b0ed43e1bdb05f67239b1a4a",
            "4913775cee374af5a0c966a7af9ac87d",
            "da8a3b1279fb479696f7b7a22e533e39",
            "02951bccebd242ac8ee5a12c65b9e14d",
            "00ca247fcdda49d99b8d161306bf6d61",
            "a74bde1395d94b91a62462a2bfef18d0",
            "efe4a37335ab477286221a2f491bd030",
            "6efe850a258d4f079c3a9b6688ba9456",
            "530c9649b4c94772ba65971eb1fc325d",
            "6c2367bd3b1b4c4aa5dc588417bdfadf",
            "1fbcb73d59c44fc6855182d3c018bdfc",
            "22f77f62352040199ef62b939b9e9d97",
            "6e6118f4c75248efb90f9576e198b88d",
            "22485df4d31e44c8af8be68b8253801d",
            "e85a694fd99f45bf877e73d60072bc94",
            "b9ec49ccfd464c20b643b91843266cea",
            "baf6018323d841fe9fda951013ca1920",
            "ff0a7d6bf9be4e88ac50e7fd6fa6f230",
            "d54033b56dfe4ebd81a77f816699bc45",
            "dbbffaeef83449e99ae2c19628366f53",
            "fecf10442c0d4e87ae84b748ff2f758a",
            "4068edfb718e4e35a8fca0212e0ba65f"
          ]
        },
        "id": "YTrzghVQS65q",
        "outputId": "c9311771-1d8c-4090-e0f1-867334590fd5"
      },
      "outputs": [
        {
          "data": {
            "application/vnd.jupyter.widget-view+json": {
              "model_id": "5bb6a2a1b0ed43e1bdb05f67239b1a4a",
              "version_major": 2,
              "version_minor": 0
            },
            "text/plain": [
              "Resolving data files:   0%|          | 0/121 [00:00<?, ?it/s]"
            ]
          },
          "metadata": {},
          "output_type": "display_data"
        },
        {
          "data": {
            "application/vnd.jupyter.widget-view+json": {
              "model_id": "22f77f62352040199ef62b939b9e9d97",
              "version_major": 2,
              "version_minor": 0
            },
            "text/plain": [
              "Generating train split: 0 examples [00:00, ? examples/s]"
            ]
          },
          "metadata": {},
          "output_type": "display_data"
        },
        {
          "name": "stdout",
          "output_type": "stream",
          "text": [
            "Accuracy: 0.6819444444444445\n",
            "F1 Score: 0.6427638190954773\n"
          ]
        }
      ],
      "source": [
        "model = AutoModelForAudioClassification.from_pretrained(\"/content/drive/MyDrive/trial/model_trial_final\")\n",
        "\n",
        "evaluate_cross_dataset(\"/content/drive/MyDrive/RecordingsWav\",model)\n"
      ]
    },
    {
      "cell_type": "markdown",
      "metadata": {
        "id": "ZhUae-pGTkzi"
      },
      "source": [
        "HuBERT-Trial on Bag of Lies"
      ]
    },
    {
      "cell_type": "code",
      "source": [
        "evaluate_cross_dataset(\"/content/drive/MyDrive/Audio-BagofLies\",model)"
      ],
      "metadata": {
        "colab": {
          "base_uri": "https://localhost:8080/",
          "height": 84,
          "referenced_widgets": [
            "ea7de7067e824091bd37bc0e5be7d7a1",
            "4d2c1782a6c241889be95e4097bec5c4",
            "1c4293374f314f9c8fac67d92ec539e5",
            "ac9e771cc81b47eaa3ab27615d1d6667",
            "de7707d707f147e98ea6e8ed62c9cea8",
            "f1484917d8c24519943ef09970b55663",
            "6136b675ab0547a6ad1b321fd08cdfcf",
            "34024eb24568467a9a6e7b36ee98d372",
            "3e5cf98ec68143f9b3ca07e8910418a5",
            "b61eeb51640b4ec6b29366f99bcdf3bf",
            "83b3804f80ca4f4bb7f22844b9a37a42"
          ]
        },
        "id": "xJdW2m7D4aaX",
        "outputId": "34d14cff-6e89-4e2a-a010-dde56b461e85"
      },
      "execution_count": 9,
      "outputs": [
        {
          "output_type": "display_data",
          "data": {
            "text/plain": [
              "Resolving data files:   0%|          | 0/325 [00:00<?, ?it/s]"
            ],
            "application/vnd.jupyter.widget-view+json": {
              "version_major": 2,
              "version_minor": 0,
              "model_id": "ea7de7067e824091bd37bc0e5be7d7a1"
            }
          },
          "metadata": {}
        },
        {
          "output_type": "stream",
          "name": "stdout",
          "text": [
            "Accuracy: 0.73\n",
            "F1 Score: 0.69\n"
          ]
        }
      ]
    },
    {
      "cell_type": "markdown",
      "metadata": {
        "id": "j6CAiU6zUsZy"
      },
      "source": [
        "## Cross Dataset Evaluation : HuBERT-Bag of Lies"
      ]
    },
    {
      "cell_type": "markdown",
      "metadata": {
        "id": "0X_5lC9VU1yr"
      },
      "source": [
        "On Trial Data"
      ]
    },
    {
      "cell_type": "code",
      "execution_count": null,
      "metadata": {
        "colab": {
          "background_save": true,
          "referenced_widgets": [
            "1c0399c12db04298bea4dad07cbcf27b",
            "1a6645f8622246f78f5bd5a0fc676c6e"
          ]
        },
        "id": "3hJ4HU3hU5aw",
        "outputId": "5172fee2-7dc1-4679-d71b-70b18b7fae19"
      },
      "outputs": [
        {
          "data": {
            "application/vnd.jupyter.widget-view+json": {
              "model_id": "1c0399c12db04298bea4dad07cbcf27b",
              "version_major": 2,
              "version_minor": 0
            },
            "text/plain": [
              "Resolving data files:   0%|          | 0/116 [00:00<?, ?it/s]"
            ]
          },
          "metadata": {},
          "output_type": "display_data"
        },
        {
          "data": {
            "application/vnd.jupyter.widget-view+json": {
              "model_id": "1a6645f8622246f78f5bd5a0fc676c6e",
              "version_major": 2,
              "version_minor": 0
            },
            "text/plain": [
              "Generating train split: 0 examples [00:00, ? examples/s]"
            ]
          },
          "metadata": {},
          "output_type": "display_data"
        },
        {
          "name": "stdout",
          "output_type": "stream",
          "text": [
            "Accuracy: 0.7444444444444445\n",
            "F1 Score: 0.6988794926004228\n"
          ]
        }
      ],
      "source": [
        "bog_model = AutoModelForAudioClassification.from_pretrained(\"/content/drive/MyDrive/BagOfLiesModel/model_BagOfLiesModel_final\")\n",
        "\n",
        "evaluate_cross_dataset(\"/content/drive/MyDrive/all_audio\",bog_model)\n"
      ]
    },
    {
      "cell_type": "markdown",
      "metadata": {
        "id": "B4mOGF-3V5mQ"
      },
      "source": [
        "On DeceitBank Data"
      ]
    },
    {
      "cell_type": "code",
      "execution_count": null,
      "metadata": {
        "colab": {
          "background_save": true,
          "referenced_widgets": [
            "3cd0644fc7674348ad018228e37b71f3"
          ]
        },
        "id": "8qGNcxDqV-Py",
        "outputId": "2d5be567-da9a-49c9-bfb3-a38442865215"
      },
      "outputs": [
        {
          "data": {
            "application/vnd.jupyter.widget-view+json": {
              "model_id": "3cd0644fc7674348ad018228e37b71f3",
              "version_major": 2,
              "version_minor": 0
            },
            "text/plain": [
              "Resolving data files:   0%|          | 0/121 [00:00<?, ?it/s]"
            ]
          },
          "metadata": {},
          "output_type": "display_data"
        },
        {
          "name": "stdout",
          "output_type": "stream",
          "text": [
            "Accuracy: 0.6819444444444445\n",
            "F1 Score: 0.6427638190954773\n"
          ]
        }
      ],
      "source": [
        "evaluate_cross_dataset(\"/content/drive/MyDrive/RecordingsWav\",bog_model)"
      ]
    },
    {
      "cell_type": "markdown",
      "metadata": {
        "id": "kk8FV4HpWFlf"
      },
      "source": [
        "## Cross Dataset Evaluation : HuBERT-DeceitBank"
      ]
    },
    {
      "cell_type": "markdown",
      "metadata": {
        "id": "H7wUXgJeWLLV"
      },
      "source": [
        "On Trial Data"
      ]
    },
    {
      "cell_type": "code",
      "execution_count": null,
      "metadata": {
        "colab": {
          "background_save": true,
          "referenced_widgets": [
            "8bfc0d4f968f4d93ae0adecdd542c957"
          ]
        },
        "id": "9P5gNDPVWNSV",
        "outputId": "c3462bfb-439e-4c84-d8c0-bff3af94afce"
      },
      "outputs": [
        {
          "data": {
            "application/vnd.jupyter.widget-view+json": {
              "model_id": "8bfc0d4f968f4d93ae0adecdd542c957",
              "version_major": 2,
              "version_minor": 0
            },
            "text/plain": [
              "Resolving data files:   0%|          | 0/116 [00:00<?, ?it/s]"
            ]
          },
          "metadata": {},
          "output_type": "display_data"
        },
        {
          "name": "stdout",
          "output_type": "stream",
          "text": [
            "Accuracy: 0.8345345345345345\n",
            "F1 Score: 0.09\n"
          ]
        }
      ],
      "source": [
        "deceitbank_model = AutoModelForAudioClassification.from_pretrained(\"/content/drive/MyDrive/DeceitBank/model_DeceitBank_final\")\n",
        "evaluate_cross_dataset(\"/content/drive/MyDrive/all_audio\",deceitbank_model)"
      ]
    },
    {
      "cell_type": "markdown",
      "metadata": {
        "id": "mpIfBdGFWdo1"
      },
      "source": [
        "On Bag of Lies Data"
      ]
    },
    {
      "cell_type": "code",
      "execution_count": null,
      "metadata": {
        "colab": {
          "background_save": true,
          "referenced_widgets": [
            "d1180fae7a3445d991df5ff00565f258"
          ]
        },
        "id": "kJYdvjduWfsa",
        "outputId": "af92a476-c820-45d3-f997-1cc179a7a432"
      },
      "outputs": [
        {
          "data": {
            "application/vnd.jupyter.widget-view+json": {
              "model_id": "d1180fae7a3445d991df5ff00565f258",
              "version_major": 2,
              "version_minor": 0
            },
            "text/plain": [
              "Resolving data files:   0%|          | 0/325 [00:00<?, ?it/s]"
            ]
          },
          "metadata": {},
          "output_type": "display_data"
        },
        {
          "name": "stdout",
          "output_type": "stream",
          "text": [
            "Accuracy: 0.7850498338870432\n",
            "F1 Score: 0.09\n"
          ]
        }
      ],
      "source": [
        "evaluate_cross_dataset(\"/content/drive/MyDrive/Audio-BagofLies\",deceitbank_model)"
      ]
    }
  ],
  "metadata": {
    "colab": {
      "provenance": []
    },
    "kernelspec": {
      "display_name": "Python 3",
      "name": "python3"
    },
    "language_info": {
      "name": "python"
    },
    "widgets": {
      "application/vnd.jupyter.widget-state+json": {
        "00ca247fcdda49d99b8d161306bf6d61": {
          "model_module": "@jupyter-widgets/base",
          "model_module_version": "1.2.0",
          "model_name": "LayoutModel",
          "state": {
            "_model_module": "@jupyter-widgets/base",
            "_model_module_version": "1.2.0",
            "_model_name": "LayoutModel",
            "_view_count": null,
            "_view_module": "@jupyter-widgets/base",
            "_view_module_version": "1.2.0",
            "_view_name": "LayoutView",
            "align_content": null,
            "align_items": null,
            "align_self": null,
            "border": null,
            "bottom": null,
            "display": null,
            "flex": null,
            "flex_flow": null,
            "grid_area": null,
            "grid_auto_columns": null,
            "grid_auto_flow": null,
            "grid_auto_rows": null,
            "grid_column": null,
            "grid_gap": null,
            "grid_row": null,
            "grid_template_areas": null,
            "grid_template_columns": null,
            "grid_template_rows": null,
            "height": null,
            "justify_content": null,
            "justify_items": null,
            "left": null,
            "margin": null,
            "max_height": null,
            "max_width": null,
            "min_height": null,
            "min_width": null,
            "object_fit": null,
            "object_position": null,
            "order": null,
            "overflow": null,
            "overflow_x": null,
            "overflow_y": null,
            "padding": null,
            "right": null,
            "top": null,
            "visibility": null,
            "width": null
          }
        },
        "02951bccebd242ac8ee5a12c65b9e14d": {
          "model_module": "@jupyter-widgets/controls",
          "model_module_version": "1.5.0",
          "model_name": "HTMLModel",
          "state": {
            "_dom_classes": [],
            "_model_module": "@jupyter-widgets/controls",
            "_model_module_version": "1.5.0",
            "_model_name": "HTMLModel",
            "_view_count": null,
            "_view_module": "@jupyter-widgets/controls",
            "_view_module_version": "1.5.0",
            "_view_name": "HTMLView",
            "description": "",
            "description_tooltip": null,
            "layout": "IPY_MODEL_6c2367bd3b1b4c4aa5dc588417bdfadf",
            "placeholder": "​",
            "style": "IPY_MODEL_1fbcb73d59c44fc6855182d3c018bdfc",
            "value": " 121/121 [00:00&lt;00:00, 1617.20it/s]"
          }
        },
        "1fbcb73d59c44fc6855182d3c018bdfc": {
          "model_module": "@jupyter-widgets/controls",
          "model_module_version": "1.5.0",
          "model_name": "DescriptionStyleModel",
          "state": {
            "_model_module": "@jupyter-widgets/controls",
            "_model_module_version": "1.5.0",
            "_model_name": "DescriptionStyleModel",
            "_view_count": null,
            "_view_module": "@jupyter-widgets/base",
            "_view_module_version": "1.2.0",
            "_view_name": "StyleView",
            "description_width": ""
          }
        },
        "22485df4d31e44c8af8be68b8253801d": {
          "model_module": "@jupyter-widgets/controls",
          "model_module_version": "1.5.0",
          "model_name": "FloatProgressModel",
          "state": {
            "_dom_classes": [],
            "_model_module": "@jupyter-widgets/controls",
            "_model_module_version": "1.5.0",
            "_model_name": "FloatProgressModel",
            "_view_count": null,
            "_view_module": "@jupyter-widgets/controls",
            "_view_module_version": "1.5.0",
            "_view_name": "ProgressView",
            "bar_style": "success",
            "description": "",
            "description_tooltip": null,
            "layout": "IPY_MODEL_d54033b56dfe4ebd81a77f816699bc45",
            "max": 1,
            "min": 0,
            "orientation": "horizontal",
            "style": "IPY_MODEL_dbbffaeef83449e99ae2c19628366f53",
            "value": 1
          }
        },
        "22f77f62352040199ef62b939b9e9d97": {
          "model_module": "@jupyter-widgets/controls",
          "model_module_version": "1.5.0",
          "model_name": "HBoxModel",
          "state": {
            "_dom_classes": [],
            "_model_module": "@jupyter-widgets/controls",
            "_model_module_version": "1.5.0",
            "_model_name": "HBoxModel",
            "_view_count": null,
            "_view_module": "@jupyter-widgets/controls",
            "_view_module_version": "1.5.0",
            "_view_name": "HBoxView",
            "box_style": "",
            "children": [
              "IPY_MODEL_6e6118f4c75248efb90f9576e198b88d",
              "IPY_MODEL_22485df4d31e44c8af8be68b8253801d",
              "IPY_MODEL_e85a694fd99f45bf877e73d60072bc94"
            ],
            "layout": "IPY_MODEL_b9ec49ccfd464c20b643b91843266cea"
          }
        },
        "4068edfb718e4e35a8fca0212e0ba65f": {
          "model_module": "@jupyter-widgets/controls",
          "model_module_version": "1.5.0",
          "model_name": "DescriptionStyleModel",
          "state": {
            "_model_module": "@jupyter-widgets/controls",
            "_model_module_version": "1.5.0",
            "_model_name": "DescriptionStyleModel",
            "_view_count": null,
            "_view_module": "@jupyter-widgets/base",
            "_view_module_version": "1.2.0",
            "_view_name": "StyleView",
            "description_width": ""
          }
        },
        "4913775cee374af5a0c966a7af9ac87d": {
          "model_module": "@jupyter-widgets/controls",
          "model_module_version": "1.5.0",
          "model_name": "HTMLModel",
          "state": {
            "_dom_classes": [],
            "_model_module": "@jupyter-widgets/controls",
            "_model_module_version": "1.5.0",
            "_model_name": "HTMLModel",
            "_view_count": null,
            "_view_module": "@jupyter-widgets/controls",
            "_view_module_version": "1.5.0",
            "_view_name": "HTMLView",
            "description": "",
            "description_tooltip": null,
            "layout": "IPY_MODEL_a74bde1395d94b91a62462a2bfef18d0",
            "placeholder": "​",
            "style": "IPY_MODEL_efe4a37335ab477286221a2f491bd030",
            "value": "Resolving data files: 100%"
          }
        },
        "530c9649b4c94772ba65971eb1fc325d": {
          "model_module": "@jupyter-widgets/controls",
          "model_module_version": "1.5.0",
          "model_name": "ProgressStyleModel",
          "state": {
            "_model_module": "@jupyter-widgets/controls",
            "_model_module_version": "1.5.0",
            "_model_name": "ProgressStyleModel",
            "_view_count": null,
            "_view_module": "@jupyter-widgets/base",
            "_view_module_version": "1.2.0",
            "_view_name": "StyleView",
            "bar_color": null,
            "description_width": ""
          }
        },
        "5bb6a2a1b0ed43e1bdb05f67239b1a4a": {
          "model_module": "@jupyter-widgets/controls",
          "model_module_version": "1.5.0",
          "model_name": "HBoxModel",
          "state": {
            "_dom_classes": [],
            "_model_module": "@jupyter-widgets/controls",
            "_model_module_version": "1.5.0",
            "_model_name": "HBoxModel",
            "_view_count": null,
            "_view_module": "@jupyter-widgets/controls",
            "_view_module_version": "1.5.0",
            "_view_name": "HBoxView",
            "box_style": "",
            "children": [
              "IPY_MODEL_4913775cee374af5a0c966a7af9ac87d",
              "IPY_MODEL_da8a3b1279fb479696f7b7a22e533e39",
              "IPY_MODEL_02951bccebd242ac8ee5a12c65b9e14d"
            ],
            "layout": "IPY_MODEL_00ca247fcdda49d99b8d161306bf6d61"
          }
        },
        "6c2367bd3b1b4c4aa5dc588417bdfadf": {
          "model_module": "@jupyter-widgets/base",
          "model_module_version": "1.2.0",
          "model_name": "LayoutModel",
          "state": {
            "_model_module": "@jupyter-widgets/base",
            "_model_module_version": "1.2.0",
            "_model_name": "LayoutModel",
            "_view_count": null,
            "_view_module": "@jupyter-widgets/base",
            "_view_module_version": "1.2.0",
            "_view_name": "LayoutView",
            "align_content": null,
            "align_items": null,
            "align_self": null,
            "border": null,
            "bottom": null,
            "display": null,
            "flex": null,
            "flex_flow": null,
            "grid_area": null,
            "grid_auto_columns": null,
            "grid_auto_flow": null,
            "grid_auto_rows": null,
            "grid_column": null,
            "grid_gap": null,
            "grid_row": null,
            "grid_template_areas": null,
            "grid_template_columns": null,
            "grid_template_rows": null,
            "height": null,
            "justify_content": null,
            "justify_items": null,
            "left": null,
            "margin": null,
            "max_height": null,
            "max_width": null,
            "min_height": null,
            "min_width": null,
            "object_fit": null,
            "object_position": null,
            "order": null,
            "overflow": null,
            "overflow_x": null,
            "overflow_y": null,
            "padding": null,
            "right": null,
            "top": null,
            "visibility": null,
            "width": null
          }
        },
        "6e6118f4c75248efb90f9576e198b88d": {
          "model_module": "@jupyter-widgets/controls",
          "model_module_version": "1.5.0",
          "model_name": "HTMLModel",
          "state": {
            "_dom_classes": [],
            "_model_module": "@jupyter-widgets/controls",
            "_model_module_version": "1.5.0",
            "_model_name": "HTMLModel",
            "_view_count": null,
            "_view_module": "@jupyter-widgets/controls",
            "_view_module_version": "1.5.0",
            "_view_name": "HTMLView",
            "description": "",
            "description_tooltip": null,
            "layout": "IPY_MODEL_baf6018323d841fe9fda951013ca1920",
            "placeholder": "​",
            "style": "IPY_MODEL_ff0a7d6bf9be4e88ac50e7fd6fa6f230",
            "value": "Generating train split: "
          }
        },
        "6efe850a258d4f079c3a9b6688ba9456": {
          "model_module": "@jupyter-widgets/base",
          "model_module_version": "1.2.0",
          "model_name": "LayoutModel",
          "state": {
            "_model_module": "@jupyter-widgets/base",
            "_model_module_version": "1.2.0",
            "_model_name": "LayoutModel",
            "_view_count": null,
            "_view_module": "@jupyter-widgets/base",
            "_view_module_version": "1.2.0",
            "_view_name": "LayoutView",
            "align_content": null,
            "align_items": null,
            "align_self": null,
            "border": null,
            "bottom": null,
            "display": null,
            "flex": null,
            "flex_flow": null,
            "grid_area": null,
            "grid_auto_columns": null,
            "grid_auto_flow": null,
            "grid_auto_rows": null,
            "grid_column": null,
            "grid_gap": null,
            "grid_row": null,
            "grid_template_areas": null,
            "grid_template_columns": null,
            "grid_template_rows": null,
            "height": null,
            "justify_content": null,
            "justify_items": null,
            "left": null,
            "margin": null,
            "max_height": null,
            "max_width": null,
            "min_height": null,
            "min_width": null,
            "object_fit": null,
            "object_position": null,
            "order": null,
            "overflow": null,
            "overflow_x": null,
            "overflow_y": null,
            "padding": null,
            "right": null,
            "top": null,
            "visibility": null,
            "width": null
          }
        },
        "a74bde1395d94b91a62462a2bfef18d0": {
          "model_module": "@jupyter-widgets/base",
          "model_module_version": "1.2.0",
          "model_name": "LayoutModel",
          "state": {
            "_model_module": "@jupyter-widgets/base",
            "_model_module_version": "1.2.0",
            "_model_name": "LayoutModel",
            "_view_count": null,
            "_view_module": "@jupyter-widgets/base",
            "_view_module_version": "1.2.0",
            "_view_name": "LayoutView",
            "align_content": null,
            "align_items": null,
            "align_self": null,
            "border": null,
            "bottom": null,
            "display": null,
            "flex": null,
            "flex_flow": null,
            "grid_area": null,
            "grid_auto_columns": null,
            "grid_auto_flow": null,
            "grid_auto_rows": null,
            "grid_column": null,
            "grid_gap": null,
            "grid_row": null,
            "grid_template_areas": null,
            "grid_template_columns": null,
            "grid_template_rows": null,
            "height": null,
            "justify_content": null,
            "justify_items": null,
            "left": null,
            "margin": null,
            "max_height": null,
            "max_width": null,
            "min_height": null,
            "min_width": null,
            "object_fit": null,
            "object_position": null,
            "order": null,
            "overflow": null,
            "overflow_x": null,
            "overflow_y": null,
            "padding": null,
            "right": null,
            "top": null,
            "visibility": null,
            "width": null
          }
        },
        "b9ec49ccfd464c20b643b91843266cea": {
          "model_module": "@jupyter-widgets/base",
          "model_module_version": "1.2.0",
          "model_name": "LayoutModel",
          "state": {
            "_model_module": "@jupyter-widgets/base",
            "_model_module_version": "1.2.0",
            "_model_name": "LayoutModel",
            "_view_count": null,
            "_view_module": "@jupyter-widgets/base",
            "_view_module_version": "1.2.0",
            "_view_name": "LayoutView",
            "align_content": null,
            "align_items": null,
            "align_self": null,
            "border": null,
            "bottom": null,
            "display": null,
            "flex": null,
            "flex_flow": null,
            "grid_area": null,
            "grid_auto_columns": null,
            "grid_auto_flow": null,
            "grid_auto_rows": null,
            "grid_column": null,
            "grid_gap": null,
            "grid_row": null,
            "grid_template_areas": null,
            "grid_template_columns": null,
            "grid_template_rows": null,
            "height": null,
            "justify_content": null,
            "justify_items": null,
            "left": null,
            "margin": null,
            "max_height": null,
            "max_width": null,
            "min_height": null,
            "min_width": null,
            "object_fit": null,
            "object_position": null,
            "order": null,
            "overflow": null,
            "overflow_x": null,
            "overflow_y": null,
            "padding": null,
            "right": null,
            "top": null,
            "visibility": null,
            "width": null
          }
        },
        "baf6018323d841fe9fda951013ca1920": {
          "model_module": "@jupyter-widgets/base",
          "model_module_version": "1.2.0",
          "model_name": "LayoutModel",
          "state": {
            "_model_module": "@jupyter-widgets/base",
            "_model_module_version": "1.2.0",
            "_model_name": "LayoutModel",
            "_view_count": null,
            "_view_module": "@jupyter-widgets/base",
            "_view_module_version": "1.2.0",
            "_view_name": "LayoutView",
            "align_content": null,
            "align_items": null,
            "align_self": null,
            "border": null,
            "bottom": null,
            "display": null,
            "flex": null,
            "flex_flow": null,
            "grid_area": null,
            "grid_auto_columns": null,
            "grid_auto_flow": null,
            "grid_auto_rows": null,
            "grid_column": null,
            "grid_gap": null,
            "grid_row": null,
            "grid_template_areas": null,
            "grid_template_columns": null,
            "grid_template_rows": null,
            "height": null,
            "justify_content": null,
            "justify_items": null,
            "left": null,
            "margin": null,
            "max_height": null,
            "max_width": null,
            "min_height": null,
            "min_width": null,
            "object_fit": null,
            "object_position": null,
            "order": null,
            "overflow": null,
            "overflow_x": null,
            "overflow_y": null,
            "padding": null,
            "right": null,
            "top": null,
            "visibility": null,
            "width": null
          }
        },
        "d54033b56dfe4ebd81a77f816699bc45": {
          "model_module": "@jupyter-widgets/base",
          "model_module_version": "1.2.0",
          "model_name": "LayoutModel",
          "state": {
            "_model_module": "@jupyter-widgets/base",
            "_model_module_version": "1.2.0",
            "_model_name": "LayoutModel",
            "_view_count": null,
            "_view_module": "@jupyter-widgets/base",
            "_view_module_version": "1.2.0",
            "_view_name": "LayoutView",
            "align_content": null,
            "align_items": null,
            "align_self": null,
            "border": null,
            "bottom": null,
            "display": null,
            "flex": null,
            "flex_flow": null,
            "grid_area": null,
            "grid_auto_columns": null,
            "grid_auto_flow": null,
            "grid_auto_rows": null,
            "grid_column": null,
            "grid_gap": null,
            "grid_row": null,
            "grid_template_areas": null,
            "grid_template_columns": null,
            "grid_template_rows": null,
            "height": null,
            "justify_content": null,
            "justify_items": null,
            "left": null,
            "margin": null,
            "max_height": null,
            "max_width": null,
            "min_height": null,
            "min_width": null,
            "object_fit": null,
            "object_position": null,
            "order": null,
            "overflow": null,
            "overflow_x": null,
            "overflow_y": null,
            "padding": null,
            "right": null,
            "top": null,
            "visibility": null,
            "width": "20px"
          }
        },
        "da8a3b1279fb479696f7b7a22e533e39": {
          "model_module": "@jupyter-widgets/controls",
          "model_module_version": "1.5.0",
          "model_name": "FloatProgressModel",
          "state": {
            "_dom_classes": [],
            "_model_module": "@jupyter-widgets/controls",
            "_model_module_version": "1.5.0",
            "_model_name": "FloatProgressModel",
            "_view_count": null,
            "_view_module": "@jupyter-widgets/controls",
            "_view_module_version": "1.5.0",
            "_view_name": "ProgressView",
            "bar_style": "success",
            "description": "",
            "description_tooltip": null,
            "layout": "IPY_MODEL_6efe850a258d4f079c3a9b6688ba9456",
            "max": 121,
            "min": 0,
            "orientation": "horizontal",
            "style": "IPY_MODEL_530c9649b4c94772ba65971eb1fc325d",
            "value": 121
          }
        },
        "dbbffaeef83449e99ae2c19628366f53": {
          "model_module": "@jupyter-widgets/controls",
          "model_module_version": "1.5.0",
          "model_name": "ProgressStyleModel",
          "state": {
            "_model_module": "@jupyter-widgets/controls",
            "_model_module_version": "1.5.0",
            "_model_name": "ProgressStyleModel",
            "_view_count": null,
            "_view_module": "@jupyter-widgets/base",
            "_view_module_version": "1.2.0",
            "_view_name": "StyleView",
            "bar_color": null,
            "description_width": ""
          }
        },
        "e85a694fd99f45bf877e73d60072bc94": {
          "model_module": "@jupyter-widgets/controls",
          "model_module_version": "1.5.0",
          "model_name": "HTMLModel",
          "state": {
            "_dom_classes": [],
            "_model_module": "@jupyter-widgets/controls",
            "_model_module_version": "1.5.0",
            "_model_name": "HTMLModel",
            "_view_count": null,
            "_view_module": "@jupyter-widgets/controls",
            "_view_module_version": "1.5.0",
            "_view_name": "HTMLView",
            "description": "",
            "description_tooltip": null,
            "layout": "IPY_MODEL_fecf10442c0d4e87ae84b748ff2f758a",
            "placeholder": "​",
            "style": "IPY_MODEL_4068edfb718e4e35a8fca0212e0ba65f",
            "value": " 120/0 [00:00&lt;00:00, 1006.09 examples/s]"
          }
        },
        "efe4a37335ab477286221a2f491bd030": {
          "model_module": "@jupyter-widgets/controls",
          "model_module_version": "1.5.0",
          "model_name": "DescriptionStyleModel",
          "state": {
            "_model_module": "@jupyter-widgets/controls",
            "_model_module_version": "1.5.0",
            "_model_name": "DescriptionStyleModel",
            "_view_count": null,
            "_view_module": "@jupyter-widgets/base",
            "_view_module_version": "1.2.0",
            "_view_name": "StyleView",
            "description_width": ""
          }
        },
        "fecf10442c0d4e87ae84b748ff2f758a": {
          "model_module": "@jupyter-widgets/base",
          "model_module_version": "1.2.0",
          "model_name": "LayoutModel",
          "state": {
            "_model_module": "@jupyter-widgets/base",
            "_model_module_version": "1.2.0",
            "_model_name": "LayoutModel",
            "_view_count": null,
            "_view_module": "@jupyter-widgets/base",
            "_view_module_version": "1.2.0",
            "_view_name": "LayoutView",
            "align_content": null,
            "align_items": null,
            "align_self": null,
            "border": null,
            "bottom": null,
            "display": null,
            "flex": null,
            "flex_flow": null,
            "grid_area": null,
            "grid_auto_columns": null,
            "grid_auto_flow": null,
            "grid_auto_rows": null,
            "grid_column": null,
            "grid_gap": null,
            "grid_row": null,
            "grid_template_areas": null,
            "grid_template_columns": null,
            "grid_template_rows": null,
            "height": null,
            "justify_content": null,
            "justify_items": null,
            "left": null,
            "margin": null,
            "max_height": null,
            "max_width": null,
            "min_height": null,
            "min_width": null,
            "object_fit": null,
            "object_position": null,
            "order": null,
            "overflow": null,
            "overflow_x": null,
            "overflow_y": null,
            "padding": null,
            "right": null,
            "top": null,
            "visibility": null,
            "width": null
          }
        },
        "ff0a7d6bf9be4e88ac50e7fd6fa6f230": {
          "model_module": "@jupyter-widgets/controls",
          "model_module_version": "1.5.0",
          "model_name": "DescriptionStyleModel",
          "state": {
            "_model_module": "@jupyter-widgets/controls",
            "_model_module_version": "1.5.0",
            "_model_name": "DescriptionStyleModel",
            "_view_count": null,
            "_view_module": "@jupyter-widgets/base",
            "_view_module_version": "1.2.0",
            "_view_name": "StyleView",
            "description_width": ""
          }
        },
        "ea7de7067e824091bd37bc0e5be7d7a1": {
          "model_module": "@jupyter-widgets/controls",
          "model_name": "HBoxModel",
          "model_module_version": "1.5.0",
          "state": {
            "_dom_classes": [],
            "_model_module": "@jupyter-widgets/controls",
            "_model_module_version": "1.5.0",
            "_model_name": "HBoxModel",
            "_view_count": null,
            "_view_module": "@jupyter-widgets/controls",
            "_view_module_version": "1.5.0",
            "_view_name": "HBoxView",
            "box_style": "",
            "children": [
              "IPY_MODEL_4d2c1782a6c241889be95e4097bec5c4",
              "IPY_MODEL_1c4293374f314f9c8fac67d92ec539e5",
              "IPY_MODEL_ac9e771cc81b47eaa3ab27615d1d6667"
            ],
            "layout": "IPY_MODEL_de7707d707f147e98ea6e8ed62c9cea8"
          }
        },
        "4d2c1782a6c241889be95e4097bec5c4": {
          "model_module": "@jupyter-widgets/controls",
          "model_name": "HTMLModel",
          "model_module_version": "1.5.0",
          "state": {
            "_dom_classes": [],
            "_model_module": "@jupyter-widgets/controls",
            "_model_module_version": "1.5.0",
            "_model_name": "HTMLModel",
            "_view_count": null,
            "_view_module": "@jupyter-widgets/controls",
            "_view_module_version": "1.5.0",
            "_view_name": "HTMLView",
            "description": "",
            "description_tooltip": null,
            "layout": "IPY_MODEL_f1484917d8c24519943ef09970b55663",
            "placeholder": "​",
            "style": "IPY_MODEL_6136b675ab0547a6ad1b321fd08cdfcf",
            "value": "Resolving data files: 100%"
          }
        },
        "1c4293374f314f9c8fac67d92ec539e5": {
          "model_module": "@jupyter-widgets/controls",
          "model_name": "FloatProgressModel",
          "model_module_version": "1.5.0",
          "state": {
            "_dom_classes": [],
            "_model_module": "@jupyter-widgets/controls",
            "_model_module_version": "1.5.0",
            "_model_name": "FloatProgressModel",
            "_view_count": null,
            "_view_module": "@jupyter-widgets/controls",
            "_view_module_version": "1.5.0",
            "_view_name": "ProgressView",
            "bar_style": "success",
            "description": "",
            "description_tooltip": null,
            "layout": "IPY_MODEL_34024eb24568467a9a6e7b36ee98d372",
            "max": 325,
            "min": 0,
            "orientation": "horizontal",
            "style": "IPY_MODEL_3e5cf98ec68143f9b3ca07e8910418a5",
            "value": 325
          }
        },
        "ac9e771cc81b47eaa3ab27615d1d6667": {
          "model_module": "@jupyter-widgets/controls",
          "model_name": "HTMLModel",
          "model_module_version": "1.5.0",
          "state": {
            "_dom_classes": [],
            "_model_module": "@jupyter-widgets/controls",
            "_model_module_version": "1.5.0",
            "_model_name": "HTMLModel",
            "_view_count": null,
            "_view_module": "@jupyter-widgets/controls",
            "_view_module_version": "1.5.0",
            "_view_name": "HTMLView",
            "description": "",
            "description_tooltip": null,
            "layout": "IPY_MODEL_b61eeb51640b4ec6b29366f99bcdf3bf",
            "placeholder": "​",
            "style": "IPY_MODEL_83b3804f80ca4f4bb7f22844b9a37a42",
            "value": " 325/325 [00:00&lt;00:00, 5882.56it/s]"
          }
        },
        "de7707d707f147e98ea6e8ed62c9cea8": {
          "model_module": "@jupyter-widgets/base",
          "model_name": "LayoutModel",
          "model_module_version": "1.2.0",
          "state": {
            "_model_module": "@jupyter-widgets/base",
            "_model_module_version": "1.2.0",
            "_model_name": "LayoutModel",
            "_view_count": null,
            "_view_module": "@jupyter-widgets/base",
            "_view_module_version": "1.2.0",
            "_view_name": "LayoutView",
            "align_content": null,
            "align_items": null,
            "align_self": null,
            "border": null,
            "bottom": null,
            "display": null,
            "flex": null,
            "flex_flow": null,
            "grid_area": null,
            "grid_auto_columns": null,
            "grid_auto_flow": null,
            "grid_auto_rows": null,
            "grid_column": null,
            "grid_gap": null,
            "grid_row": null,
            "grid_template_areas": null,
            "grid_template_columns": null,
            "grid_template_rows": null,
            "height": null,
            "justify_content": null,
            "justify_items": null,
            "left": null,
            "margin": null,
            "max_height": null,
            "max_width": null,
            "min_height": null,
            "min_width": null,
            "object_fit": null,
            "object_position": null,
            "order": null,
            "overflow": null,
            "overflow_x": null,
            "overflow_y": null,
            "padding": null,
            "right": null,
            "top": null,
            "visibility": null,
            "width": null
          }
        },
        "f1484917d8c24519943ef09970b55663": {
          "model_module": "@jupyter-widgets/base",
          "model_name": "LayoutModel",
          "model_module_version": "1.2.0",
          "state": {
            "_model_module": "@jupyter-widgets/base",
            "_model_module_version": "1.2.0",
            "_model_name": "LayoutModel",
            "_view_count": null,
            "_view_module": "@jupyter-widgets/base",
            "_view_module_version": "1.2.0",
            "_view_name": "LayoutView",
            "align_content": null,
            "align_items": null,
            "align_self": null,
            "border": null,
            "bottom": null,
            "display": null,
            "flex": null,
            "flex_flow": null,
            "grid_area": null,
            "grid_auto_columns": null,
            "grid_auto_flow": null,
            "grid_auto_rows": null,
            "grid_column": null,
            "grid_gap": null,
            "grid_row": null,
            "grid_template_areas": null,
            "grid_template_columns": null,
            "grid_template_rows": null,
            "height": null,
            "justify_content": null,
            "justify_items": null,
            "left": null,
            "margin": null,
            "max_height": null,
            "max_width": null,
            "min_height": null,
            "min_width": null,
            "object_fit": null,
            "object_position": null,
            "order": null,
            "overflow": null,
            "overflow_x": null,
            "overflow_y": null,
            "padding": null,
            "right": null,
            "top": null,
            "visibility": null,
            "width": null
          }
        },
        "6136b675ab0547a6ad1b321fd08cdfcf": {
          "model_module": "@jupyter-widgets/controls",
          "model_name": "DescriptionStyleModel",
          "model_module_version": "1.5.0",
          "state": {
            "_model_module": "@jupyter-widgets/controls",
            "_model_module_version": "1.5.0",
            "_model_name": "DescriptionStyleModel",
            "_view_count": null,
            "_view_module": "@jupyter-widgets/base",
            "_view_module_version": "1.2.0",
            "_view_name": "StyleView",
            "description_width": ""
          }
        },
        "34024eb24568467a9a6e7b36ee98d372": {
          "model_module": "@jupyter-widgets/base",
          "model_name": "LayoutModel",
          "model_module_version": "1.2.0",
          "state": {
            "_model_module": "@jupyter-widgets/base",
            "_model_module_version": "1.2.0",
            "_model_name": "LayoutModel",
            "_view_count": null,
            "_view_module": "@jupyter-widgets/base",
            "_view_module_version": "1.2.0",
            "_view_name": "LayoutView",
            "align_content": null,
            "align_items": null,
            "align_self": null,
            "border": null,
            "bottom": null,
            "display": null,
            "flex": null,
            "flex_flow": null,
            "grid_area": null,
            "grid_auto_columns": null,
            "grid_auto_flow": null,
            "grid_auto_rows": null,
            "grid_column": null,
            "grid_gap": null,
            "grid_row": null,
            "grid_template_areas": null,
            "grid_template_columns": null,
            "grid_template_rows": null,
            "height": null,
            "justify_content": null,
            "justify_items": null,
            "left": null,
            "margin": null,
            "max_height": null,
            "max_width": null,
            "min_height": null,
            "min_width": null,
            "object_fit": null,
            "object_position": null,
            "order": null,
            "overflow": null,
            "overflow_x": null,
            "overflow_y": null,
            "padding": null,
            "right": null,
            "top": null,
            "visibility": null,
            "width": null
          }
        },
        "3e5cf98ec68143f9b3ca07e8910418a5": {
          "model_module": "@jupyter-widgets/controls",
          "model_name": "ProgressStyleModel",
          "model_module_version": "1.5.0",
          "state": {
            "_model_module": "@jupyter-widgets/controls",
            "_model_module_version": "1.5.0",
            "_model_name": "ProgressStyleModel",
            "_view_count": null,
            "_view_module": "@jupyter-widgets/base",
            "_view_module_version": "1.2.0",
            "_view_name": "StyleView",
            "bar_color": null,
            "description_width": ""
          }
        },
        "b61eeb51640b4ec6b29366f99bcdf3bf": {
          "model_module": "@jupyter-widgets/base",
          "model_name": "LayoutModel",
          "model_module_version": "1.2.0",
          "state": {
            "_model_module": "@jupyter-widgets/base",
            "_model_module_version": "1.2.0",
            "_model_name": "LayoutModel",
            "_view_count": null,
            "_view_module": "@jupyter-widgets/base",
            "_view_module_version": "1.2.0",
            "_view_name": "LayoutView",
            "align_content": null,
            "align_items": null,
            "align_self": null,
            "border": null,
            "bottom": null,
            "display": null,
            "flex": null,
            "flex_flow": null,
            "grid_area": null,
            "grid_auto_columns": null,
            "grid_auto_flow": null,
            "grid_auto_rows": null,
            "grid_column": null,
            "grid_gap": null,
            "grid_row": null,
            "grid_template_areas": null,
            "grid_template_columns": null,
            "grid_template_rows": null,
            "height": null,
            "justify_content": null,
            "justify_items": null,
            "left": null,
            "margin": null,
            "max_height": null,
            "max_width": null,
            "min_height": null,
            "min_width": null,
            "object_fit": null,
            "object_position": null,
            "order": null,
            "overflow": null,
            "overflow_x": null,
            "overflow_y": null,
            "padding": null,
            "right": null,
            "top": null,
            "visibility": null,
            "width": null
          }
        },
        "83b3804f80ca4f4bb7f22844b9a37a42": {
          "model_module": "@jupyter-widgets/controls",
          "model_name": "DescriptionStyleModel",
          "model_module_version": "1.5.0",
          "state": {
            "_model_module": "@jupyter-widgets/controls",
            "_model_module_version": "1.5.0",
            "_model_name": "DescriptionStyleModel",
            "_view_count": null,
            "_view_module": "@jupyter-widgets/base",
            "_view_module_version": "1.2.0",
            "_view_name": "StyleView",
            "description_width": ""
          }
        }
      }
    }
  },
  "nbformat": 4,
  "nbformat_minor": 0
}